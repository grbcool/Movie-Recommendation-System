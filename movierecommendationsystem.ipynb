{
 "cells": [
  {
   "cell_type": "markdown",
   "metadata": {
    "id": "03odpOXAF0cq"
   },
   "source": [
    "<a></a>\n",
    "# Import Libraries"
   ]
  },
  {
   "cell_type": "code",
   "execution_count": 1,
   "metadata": {
    "execution": {
     "iopub.execute_input": "2022-12-27T11:13:49.525775Z",
     "iopub.status.busy": "2022-12-27T11:13:49.524910Z",
     "iopub.status.idle": "2022-12-27T11:13:57.645910Z",
     "shell.execute_reply": "2022-12-27T11:13:57.644174Z",
     "shell.execute_reply.started": "2022-12-27T11:13:49.525592Z"
    },
    "id": "ykaseBGxIY7M"
   },
   "outputs": [],
   "source": [
    "import pandas as pd\n",
    "import matplotlib.pyplot as plt\n",
    "import pickle\n",
    "import warnings\n",
    "warnings.filterwarnings(\"ignore\")\n",
    "import numpy as np\n",
    "import numpy.ma as ma\n",
    "import os\n",
    "import gc\n",
    "import seaborn as sns\n",
    "from scipy import sparse\n",
    "\n",
    "import tensorflow as tf\n",
    "\n",
    "from sklearn.preprocessing import MultiLabelBinarizer\n",
    "from sklearn.preprocessing import StandardScaler, MinMaxScaler, MaxAbsScaler\n",
    "from sklearn.model_selection import train_test_split\n",
    "from sklearn.metrics import r2_score,mean_absolute_percentage_error, mean_squared_error\n",
    "\n",
    "from sklearn.metrics.pairwise import cosine_similarity"
   ]
  },
  {
   "cell_type": "code",
   "execution_count": 2,
   "metadata": {
    "execution": {
     "iopub.execute_input": "2022-12-27T11:13:57.650102Z",
     "iopub.status.busy": "2022-12-27T11:13:57.648544Z",
     "iopub.status.idle": "2022-12-27T11:13:57.655301Z",
     "shell.execute_reply": "2022-12-27T11:13:57.653775Z",
     "shell.execute_reply.started": "2022-12-27T11:13:57.650023Z"
    },
    "id": "Uuva0BZRBadq"
   },
   "outputs": [],
   "source": [
    "#path to dataset in google drive\n",
    "data_path = \"/kaggle/input/movielensml-latest27m/Movie Recommendation System-20221208T132444Z-001/Movie Recommendation System\"\n"
   ]
  },
  {
   "cell_type": "markdown",
   "metadata": {
    "id": "89IYujTXF4sw"
   },
   "source": [
    "<a></a>\n",
    "# Import Data"
   ]
  },
  {
   "cell_type": "markdown",
   "metadata": {
    "id": "OmqKm5PpP4Vd"
   },
   "source": [
    "1. Dataset (ml-latest) from MovieLens, a movie recommendation service, describes 5-star rating and free-text tagging activity. \n",
    "\n",
    "2. It contains 27.7M ratings and 1.1M tag applications across 58098 movies. These data were created by 283228 users between January 09, 1995 and September 26, 2018\n",
    "\n",
    "3. Ratings are made on a 5-star scale, with half-star increments (0.5 stars - 5.0 stars).\n",
    "\n",
    "4. Timestamps represent seconds since midnight Coordinated Universal Time (UTC) of January 1, 1970.\n",
    "\n",
    "5. Only movies with at least one rating or tag are included in the dataset.\n",
    "6.  These movie ids are consistent with those used on the MovieLens web site (e.g., id 1 corresponds to the URL https://movielens.org/movies/1)."
   ]
  },
  {
   "cell_type": "code",
   "execution_count": 5,
   "metadata": {
    "execution": {
     "iopub.execute_input": "2022-12-26T07:24:53.910524Z",
     "iopub.status.busy": "2022-12-26T07:24:53.909601Z",
     "iopub.status.idle": "2022-12-26T07:25:10.283914Z",
     "shell.execute_reply": "2022-12-26T07:25:10.281936Z",
     "shell.execute_reply.started": "2022-12-26T07:24:53.910481Z"
    },
    "id": "4Nw5fTRYNpDO",
    "outputId": "b6728ef0-7ab8-476e-a5d9-2ea318d36ac3"
   },
   "outputs": [
    {
     "data": {
      "text/html": [
       "<div>\n",
       "<style scoped>\n",
       "    .dataframe tbody tr th:only-of-type {\n",
       "        vertical-align: middle;\n",
       "    }\n",
       "\n",
       "    .dataframe tbody tr th {\n",
       "        vertical-align: top;\n",
       "    }\n",
       "\n",
       "    .dataframe thead th {\n",
       "        text-align: right;\n",
       "    }\n",
       "</style>\n",
       "<table border=\"1\" class=\"dataframe\">\n",
       "  <thead>\n",
       "    <tr style=\"text-align: right;\">\n",
       "      <th></th>\n",
       "      <th>userId</th>\n",
       "      <th>movieId</th>\n",
       "      <th>rating</th>\n",
       "      <th>timestamp</th>\n",
       "    </tr>\n",
       "  </thead>\n",
       "  <tbody>\n",
       "    <tr>\n",
       "      <th>0</th>\n",
       "      <td>1</td>\n",
       "      <td>307</td>\n",
       "      <td>3.5</td>\n",
       "      <td>1256677221</td>\n",
       "    </tr>\n",
       "    <tr>\n",
       "      <th>1</th>\n",
       "      <td>1</td>\n",
       "      <td>481</td>\n",
       "      <td>3.5</td>\n",
       "      <td>1256677456</td>\n",
       "    </tr>\n",
       "    <tr>\n",
       "      <th>2</th>\n",
       "      <td>1</td>\n",
       "      <td>1091</td>\n",
       "      <td>1.5</td>\n",
       "      <td>1256677471</td>\n",
       "    </tr>\n",
       "    <tr>\n",
       "      <th>3</th>\n",
       "      <td>1</td>\n",
       "      <td>1257</td>\n",
       "      <td>4.5</td>\n",
       "      <td>1256677460</td>\n",
       "    </tr>\n",
       "    <tr>\n",
       "      <th>4</th>\n",
       "      <td>1</td>\n",
       "      <td>1449</td>\n",
       "      <td>4.5</td>\n",
       "      <td>1256677264</td>\n",
       "    </tr>\n",
       "  </tbody>\n",
       "</table>\n",
       "</div>"
      ],
      "text/plain": [
       "   userId  movieId  rating   timestamp\n",
       "0       1      307     3.5  1256677221\n",
       "1       1      481     3.5  1256677456\n",
       "2       1     1091     1.5  1256677471\n",
       "3       1     1257     4.5  1256677460\n",
       "4       1     1449     4.5  1256677264"
      ]
     },
     "execution_count": 5,
     "metadata": {},
     "output_type": "execute_result"
    }
   ],
   "source": [
    "ratings_df = pd.read_csv(os.path.join(data_path,\"ratings.csv\"), encoding='utf-8', escapechar='\"')\n",
    "ratings_df.head()"
   ]
  },
  {
   "cell_type": "code",
   "execution_count": 9,
   "metadata": {
    "execution": {
     "iopub.execute_input": "2022-12-20T15:55:25.112559Z",
     "iopub.status.busy": "2022-12-20T15:55:25.112092Z",
     "iopub.status.idle": "2022-12-20T15:55:25.120134Z",
     "shell.execute_reply": "2022-12-20T15:55:25.118996Z",
     "shell.execute_reply.started": "2022-12-20T15:55:25.112526Z"
    },
    "id": "Rb5Wj8MfPUdG",
    "outputId": "79824ae2-946d-48af-dd04-8362fa1bf591"
   },
   "outputs": [
    {
     "name": "stdout",
     "output_type": "stream",
     "text": [
      "shape of ratings_df:  (27753444, 4)\n"
     ]
    }
   ],
   "source": [
    "print(\"shape of ratings_df: \",ratings_df.shape)"
   ]
  },
  {
   "cell_type": "code",
   "execution_count": 10,
   "metadata": {
    "execution": {
     "iopub.execute_input": "2022-12-20T15:55:25.122691Z",
     "iopub.status.busy": "2022-12-20T15:55:25.121580Z",
     "iopub.status.idle": "2022-12-20T15:55:26.436930Z",
     "shell.execute_reply": "2022-12-20T15:55:26.435649Z",
     "shell.execute_reply.started": "2022-12-20T15:55:25.122655Z"
    },
    "id": "X2DlB_LgPrpn",
    "outputId": "6e7a33c8-2465-46cb-92fa-2236e80385c6"
   },
   "outputs": [
    {
     "name": "stdout",
     "output_type": "stream",
     "text": [
      "shape of tags_df:  (1108997, 4) \n",
      "\n"
     ]
    },
    {
     "data": {
      "text/html": [
       "<div>\n",
       "<style scoped>\n",
       "    .dataframe tbody tr th:only-of-type {\n",
       "        vertical-align: middle;\n",
       "    }\n",
       "\n",
       "    .dataframe tbody tr th {\n",
       "        vertical-align: top;\n",
       "    }\n",
       "\n",
       "    .dataframe thead th {\n",
       "        text-align: right;\n",
       "    }\n",
       "</style>\n",
       "<table border=\"1\" class=\"dataframe\">\n",
       "  <thead>\n",
       "    <tr style=\"text-align: right;\">\n",
       "      <th></th>\n",
       "      <th>userId</th>\n",
       "      <th>movieId</th>\n",
       "      <th>tag</th>\n",
       "      <th>timestamp</th>\n",
       "    </tr>\n",
       "  </thead>\n",
       "  <tbody>\n",
       "    <tr>\n",
       "      <th>0</th>\n",
       "      <td>14</td>\n",
       "      <td>110</td>\n",
       "      <td>epic</td>\n",
       "      <td>1443148538</td>\n",
       "    </tr>\n",
       "    <tr>\n",
       "      <th>1</th>\n",
       "      <td>14</td>\n",
       "      <td>110</td>\n",
       "      <td>Medieval</td>\n",
       "      <td>1443148532</td>\n",
       "    </tr>\n",
       "    <tr>\n",
       "      <th>2</th>\n",
       "      <td>14</td>\n",
       "      <td>260</td>\n",
       "      <td>sci-fi</td>\n",
       "      <td>1442169410</td>\n",
       "    </tr>\n",
       "    <tr>\n",
       "      <th>3</th>\n",
       "      <td>14</td>\n",
       "      <td>260</td>\n",
       "      <td>space action</td>\n",
       "      <td>1442169421</td>\n",
       "    </tr>\n",
       "    <tr>\n",
       "      <th>4</th>\n",
       "      <td>14</td>\n",
       "      <td>318</td>\n",
       "      <td>imdb top 250</td>\n",
       "      <td>1442615195</td>\n",
       "    </tr>\n",
       "  </tbody>\n",
       "</table>\n",
       "</div>"
      ],
      "text/plain": [
       "   userId  movieId           tag   timestamp\n",
       "0      14      110          epic  1443148538\n",
       "1      14      110      Medieval  1443148532\n",
       "2      14      260        sci-fi  1442169410\n",
       "3      14      260  space action  1442169421\n",
       "4      14      318  imdb top 250  1442615195"
      ]
     },
     "execution_count": 10,
     "metadata": {},
     "output_type": "execute_result"
    }
   ],
   "source": [
    "tags_df = pd.read_csv(os.path.join(data_path,\"tags.csv\"), encoding='utf-8')\n",
    "print(\"shape of tags_df: \",tags_df.shape,\"\\n\")\n",
    "tags_df.head()"
   ]
  },
  {
   "cell_type": "markdown",
   "metadata": {
    "id": "RNNQyLJJSMBa"
   },
   "source": [
    "Tags are user-generated metadata about movies. Each tag is typically a single word or short phrase."
   ]
  },
  {
   "cell_type": "code",
   "execution_count": 6,
   "metadata": {
    "execution": {
     "iopub.execute_input": "2022-12-26T07:25:10.286215Z",
     "iopub.status.busy": "2022-12-26T07:25:10.285843Z",
     "iopub.status.idle": "2022-12-26T07:25:10.388958Z",
     "shell.execute_reply": "2022-12-26T07:25:10.387894Z",
     "shell.execute_reply.started": "2022-12-26T07:25:10.286148Z"
    },
    "id": "4dUn0qPPRZdp",
    "outputId": "3ed5780d-2432-441f-9fc2-64cabddd7f9c"
   },
   "outputs": [
    {
     "name": "stdout",
     "output_type": "stream",
     "text": [
      "shape of movies_df:  (58098, 3) \n",
      "\n"
     ]
    },
    {
     "data": {
      "text/html": [
       "<div>\n",
       "<style scoped>\n",
       "    .dataframe tbody tr th:only-of-type {\n",
       "        vertical-align: middle;\n",
       "    }\n",
       "\n",
       "    .dataframe tbody tr th {\n",
       "        vertical-align: top;\n",
       "    }\n",
       "\n",
       "    .dataframe thead th {\n",
       "        text-align: right;\n",
       "    }\n",
       "</style>\n",
       "<table border=\"1\" class=\"dataframe\">\n",
       "  <thead>\n",
       "    <tr style=\"text-align: right;\">\n",
       "      <th></th>\n",
       "      <th>movieId</th>\n",
       "      <th>title</th>\n",
       "      <th>genres</th>\n",
       "    </tr>\n",
       "  </thead>\n",
       "  <tbody>\n",
       "    <tr>\n",
       "      <th>0</th>\n",
       "      <td>1</td>\n",
       "      <td>Toy Story (1995)</td>\n",
       "      <td>Adventure|Animation|Children|Comedy|Fantasy</td>\n",
       "    </tr>\n",
       "    <tr>\n",
       "      <th>1</th>\n",
       "      <td>2</td>\n",
       "      <td>Jumanji (1995)</td>\n",
       "      <td>Adventure|Children|Fantasy</td>\n",
       "    </tr>\n",
       "    <tr>\n",
       "      <th>2</th>\n",
       "      <td>3</td>\n",
       "      <td>Grumpier Old Men (1995)</td>\n",
       "      <td>Comedy|Romance</td>\n",
       "    </tr>\n",
       "    <tr>\n",
       "      <th>3</th>\n",
       "      <td>4</td>\n",
       "      <td>Waiting to Exhale (1995)</td>\n",
       "      <td>Comedy|Drama|Romance</td>\n",
       "    </tr>\n",
       "    <tr>\n",
       "      <th>4</th>\n",
       "      <td>5</td>\n",
       "      <td>Father of the Bride Part II (1995)</td>\n",
       "      <td>Comedy</td>\n",
       "    </tr>\n",
       "  </tbody>\n",
       "</table>\n",
       "</div>"
      ],
      "text/plain": [
       "   movieId                               title  \\\n",
       "0        1                    Toy Story (1995)   \n",
       "1        2                      Jumanji (1995)   \n",
       "2        3             Grumpier Old Men (1995)   \n",
       "3        4            Waiting to Exhale (1995)   \n",
       "4        5  Father of the Bride Part II (1995)   \n",
       "\n",
       "                                        genres  \n",
       "0  Adventure|Animation|Children|Comedy|Fantasy  \n",
       "1                   Adventure|Children|Fantasy  \n",
       "2                               Comedy|Romance  \n",
       "3                         Comedy|Drama|Romance  \n",
       "4                                       Comedy  "
      ]
     },
     "execution_count": 6,
     "metadata": {},
     "output_type": "execute_result"
    }
   ],
   "source": [
    "movies_df = pd.read_csv(os.path.join(data_path,\"movies.csv\"), encoding='utf-8')\n",
    "print(\"shape of movies_df: \",movies_df.shape,\"\\n\")\n",
    "movies_df.head()"
   ]
  },
  {
   "cell_type": "code",
   "execution_count": 12,
   "metadata": {
    "execution": {
     "iopub.execute_input": "2022-12-20T15:55:26.570036Z",
     "iopub.status.busy": "2022-12-20T15:55:26.569683Z",
     "iopub.status.idle": "2022-12-20T15:55:26.622601Z",
     "shell.execute_reply": "2022-12-20T15:55:26.621603Z",
     "shell.execute_reply.started": "2022-12-20T15:55:26.570007Z"
    },
    "id": "DJpa0Z0vS-7p",
    "outputId": "58d582bf-6c4c-4a2f-9178-14d9916ca843"
   },
   "outputs": [
    {
     "name": "stdout",
     "output_type": "stream",
     "text": [
      "shape of tags_df:  (58098, 3) \n",
      "\n"
     ]
    },
    {
     "data": {
      "text/html": [
       "<div>\n",
       "<style scoped>\n",
       "    .dataframe tbody tr th:only-of-type {\n",
       "        vertical-align: middle;\n",
       "    }\n",
       "\n",
       "    .dataframe tbody tr th {\n",
       "        vertical-align: top;\n",
       "    }\n",
       "\n",
       "    .dataframe thead th {\n",
       "        text-align: right;\n",
       "    }\n",
       "</style>\n",
       "<table border=\"1\" class=\"dataframe\">\n",
       "  <thead>\n",
       "    <tr style=\"text-align: right;\">\n",
       "      <th></th>\n",
       "      <th>movieId</th>\n",
       "      <th>imdbId</th>\n",
       "      <th>tmdbId</th>\n",
       "    </tr>\n",
       "  </thead>\n",
       "  <tbody>\n",
       "    <tr>\n",
       "      <th>0</th>\n",
       "      <td>1</td>\n",
       "      <td>114709</td>\n",
       "      <td>862.0</td>\n",
       "    </tr>\n",
       "    <tr>\n",
       "      <th>1</th>\n",
       "      <td>2</td>\n",
       "      <td>113497</td>\n",
       "      <td>8844.0</td>\n",
       "    </tr>\n",
       "    <tr>\n",
       "      <th>2</th>\n",
       "      <td>3</td>\n",
       "      <td>113228</td>\n",
       "      <td>15602.0</td>\n",
       "    </tr>\n",
       "    <tr>\n",
       "      <th>3</th>\n",
       "      <td>4</td>\n",
       "      <td>114885</td>\n",
       "      <td>31357.0</td>\n",
       "    </tr>\n",
       "    <tr>\n",
       "      <th>4</th>\n",
       "      <td>5</td>\n",
       "      <td>113041</td>\n",
       "      <td>11862.0</td>\n",
       "    </tr>\n",
       "  </tbody>\n",
       "</table>\n",
       "</div>"
      ],
      "text/plain": [
       "   movieId  imdbId   tmdbId\n",
       "0        1  114709    862.0\n",
       "1        2  113497   8844.0\n",
       "2        3  113228  15602.0\n",
       "3        4  114885  31357.0\n",
       "4        5  113041  11862.0"
      ]
     },
     "execution_count": 12,
     "metadata": {},
     "output_type": "execute_result"
    }
   ],
   "source": [
    "links_df = pd.read_csv(os.path.join(data_path,\"links.csv\"), encoding='utf-8')\n",
    "print(\"shape of tags_df: \",links_df.shape,\"\\n\")\n",
    "links_df.head()"
   ]
  },
  {
   "cell_type": "code",
   "execution_count": 13,
   "metadata": {
    "execution": {
     "iopub.execute_input": "2022-12-20T15:55:26.625271Z",
     "iopub.status.busy": "2022-12-20T15:55:26.624468Z",
     "iopub.status.idle": "2022-12-20T15:55:26.648838Z",
     "shell.execute_reply": "2022-12-20T15:55:26.647603Z",
     "shell.execute_reply.started": "2022-12-20T15:55:26.625220Z"
    },
    "id": "YyL_Hv85Tfqc",
    "outputId": "facb5508-7484-4140-b239-81eea034e2d9"
   },
   "outputs": [
    {
     "name": "stdout",
     "output_type": "stream",
     "text": [
      "shape of genome_tags_df:  (1128, 2) \n",
      "\n"
     ]
    },
    {
     "data": {
      "text/html": [
       "<div>\n",
       "<style scoped>\n",
       "    .dataframe tbody tr th:only-of-type {\n",
       "        vertical-align: middle;\n",
       "    }\n",
       "\n",
       "    .dataframe tbody tr th {\n",
       "        vertical-align: top;\n",
       "    }\n",
       "\n",
       "    .dataframe thead th {\n",
       "        text-align: right;\n",
       "    }\n",
       "</style>\n",
       "<table border=\"1\" class=\"dataframe\">\n",
       "  <thead>\n",
       "    <tr style=\"text-align: right;\">\n",
       "      <th></th>\n",
       "      <th>tagId</th>\n",
       "      <th>tag</th>\n",
       "    </tr>\n",
       "  </thead>\n",
       "  <tbody>\n",
       "    <tr>\n",
       "      <th>0</th>\n",
       "      <td>1</td>\n",
       "      <td>007</td>\n",
       "    </tr>\n",
       "    <tr>\n",
       "      <th>1</th>\n",
       "      <td>2</td>\n",
       "      <td>007 (series)</td>\n",
       "    </tr>\n",
       "    <tr>\n",
       "      <th>2</th>\n",
       "      <td>3</td>\n",
       "      <td>18th century</td>\n",
       "    </tr>\n",
       "    <tr>\n",
       "      <th>3</th>\n",
       "      <td>4</td>\n",
       "      <td>1920s</td>\n",
       "    </tr>\n",
       "    <tr>\n",
       "      <th>4</th>\n",
       "      <td>5</td>\n",
       "      <td>1930s</td>\n",
       "    </tr>\n",
       "  </tbody>\n",
       "</table>\n",
       "</div>"
      ],
      "text/plain": [
       "   tagId           tag\n",
       "0      1           007\n",
       "1      2  007 (series)\n",
       "2      3  18th century\n",
       "3      4         1920s\n",
       "4      5         1930s"
      ]
     },
     "execution_count": 13,
     "metadata": {},
     "output_type": "execute_result"
    }
   ],
   "source": [
    "genome_tags_df = pd.read_csv(os.path.join(data_path,\"genome-tags.csv\"), encoding='utf-8')\n",
    "print(\"shape of genome_tags_df: \",genome_tags_df.shape,\"\\n\")\n",
    "genome_tags_df.head()"
   ]
  },
  {
   "cell_type": "code",
   "execution_count": 14,
   "metadata": {
    "execution": {
     "iopub.execute_input": "2022-12-20T15:55:26.653403Z",
     "iopub.status.busy": "2022-12-20T15:55:26.652567Z",
     "iopub.status.idle": "2022-12-20T15:55:37.456299Z",
     "shell.execute_reply": "2022-12-20T15:55:37.455122Z",
     "shell.execute_reply.started": "2022-12-20T15:55:26.653355Z"
    },
    "id": "MNf-PJoOUzNv",
    "outputId": "8b07d4e2-2d76-4a10-d478-c1842d5e1415"
   },
   "outputs": [
    {
     "name": "stdout",
     "output_type": "stream",
     "text": [
      "shape of genome_scores_df:  (14862528, 3) \n",
      "\n"
     ]
    },
    {
     "data": {
      "text/html": [
       "<div>\n",
       "<style scoped>\n",
       "    .dataframe tbody tr th:only-of-type {\n",
       "        vertical-align: middle;\n",
       "    }\n",
       "\n",
       "    .dataframe tbody tr th {\n",
       "        vertical-align: top;\n",
       "    }\n",
       "\n",
       "    .dataframe thead th {\n",
       "        text-align: right;\n",
       "    }\n",
       "</style>\n",
       "<table border=\"1\" class=\"dataframe\">\n",
       "  <thead>\n",
       "    <tr style=\"text-align: right;\">\n",
       "      <th></th>\n",
       "      <th>movieId</th>\n",
       "      <th>tagId</th>\n",
       "      <th>relevance</th>\n",
       "    </tr>\n",
       "  </thead>\n",
       "  <tbody>\n",
       "    <tr>\n",
       "      <th>0</th>\n",
       "      <td>1</td>\n",
       "      <td>1</td>\n",
       "      <td>0.02900</td>\n",
       "    </tr>\n",
       "    <tr>\n",
       "      <th>1</th>\n",
       "      <td>1</td>\n",
       "      <td>2</td>\n",
       "      <td>0.02375</td>\n",
       "    </tr>\n",
       "    <tr>\n",
       "      <th>2</th>\n",
       "      <td>1</td>\n",
       "      <td>3</td>\n",
       "      <td>0.05425</td>\n",
       "    </tr>\n",
       "    <tr>\n",
       "      <th>3</th>\n",
       "      <td>1</td>\n",
       "      <td>4</td>\n",
       "      <td>0.06875</td>\n",
       "    </tr>\n",
       "    <tr>\n",
       "      <th>4</th>\n",
       "      <td>1</td>\n",
       "      <td>5</td>\n",
       "      <td>0.16000</td>\n",
       "    </tr>\n",
       "  </tbody>\n",
       "</table>\n",
       "</div>"
      ],
      "text/plain": [
       "   movieId  tagId  relevance\n",
       "0        1      1    0.02900\n",
       "1        1      2    0.02375\n",
       "2        1      3    0.05425\n",
       "3        1      4    0.06875\n",
       "4        1      5    0.16000"
      ]
     },
     "execution_count": 14,
     "metadata": {},
     "output_type": "execute_result"
    }
   ],
   "source": [
    "genome_scores_df = pd.read_csv(os.path.join(data_path,\"genome-scores.csv\"), encoding='utf-8')\n",
    "print(\"shape of genome_scores_df: \",genome_scores_df.shape,\"\\n\")\n",
    "genome_scores_df.head()"
   ]
  },
  {
   "cell_type": "markdown",
   "metadata": {
    "_kg_hide-input": false,
    "id": "bXr2T6krkGj5"
   },
   "source": [
    "# Exploratory Data Analysis ( EDA )"
   ]
  },
  {
   "cell_type": "markdown",
   "metadata": {},
   "source": [
    "## Distribution of ratings (target variable)"
   ]
  },
  {
   "cell_type": "code",
   "execution_count": 15,
   "metadata": {
    "execution": {
     "iopub.execute_input": "2022-12-20T15:55:37.458752Z",
     "iopub.status.busy": "2022-12-20T15:55:37.457947Z",
     "iopub.status.idle": "2022-12-20T15:55:37.640113Z",
     "shell.execute_reply": "2022-12-20T15:55:37.638873Z",
     "shell.execute_reply.started": "2022-12-20T15:55:37.458717Z"
    }
   },
   "outputs": [
    {
     "name": "stdout",
     "output_type": "stream",
     "text": [
      "Min rating:  0.5\n",
      "Max rating:  5.0\n"
     ]
    }
   ],
   "source": [
    "min_rating = ratings_df[\"rating\"].min()\n",
    "max_rating = ratings_df[\"rating\"].max()\n",
    "\n",
    "print(\"Min rating: \",min_rating)\n",
    "print(\"Max rating: \",max_rating)"
   ]
  },
  {
   "cell_type": "code",
   "execution_count": 16,
   "metadata": {
    "execution": {
     "iopub.execute_input": "2022-12-20T15:55:37.644247Z",
     "iopub.status.busy": "2022-12-20T15:55:37.643874Z",
     "iopub.status.idle": "2022-12-20T15:55:39.170209Z",
     "shell.execute_reply": "2022-12-20T15:55:39.168696Z",
     "shell.execute_reply.started": "2022-12-20T15:55:37.644214Z"
    },
    "id": "oFKP7uthU_Jh",
    "outputId": "c87729e1-2881-4684-db79-ea2a23b31048"
   },
   "outputs": [
    {
     "name": "stdout",
     "output_type": "stream",
     "text": [
      "Min. num of ratings: 441354  for rating 1.5\n",
      "Max. num of ratings: 7394710  for rating 4.0\n",
      "\n"
     ]
    },
    {
     "data": {
      "image/png": "[encoded data removed]",
      "text/plain": [
       "<Figure size 720x576 with 1 Axes>"
      ]
     },
     "metadata": {
      "needs_background": "light"
     },
     "output_type": "display_data"
    }
   ],
   "source": [
    "ratings_count = ratings_df.groupby('rating').count().userId\n",
    "plt.figure(figsize=(10,8))\n",
    "print(f\"Min. num of ratings: {ratings_count.min()}  for rating {ratings_count.index[ratings_count.argmin()]}\" )\n",
    "print(f\"Max. num of ratings: {ratings_count.max()}  for rating {ratings_count.index[ratings_count.argmax()]}\\n\" )\n",
    "ratings_count.plot(kind='bar')\n",
    "plt.ylabel(\"Frequency\")\n",
    "plt.title(\"Rating Distribution\")\n",
    "plt.show()"
   ]
  },
  {
   "cell_type": "markdown",
   "metadata": {
    "id": "ME02OiouvsmB"
   },
   "source": [
    "> The distribution is little left skewed.\n",
    "There are less half-star ratings than full-star ratings. Most ratings are at least 3 stars."
   ]
  },
  {
   "cell_type": "markdown",
   "metadata": {
    "id": "5vcNDaPa94IZ"
   },
   "source": [
    "## Frequency Distribution for average ratings of movie"
   ]
  },
  {
   "cell_type": "code",
   "execution_count": 17,
   "metadata": {
    "execution": {
     "iopub.execute_input": "2022-12-20T15:55:39.172686Z",
     "iopub.status.busy": "2022-12-20T15:55:39.171950Z",
     "iopub.status.idle": "2022-12-20T15:55:41.165706Z",
     "shell.execute_reply": "2022-12-20T15:55:41.164455Z",
     "shell.execute_reply.started": "2022-12-20T15:55:39.172647Z"
    },
    "id": "P-XuTidlkNuk",
    "outputId": "dcd521a4-2a88-495d-e0cb-3458eae9b6f0"
   },
   "outputs": [
    {
     "data": {
      "text/plain": [
       "<AxesSubplot:ylabel='Frequency'>"
      ]
     },
     "execution_count": 17,
     "metadata": {},
     "output_type": "execute_result"
    },
    {
     "data": {
      "image/png": "[encoded data removed]",
      "text/plain": [
       "<Figure size 432x288 with 1 Axes>"
      ]
     },
     "metadata": {
      "needs_background": "light"
     },
     "output_type": "display_data"
    }
   ],
   "source": [
    "ratings_df.groupby('movieId').agg('mean')['rating'].plot(kind='hist')"
   ]
  },
  {
   "cell_type": "markdown",
   "metadata": {
    "id": "sM8q_UXv-V8y"
   },
   "source": [
    "## Number of ratings per user"
   ]
  },
  {
   "cell_type": "code",
   "execution_count": 18,
   "metadata": {
    "execution": {
     "iopub.execute_input": "2022-12-20T15:55:41.168231Z",
     "iopub.status.busy": "2022-12-20T15:55:41.167305Z",
     "iopub.status.idle": "2022-12-20T15:55:42.886005Z",
     "shell.execute_reply": "2022-12-20T15:55:42.884687Z",
     "shell.execute_reply.started": "2022-12-20T15:55:41.168191Z"
    },
    "id": "oCjXfBAs-ePt",
    "outputId": "51521f03-90dd-4f1f-813a-0b5fe1bffd6d"
   },
   "outputs": [
    {
     "data": {
      "image/png": "[encoded data removed]",
      "text/plain": [
       "<Figure size 720x576 with 1 Axes>"
      ]
     },
     "metadata": {
      "needs_background": "light"
     },
     "output_type": "display_data"
    }
   ],
   "source": [
    "plt.figure(figsize=(10,8))\n",
    "ratings_df.groupby('userId').agg('count')['rating'].plot(kind='line')\n",
    "plt.ylabel(\"Number of ratings\")\n",
    "plt.savefig(\"Number of ratings by User.jpg\")\n",
    "plt.title(\"Number of ratings by User\")\n",
    "plt.show()"
   ]
  },
  {
   "cell_type": "markdown",
   "metadata": {
    "id": "oJB2OebK_Lp9"
   },
   "source": [
    "The ratings matrix is Sparse because each user only rates a small part around(3000) of total available movies(58098)"
   ]
  },
  {
   "cell_type": "markdown",
   "metadata": {
    "id": "XG3PUMamQpuI"
   },
   "source": [
    "## Number of ratings for each movie"
   ]
  },
  {
   "cell_type": "code",
   "execution_count": 19,
   "metadata": {
    "execution": {
     "iopub.execute_input": "2022-12-20T15:55:42.888894Z",
     "iopub.status.busy": "2022-12-20T15:55:42.887885Z",
     "iopub.status.idle": "2022-12-20T15:55:44.721805Z",
     "shell.execute_reply": "2022-12-20T15:55:44.720562Z",
     "shell.execute_reply.started": "2022-12-20T15:55:42.888845Z"
    },
    "id": "4kNxJi-K-eTI",
    "outputId": "8cfb6ec7-6526-4a8e-f72a-db1b4a0716c6"
   },
   "outputs": [
    {
     "data": {
      "image/png": "[encoded data removed]",
      "text/plain": [
       "<Figure size 1008x576 with 1 Axes>"
      ]
     },
     "metadata": {
      "needs_background": "light"
     },
     "output_type": "display_data"
    }
   ],
   "source": [
    "plt.figure(figsize=(14,8))\n",
    "ratings_df.groupby('movieId').agg('count')['rating'].plot(kind='line')\n",
    "plt.ylabel(\"Number of ratings\")\n",
    "plt.savefig(\"Number of ratings by MovieId.jpg\")\n",
    "plt.title(\"Number of ratings by MovieId\")\n",
    "plt.show()"
   ]
  },
  {
   "cell_type": "code",
   "execution_count": null,
   "metadata": {
    "id": "KKgek7SU41aX"
   },
   "outputs": [],
   "source": []
  },
  {
   "cell_type": "markdown",
   "metadata": {
    "id": "BYa-EIzRVQF2"
   },
   "source": [
    "Some movies are rated and watched by tens of thousands users while others are rated by few thousands times."
   ]
  },
  {
   "cell_type": "markdown",
   "metadata": {
    "id": "2ETnaUrFb6Xu"
   },
   "source": [
    "## Null values Check"
   ]
  },
  {
   "cell_type": "code",
   "execution_count": 20,
   "metadata": {
    "execution": {
     "iopub.execute_input": "2022-12-20T15:55:44.723982Z",
     "iopub.status.busy": "2022-12-20T15:55:44.723593Z",
     "iopub.status.idle": "2022-12-20T15:55:44.905654Z",
     "shell.execute_reply": "2022-12-20T15:55:44.904222Z",
     "shell.execute_reply.started": "2022-12-20T15:55:44.723949Z"
    },
    "id": "br5QTAHpkNwz",
    "outputId": "34e50d1c-fca0-4502-80e3-a2771e37c707"
   },
   "outputs": [
    {
     "data": {
      "text/plain": [
       "userId       0\n",
       "movieId      0\n",
       "rating       0\n",
       "timestamp    0\n",
       "dtype: int64"
      ]
     },
     "execution_count": 20,
     "metadata": {},
     "output_type": "execute_result"
    }
   ],
   "source": [
    "ratings_df.isna().sum()"
   ]
  },
  {
   "cell_type": "code",
   "execution_count": 21,
   "metadata": {
    "execution": {
     "iopub.execute_input": "2022-12-20T15:55:44.907906Z",
     "iopub.status.busy": "2022-12-20T15:55:44.907491Z",
     "iopub.status.idle": "2022-12-20T15:55:44.972118Z",
     "shell.execute_reply": "2022-12-20T15:55:44.970692Z",
     "shell.execute_reply.started": "2022-12-20T15:55:44.907872Z"
    },
    "id": "xvw1L5LvkNzY",
    "outputId": "aee84215-8b76-451e-e0ff-a486d6b9f099"
   },
   "outputs": [
    {
     "data": {
      "text/plain": [
       "userId        0\n",
       "movieId       0\n",
       "tag          16\n",
       "timestamp     0\n",
       "dtype: int64"
      ]
     },
     "execution_count": 21,
     "metadata": {},
     "output_type": "execute_result"
    }
   ],
   "source": [
    "tags_df.isna().sum()"
   ]
  },
  {
   "cell_type": "markdown",
   "metadata": {
    "id": "b2-mlI7ChAnF"
   },
   "source": [
    "16 null values are found in tag column which makes those data points useless. So we remove those data points."
   ]
  },
  {
   "cell_type": "code",
   "execution_count": 22,
   "metadata": {
    "execution": {
     "iopub.execute_input": "2022-12-20T15:55:44.974237Z",
     "iopub.status.busy": "2022-12-20T15:55:44.973789Z",
     "iopub.status.idle": "2022-12-20T15:55:45.107537Z",
     "shell.execute_reply": "2022-12-20T15:55:45.105955Z",
     "shell.execute_reply.started": "2022-12-20T15:55:44.974199Z"
    },
    "id": "qhuccaSVhY0-"
   },
   "outputs": [],
   "source": [
    "tags_df.dropna(inplace=True)"
   ]
  },
  {
   "cell_type": "code",
   "execution_count": 23,
   "metadata": {
    "execution": {
     "iopub.execute_input": "2022-12-20T15:55:45.109612Z",
     "iopub.status.busy": "2022-12-20T15:55:45.109193Z",
     "iopub.status.idle": "2022-12-20T15:55:45.126818Z",
     "shell.execute_reply": "2022-12-20T15:55:45.125677Z",
     "shell.execute_reply.started": "2022-12-20T15:55:45.109570Z"
    },
    "id": "YJCE_w-PkN1u",
    "outputId": "e444cf15-683f-46bc-d5cf-15b4d0240297"
   },
   "outputs": [
    {
     "data": {
      "text/plain": [
       "movieId    0\n",
       "title      0\n",
       "genres     0\n",
       "dtype: int64"
      ]
     },
     "execution_count": 23,
     "metadata": {},
     "output_type": "execute_result"
    }
   ],
   "source": [
    "movies_df.isna().sum()"
   ]
  },
  {
   "cell_type": "code",
   "execution_count": 24,
   "metadata": {
    "execution": {
     "iopub.execute_input": "2022-12-20T15:55:45.128577Z",
     "iopub.status.busy": "2022-12-20T15:55:45.128241Z",
     "iopub.status.idle": "2022-12-20T15:55:45.141826Z",
     "shell.execute_reply": "2022-12-20T15:55:45.140527Z",
     "shell.execute_reply.started": "2022-12-20T15:55:45.128548Z"
    },
    "id": "otLqUXJsgsh2",
    "outputId": "bd660b86-1345-4411-e0e0-f813a6896958"
   },
   "outputs": [
    {
     "data": {
      "text/plain": [
       "movieId      0\n",
       "imdbId       0\n",
       "tmdbId     181\n",
       "dtype: int64"
      ]
     },
     "execution_count": 24,
     "metadata": {},
     "output_type": "execute_result"
    }
   ],
   "source": [
    "links_df.isna().sum()"
   ]
  },
  {
   "cell_type": "code",
   "execution_count": 25,
   "metadata": {
    "execution": {
     "iopub.execute_input": "2022-12-20T15:55:45.143972Z",
     "iopub.status.busy": "2022-12-20T15:55:45.143464Z",
     "iopub.status.idle": "2022-12-20T15:55:45.156683Z",
     "shell.execute_reply": "2022-12-20T15:55:45.155242Z",
     "shell.execute_reply.started": "2022-12-20T15:55:45.143925Z"
    },
    "id": "tNf37GXHgvnb",
    "outputId": "7a371414-e9dd-4c09-e592-d8f2b7b6268e"
   },
   "outputs": [
    {
     "data": {
      "text/plain": [
       "tagId    0\n",
       "tag      0\n",
       "dtype: int64"
      ]
     },
     "execution_count": 25,
     "metadata": {},
     "output_type": "execute_result"
    }
   ],
   "source": [
    "genome_tags_df.isna().sum()"
   ]
  },
  {
   "cell_type": "code",
   "execution_count": 26,
   "metadata": {
    "execution": {
     "iopub.execute_input": "2022-12-20T15:55:45.158916Z",
     "iopub.status.busy": "2022-12-20T15:55:45.158505Z",
     "iopub.status.idle": "2022-12-20T15:55:45.241088Z",
     "shell.execute_reply": "2022-12-20T15:55:45.239754Z",
     "shell.execute_reply.started": "2022-12-20T15:55:45.158879Z"
    },
    "id": "Vd5NZHlog1gn",
    "outputId": "1685cc3c-7381-4e67-95f6-f94093a24ea3"
   },
   "outputs": [
    {
     "data": {
      "text/plain": [
       "movieId      0\n",
       "tagId        0\n",
       "relevance    0\n",
       "dtype: int64"
      ]
     },
     "execution_count": 26,
     "metadata": {},
     "output_type": "execute_result"
    }
   ],
   "source": [
    "genome_scores_df.isna().sum()"
   ]
  },
  {
   "cell_type": "code",
   "execution_count": 27,
   "metadata": {
    "execution": {
     "iopub.execute_input": "2022-12-20T15:55:45.243034Z",
     "iopub.status.busy": "2022-12-20T15:55:45.242658Z",
     "iopub.status.idle": "2022-12-20T15:55:45.767153Z",
     "shell.execute_reply": "2022-12-20T15:55:45.765612Z",
     "shell.execute_reply.started": "2022-12-20T15:55:45.243002Z"
    },
    "id": "DAzmmxNMjzBp",
    "outputId": "75f1be37-d28e-4786-b085-9adb66259cbe"
   },
   "outputs": [
    {
     "data": {
      "text/plain": [
       "tagId  relevance\n",
       "1128   1128         13176\n",
       "dtype: int64"
      ]
     },
     "execution_count": 27,
     "metadata": {},
     "output_type": "execute_result"
    }
   ],
   "source": [
    "genome_scores_df.groupby('movieId').agg('count').value_counts()"
   ]
  },
  {
   "cell_type": "markdown",
   "metadata": {
    "id": "UgAodUQm_qwn"
   },
   "source": [
    "## Common genres of movies"
   ]
  },
  {
   "cell_type": "code",
   "execution_count": 28,
   "metadata": {
    "execution": {
     "iopub.execute_input": "2022-12-20T15:55:45.769549Z",
     "iopub.status.busy": "2022-12-20T15:55:45.768995Z",
     "iopub.status.idle": "2022-12-20T15:55:45.943957Z",
     "shell.execute_reply": "2022-12-20T15:55:45.942706Z",
     "shell.execute_reply.started": "2022-12-20T15:55:45.769501Z"
    },
    "id": "ABMsxKctU9Xw",
    "outputId": "f6ea2e9d-973c-4d62-e12c-89c0c3265568"
   },
   "outputs": [
    {
     "data": {
      "text/html": [
       "<div>\n",
       "<style scoped>\n",
       "    .dataframe tbody tr th:only-of-type {\n",
       "        vertical-align: middle;\n",
       "    }\n",
       "\n",
       "    .dataframe tbody tr th {\n",
       "        vertical-align: top;\n",
       "    }\n",
       "\n",
       "    .dataframe thead th {\n",
       "        text-align: right;\n",
       "    }\n",
       "</style>\n",
       "<table border=\"1\" class=\"dataframe\">\n",
       "  <thead>\n",
       "    <tr style=\"text-align: right;\">\n",
       "      <th></th>\n",
       "      <th>movieId</th>\n",
       "      <th>title</th>\n",
       "      <th>genres</th>\n",
       "      <th>genre</th>\n",
       "      <th>(no genres listed)</th>\n",
       "      <th>Action</th>\n",
       "      <th>Adventure</th>\n",
       "      <th>Animation</th>\n",
       "      <th>Children</th>\n",
       "      <th>Comedy</th>\n",
       "      <th>...</th>\n",
       "      <th>Film-Noir</th>\n",
       "      <th>Horror</th>\n",
       "      <th>IMAX</th>\n",
       "      <th>Musical</th>\n",
       "      <th>Mystery</th>\n",
       "      <th>Romance</th>\n",
       "      <th>Sci-Fi</th>\n",
       "      <th>Thriller</th>\n",
       "      <th>War</th>\n",
       "      <th>Western</th>\n",
       "    </tr>\n",
       "  </thead>\n",
       "  <tbody>\n",
       "    <tr>\n",
       "      <th>0</th>\n",
       "      <td>1</td>\n",
       "      <td>Toy Story (1995)</td>\n",
       "      <td>Adventure|Animation|Children|Comedy|Fantasy</td>\n",
       "      <td>[Adventure, Animation, Children, Comedy, Fantasy]</td>\n",
       "      <td>0</td>\n",
       "      <td>0</td>\n",
       "      <td>1</td>\n",
       "      <td>1</td>\n",
       "      <td>1</td>\n",
       "      <td>1</td>\n",
       "      <td>...</td>\n",
       "      <td>0</td>\n",
       "      <td>0</td>\n",
       "      <td>0</td>\n",
       "      <td>0</td>\n",
       "      <td>0</td>\n",
       "      <td>0</td>\n",
       "      <td>0</td>\n",
       "      <td>0</td>\n",
       "      <td>0</td>\n",
       "      <td>0</td>\n",
       "    </tr>\n",
       "    <tr>\n",
       "      <th>1</th>\n",
       "      <td>2</td>\n",
       "      <td>Jumanji (1995)</td>\n",
       "      <td>Adventure|Children|Fantasy</td>\n",
       "      <td>[Adventure, Children, Fantasy]</td>\n",
       "      <td>0</td>\n",
       "      <td>0</td>\n",
       "      <td>1</td>\n",
       "      <td>0</td>\n",
       "      <td>1</td>\n",
       "      <td>0</td>\n",
       "      <td>...</td>\n",
       "      <td>0</td>\n",
       "      <td>0</td>\n",
       "      <td>0</td>\n",
       "      <td>0</td>\n",
       "      <td>0</td>\n",
       "      <td>0</td>\n",
       "      <td>0</td>\n",
       "      <td>0</td>\n",
       "      <td>0</td>\n",
       "      <td>0</td>\n",
       "    </tr>\n",
       "    <tr>\n",
       "      <th>2</th>\n",
       "      <td>3</td>\n",
       "      <td>Grumpier Old Men (1995)</td>\n",
       "      <td>Comedy|Romance</td>\n",
       "      <td>[Comedy, Romance]</td>\n",
       "      <td>0</td>\n",
       "      <td>0</td>\n",
       "      <td>0</td>\n",
       "      <td>0</td>\n",
       "      <td>0</td>\n",
       "      <td>1</td>\n",
       "      <td>...</td>\n",
       "      <td>0</td>\n",
       "      <td>0</td>\n",
       "      <td>0</td>\n",
       "      <td>0</td>\n",
       "      <td>0</td>\n",
       "      <td>1</td>\n",
       "      <td>0</td>\n",
       "      <td>0</td>\n",
       "      <td>0</td>\n",
       "      <td>0</td>\n",
       "    </tr>\n",
       "    <tr>\n",
       "      <th>3</th>\n",
       "      <td>4</td>\n",
       "      <td>Waiting to Exhale (1995)</td>\n",
       "      <td>Comedy|Drama|Romance</td>\n",
       "      <td>[Comedy, Drama, Romance]</td>\n",
       "      <td>0</td>\n",
       "      <td>0</td>\n",
       "      <td>0</td>\n",
       "      <td>0</td>\n",
       "      <td>0</td>\n",
       "      <td>1</td>\n",
       "      <td>...</td>\n",
       "      <td>0</td>\n",
       "      <td>0</td>\n",
       "      <td>0</td>\n",
       "      <td>0</td>\n",
       "      <td>0</td>\n",
       "      <td>1</td>\n",
       "      <td>0</td>\n",
       "      <td>0</td>\n",
       "      <td>0</td>\n",
       "      <td>0</td>\n",
       "    </tr>\n",
       "    <tr>\n",
       "      <th>4</th>\n",
       "      <td>5</td>\n",
       "      <td>Father of the Bride Part II (1995)</td>\n",
       "      <td>Comedy</td>\n",
       "      <td>[Comedy]</td>\n",
       "      <td>0</td>\n",
       "      <td>0</td>\n",
       "      <td>0</td>\n",
       "      <td>0</td>\n",
       "      <td>0</td>\n",
       "      <td>1</td>\n",
       "      <td>...</td>\n",
       "      <td>0</td>\n",
       "      <td>0</td>\n",
       "      <td>0</td>\n",
       "      <td>0</td>\n",
       "      <td>0</td>\n",
       "      <td>0</td>\n",
       "      <td>0</td>\n",
       "      <td>0</td>\n",
       "      <td>0</td>\n",
       "      <td>0</td>\n",
       "    </tr>\n",
       "  </tbody>\n",
       "</table>\n",
       "<p>5 rows × 24 columns</p>\n",
       "</div>"
      ],
      "text/plain": [
       "   movieId                               title  \\\n",
       "0        1                    Toy Story (1995)   \n",
       "1        2                      Jumanji (1995)   \n",
       "2        3             Grumpier Old Men (1995)   \n",
       "3        4            Waiting to Exhale (1995)   \n",
       "4        5  Father of the Bride Part II (1995)   \n",
       "\n",
       "                                        genres  \\\n",
       "0  Adventure|Animation|Children|Comedy|Fantasy   \n",
       "1                   Adventure|Children|Fantasy   \n",
       "2                               Comedy|Romance   \n",
       "3                         Comedy|Drama|Romance   \n",
       "4                                       Comedy   \n",
       "\n",
       "                                               genre  (no genres listed)  \\\n",
       "0  [Adventure, Animation, Children, Comedy, Fantasy]                   0   \n",
       "1                     [Adventure, Children, Fantasy]                   0   \n",
       "2                                  [Comedy, Romance]                   0   \n",
       "3                           [Comedy, Drama, Romance]                   0   \n",
       "4                                           [Comedy]                   0   \n",
       "\n",
       "   Action  Adventure  Animation  Children  Comedy  ...  Film-Noir  Horror  \\\n",
       "0       0          1          1         1       1  ...          0       0   \n",
       "1       0          1          0         1       0  ...          0       0   \n",
       "2       0          0          0         0       1  ...          0       0   \n",
       "3       0          0          0         0       1  ...          0       0   \n",
       "4       0          0          0         0       1  ...          0       0   \n",
       "\n",
       "   IMAX  Musical  Mystery  Romance  Sci-Fi  Thriller  War  Western  \n",
       "0     0        0        0        0       0         0    0        0  \n",
       "1     0        0        0        0       0         0    0        0  \n",
       "2     0        0        0        1       0         0    0        0  \n",
       "3     0        0        0        1       0         0    0        0  \n",
       "4     0        0        0        0       0         0    0        0  \n",
       "\n",
       "[5 rows x 24 columns]"
      ]
     },
     "execution_count": 28,
     "metadata": {},
     "output_type": "execute_result"
    }
   ],
   "source": [
    "#splitting genres by | \n",
    "movies_df[\"genre\"] = movies_df['genres'].str.split(\"|\")\n",
    "\n",
    "#Convert list based columns to one hot encoding\n",
    "mlb = MultiLabelBinarizer()\n",
    "\n",
    "genres_ohe = mlb.fit_transform(movies_df[\"genre\"])\n",
    "movies_df[mlb.classes_] = genres_ohe \n",
    "\n",
    "movies_df.head()"
   ]
  },
  {
   "cell_type": "code",
   "execution_count": 29,
   "metadata": {
    "execution": {
     "iopub.execute_input": "2022-12-20T15:55:45.949711Z",
     "iopub.status.busy": "2022-12-20T15:55:45.949297Z",
     "iopub.status.idle": "2022-12-20T15:55:45.955839Z",
     "shell.execute_reply": "2022-12-20T15:55:45.954649Z",
     "shell.execute_reply.started": "2022-12-20T15:55:45.949677Z"
    },
    "id": "2BaKYkhUgjjE",
    "outputId": "3676cfd8-f079-4e4f-f50a-192154c406df"
   },
   "outputs": [
    {
     "name": "stdout",
     "output_type": "stream",
     "text": [
      "Total number of Genres:  20\n",
      "['(no genres listed)', 'Action', 'Adventure', 'Animation', 'Children', 'Comedy', 'Crime', 'Documentary', 'Drama', 'Fantasy', 'Film-Noir', 'Horror', 'IMAX', 'Musical', 'Mystery', 'Romance', 'Sci-Fi', 'Thriller', 'War', 'Western']\n"
     ]
    }
   ],
   "source": [
    "print(\"Total number of Genres: \",len(mlb.classes_))\n",
    "nugenres = list(mlb.classes_)\n",
    "print(nugenres)"
   ]
  },
  {
   "cell_type": "code",
   "execution_count": 30,
   "metadata": {
    "execution": {
     "iopub.execute_input": "2022-12-20T15:55:45.959477Z",
     "iopub.status.busy": "2022-12-20T15:55:45.957781Z",
     "iopub.status.idle": "2022-12-20T15:55:46.371923Z",
     "shell.execute_reply": "2022-12-20T15:55:46.370841Z",
     "shell.execute_reply.started": "2022-12-20T15:55:45.959426Z"
    },
    "id": "8dzWdgg477EZ",
    "outputId": "3aadec72-5447-456c-9845-27131b38db6b"
   },
   "outputs": [
    {
     "data": {
      "image/png": "[encoded data removed]",
      "text/plain": [
       "<Figure size 1008x576 with 1 Axes>"
      ]
     },
     "metadata": {
      "needs_background": "light"
     },
     "output_type": "display_data"
    }
   ],
   "source": [
    "movies_exploded = movies_df.explode(\"genre\")\n",
    "\n",
    "\n",
    "plt.figure(figsize=(14,8))\n",
    "movies_exploded['genre'].value_counts(ascending=True).plot(kind='barh',color='g')\n",
    "plt.xlabel('Counts')\n",
    "plt.title('Total movies based on genre')\n",
    "plt.show()"
   ]
  },
  {
   "cell_type": "code",
   "execution_count": 31,
   "metadata": {
    "execution": {
     "iopub.execute_input": "2022-12-20T15:55:46.374051Z",
     "iopub.status.busy": "2022-12-20T15:55:46.373659Z",
     "iopub.status.idle": "2022-12-20T15:55:46.437982Z",
     "shell.execute_reply": "2022-12-20T15:55:46.436297Z",
     "shell.execute_reply.started": "2022-12-20T15:55:46.374018Z"
    }
   },
   "outputs": [
    {
     "data": {
      "text/html": [
       "<div>\n",
       "<style scoped>\n",
       "    .dataframe tbody tr th:only-of-type {\n",
       "        vertical-align: middle;\n",
       "    }\n",
       "\n",
       "    .dataframe tbody tr th {\n",
       "        vertical-align: top;\n",
       "    }\n",
       "\n",
       "    .dataframe thead th {\n",
       "        text-align: right;\n",
       "    }\n",
       "</style>\n",
       "<table border=\"1\" class=\"dataframe\">\n",
       "  <thead>\n",
       "    <tr style=\"text-align: right;\">\n",
       "      <th></th>\n",
       "      <th>movieId</th>\n",
       "      <th>title</th>\n",
       "      <th>genres</th>\n",
       "      <th>genre</th>\n",
       "      <th>(no genres listed)</th>\n",
       "      <th>Action</th>\n",
       "      <th>Adventure</th>\n",
       "      <th>Animation</th>\n",
       "      <th>Children</th>\n",
       "      <th>Comedy</th>\n",
       "      <th>...</th>\n",
       "      <th>Film-Noir</th>\n",
       "      <th>Horror</th>\n",
       "      <th>IMAX</th>\n",
       "      <th>Musical</th>\n",
       "      <th>Mystery</th>\n",
       "      <th>Romance</th>\n",
       "      <th>Sci-Fi</th>\n",
       "      <th>Thriller</th>\n",
       "      <th>War</th>\n",
       "      <th>Western</th>\n",
       "    </tr>\n",
       "  </thead>\n",
       "  <tbody>\n",
       "    <tr>\n",
       "      <th>0</th>\n",
       "      <td>1</td>\n",
       "      <td>Toy Story (1995)</td>\n",
       "      <td>Adventure|Animation|Children|Comedy|Fantasy</td>\n",
       "      <td>Adventure</td>\n",
       "      <td>0</td>\n",
       "      <td>0</td>\n",
       "      <td>1</td>\n",
       "      <td>1</td>\n",
       "      <td>1</td>\n",
       "      <td>1</td>\n",
       "      <td>...</td>\n",
       "      <td>0</td>\n",
       "      <td>0</td>\n",
       "      <td>0</td>\n",
       "      <td>0</td>\n",
       "      <td>0</td>\n",
       "      <td>0</td>\n",
       "      <td>0</td>\n",
       "      <td>0</td>\n",
       "      <td>0</td>\n",
       "      <td>0</td>\n",
       "    </tr>\n",
       "    <tr>\n",
       "      <th>0</th>\n",
       "      <td>1</td>\n",
       "      <td>Toy Story (1995)</td>\n",
       "      <td>Adventure|Animation|Children|Comedy|Fantasy</td>\n",
       "      <td>Animation</td>\n",
       "      <td>0</td>\n",
       "      <td>0</td>\n",
       "      <td>1</td>\n",
       "      <td>1</td>\n",
       "      <td>1</td>\n",
       "      <td>1</td>\n",
       "      <td>...</td>\n",
       "      <td>0</td>\n",
       "      <td>0</td>\n",
       "      <td>0</td>\n",
       "      <td>0</td>\n",
       "      <td>0</td>\n",
       "      <td>0</td>\n",
       "      <td>0</td>\n",
       "      <td>0</td>\n",
       "      <td>0</td>\n",
       "      <td>0</td>\n",
       "    </tr>\n",
       "    <tr>\n",
       "      <th>0</th>\n",
       "      <td>1</td>\n",
       "      <td>Toy Story (1995)</td>\n",
       "      <td>Adventure|Animation|Children|Comedy|Fantasy</td>\n",
       "      <td>Children</td>\n",
       "      <td>0</td>\n",
       "      <td>0</td>\n",
       "      <td>1</td>\n",
       "      <td>1</td>\n",
       "      <td>1</td>\n",
       "      <td>1</td>\n",
       "      <td>...</td>\n",
       "      <td>0</td>\n",
       "      <td>0</td>\n",
       "      <td>0</td>\n",
       "      <td>0</td>\n",
       "      <td>0</td>\n",
       "      <td>0</td>\n",
       "      <td>0</td>\n",
       "      <td>0</td>\n",
       "      <td>0</td>\n",
       "      <td>0</td>\n",
       "    </tr>\n",
       "    <tr>\n",
       "      <th>0</th>\n",
       "      <td>1</td>\n",
       "      <td>Toy Story (1995)</td>\n",
       "      <td>Adventure|Animation|Children|Comedy|Fantasy</td>\n",
       "      <td>Comedy</td>\n",
       "      <td>0</td>\n",
       "      <td>0</td>\n",
       "      <td>1</td>\n",
       "      <td>1</td>\n",
       "      <td>1</td>\n",
       "      <td>1</td>\n",
       "      <td>...</td>\n",
       "      <td>0</td>\n",
       "      <td>0</td>\n",
       "      <td>0</td>\n",
       "      <td>0</td>\n",
       "      <td>0</td>\n",
       "      <td>0</td>\n",
       "      <td>0</td>\n",
       "      <td>0</td>\n",
       "      <td>0</td>\n",
       "      <td>0</td>\n",
       "    </tr>\n",
       "    <tr>\n",
       "      <th>0</th>\n",
       "      <td>1</td>\n",
       "      <td>Toy Story (1995)</td>\n",
       "      <td>Adventure|Animation|Children|Comedy|Fantasy</td>\n",
       "      <td>Fantasy</td>\n",
       "      <td>0</td>\n",
       "      <td>0</td>\n",
       "      <td>1</td>\n",
       "      <td>1</td>\n",
       "      <td>1</td>\n",
       "      <td>1</td>\n",
       "      <td>...</td>\n",
       "      <td>0</td>\n",
       "      <td>0</td>\n",
       "      <td>0</td>\n",
       "      <td>0</td>\n",
       "      <td>0</td>\n",
       "      <td>0</td>\n",
       "      <td>0</td>\n",
       "      <td>0</td>\n",
       "      <td>0</td>\n",
       "      <td>0</td>\n",
       "    </tr>\n",
       "    <tr>\n",
       "      <th>...</th>\n",
       "      <td>...</td>\n",
       "      <td>...</td>\n",
       "      <td>...</td>\n",
       "      <td>...</td>\n",
       "      <td>...</td>\n",
       "      <td>...</td>\n",
       "      <td>...</td>\n",
       "      <td>...</td>\n",
       "      <td>...</td>\n",
       "      <td>...</td>\n",
       "      <td>...</td>\n",
       "      <td>...</td>\n",
       "      <td>...</td>\n",
       "      <td>...</td>\n",
       "      <td>...</td>\n",
       "      <td>...</td>\n",
       "      <td>...</td>\n",
       "      <td>...</td>\n",
       "      <td>...</td>\n",
       "      <td>...</td>\n",
       "      <td>...</td>\n",
       "    </tr>\n",
       "    <tr>\n",
       "      <th>58096</th>\n",
       "      <td>193882</td>\n",
       "      <td>Flora (2017)</td>\n",
       "      <td>Adventure|Drama|Horror|Sci-Fi</td>\n",
       "      <td>Horror</td>\n",
       "      <td>0</td>\n",
       "      <td>0</td>\n",
       "      <td>1</td>\n",
       "      <td>0</td>\n",
       "      <td>0</td>\n",
       "      <td>0</td>\n",
       "      <td>...</td>\n",
       "      <td>0</td>\n",
       "      <td>1</td>\n",
       "      <td>0</td>\n",
       "      <td>0</td>\n",
       "      <td>0</td>\n",
       "      <td>0</td>\n",
       "      <td>1</td>\n",
       "      <td>0</td>\n",
       "      <td>0</td>\n",
       "      <td>0</td>\n",
       "    </tr>\n",
       "    <tr>\n",
       "      <th>58096</th>\n",
       "      <td>193882</td>\n",
       "      <td>Flora (2017)</td>\n",
       "      <td>Adventure|Drama|Horror|Sci-Fi</td>\n",
       "      <td>Sci-Fi</td>\n",
       "      <td>0</td>\n",
       "      <td>0</td>\n",
       "      <td>1</td>\n",
       "      <td>0</td>\n",
       "      <td>0</td>\n",
       "      <td>0</td>\n",
       "      <td>...</td>\n",
       "      <td>0</td>\n",
       "      <td>1</td>\n",
       "      <td>0</td>\n",
       "      <td>0</td>\n",
       "      <td>0</td>\n",
       "      <td>0</td>\n",
       "      <td>1</td>\n",
       "      <td>0</td>\n",
       "      <td>0</td>\n",
       "      <td>0</td>\n",
       "    </tr>\n",
       "    <tr>\n",
       "      <th>58097</th>\n",
       "      <td>193886</td>\n",
       "      <td>Leal (2018)</td>\n",
       "      <td>Action|Crime|Drama</td>\n",
       "      <td>Action</td>\n",
       "      <td>0</td>\n",
       "      <td>1</td>\n",
       "      <td>0</td>\n",
       "      <td>0</td>\n",
       "      <td>0</td>\n",
       "      <td>0</td>\n",
       "      <td>...</td>\n",
       "      <td>0</td>\n",
       "      <td>0</td>\n",
       "      <td>0</td>\n",
       "      <td>0</td>\n",
       "      <td>0</td>\n",
       "      <td>0</td>\n",
       "      <td>0</td>\n",
       "      <td>0</td>\n",
       "      <td>0</td>\n",
       "      <td>0</td>\n",
       "    </tr>\n",
       "    <tr>\n",
       "      <th>58097</th>\n",
       "      <td>193886</td>\n",
       "      <td>Leal (2018)</td>\n",
       "      <td>Action|Crime|Drama</td>\n",
       "      <td>Crime</td>\n",
       "      <td>0</td>\n",
       "      <td>1</td>\n",
       "      <td>0</td>\n",
       "      <td>0</td>\n",
       "      <td>0</td>\n",
       "      <td>0</td>\n",
       "      <td>...</td>\n",
       "      <td>0</td>\n",
       "      <td>0</td>\n",
       "      <td>0</td>\n",
       "      <td>0</td>\n",
       "      <td>0</td>\n",
       "      <td>0</td>\n",
       "      <td>0</td>\n",
       "      <td>0</td>\n",
       "      <td>0</td>\n",
       "      <td>0</td>\n",
       "    </tr>\n",
       "    <tr>\n",
       "      <th>58097</th>\n",
       "      <td>193886</td>\n",
       "      <td>Leal (2018)</td>\n",
       "      <td>Action|Crime|Drama</td>\n",
       "      <td>Drama</td>\n",
       "      <td>0</td>\n",
       "      <td>1</td>\n",
       "      <td>0</td>\n",
       "      <td>0</td>\n",
       "      <td>0</td>\n",
       "      <td>0</td>\n",
       "      <td>...</td>\n",
       "      <td>0</td>\n",
       "      <td>0</td>\n",
       "      <td>0</td>\n",
       "      <td>0</td>\n",
       "      <td>0</td>\n",
       "      <td>0</td>\n",
       "      <td>0</td>\n",
       "      <td>0</td>\n",
       "      <td>0</td>\n",
       "      <td>0</td>\n",
       "    </tr>\n",
       "  </tbody>\n",
       "</table>\n",
       "<p>106107 rows × 24 columns</p>\n",
       "</div>"
      ],
      "text/plain": [
       "       movieId             title                                       genres  \\\n",
       "0            1  Toy Story (1995)  Adventure|Animation|Children|Comedy|Fantasy   \n",
       "0            1  Toy Story (1995)  Adventure|Animation|Children|Comedy|Fantasy   \n",
       "0            1  Toy Story (1995)  Adventure|Animation|Children|Comedy|Fantasy   \n",
       "0            1  Toy Story (1995)  Adventure|Animation|Children|Comedy|Fantasy   \n",
       "0            1  Toy Story (1995)  Adventure|Animation|Children|Comedy|Fantasy   \n",
       "...        ...               ...                                          ...   \n",
       "58096   193882      Flora (2017)                Adventure|Drama|Horror|Sci-Fi   \n",
       "58096   193882      Flora (2017)                Adventure|Drama|Horror|Sci-Fi   \n",
       "58097   193886       Leal (2018)                           Action|Crime|Drama   \n",
       "58097   193886       Leal (2018)                           Action|Crime|Drama   \n",
       "58097   193886       Leal (2018)                           Action|Crime|Drama   \n",
       "\n",
       "           genre  (no genres listed)  Action  Adventure  Animation  Children  \\\n",
       "0      Adventure                   0       0          1          1         1   \n",
       "0      Animation                   0       0          1          1         1   \n",
       "0       Children                   0       0          1          1         1   \n",
       "0         Comedy                   0       0          1          1         1   \n",
       "0        Fantasy                   0       0          1          1         1   \n",
       "...          ...                 ...     ...        ...        ...       ...   \n",
       "58096     Horror                   0       0          1          0         0   \n",
       "58096     Sci-Fi                   0       0          1          0         0   \n",
       "58097     Action                   0       1          0          0         0   \n",
       "58097      Crime                   0       1          0          0         0   \n",
       "58097      Drama                   0       1          0          0         0   \n",
       "\n",
       "       Comedy  ...  Film-Noir  Horror  IMAX  Musical  Mystery  Romance  \\\n",
       "0           1  ...          0       0     0        0        0        0   \n",
       "0           1  ...          0       0     0        0        0        0   \n",
       "0           1  ...          0       0     0        0        0        0   \n",
       "0           1  ...          0       0     0        0        0        0   \n",
       "0           1  ...          0       0     0        0        0        0   \n",
       "...       ...  ...        ...     ...   ...      ...      ...      ...   \n",
       "58096       0  ...          0       1     0        0        0        0   \n",
       "58096       0  ...          0       1     0        0        0        0   \n",
       "58097       0  ...          0       0     0        0        0        0   \n",
       "58097       0  ...          0       0     0        0        0        0   \n",
       "58097       0  ...          0       0     0        0        0        0   \n",
       "\n",
       "       Sci-Fi  Thriller  War  Western  \n",
       "0           0         0    0        0  \n",
       "0           0         0    0        0  \n",
       "0           0         0    0        0  \n",
       "0           0         0    0        0  \n",
       "0           0         0    0        0  \n",
       "...       ...       ...  ...      ...  \n",
       "58096       1         0    0        0  \n",
       "58096       1         0    0        0  \n",
       "58097       0         0    0        0  \n",
       "58097       0         0    0        0  \n",
       "58097       0         0    0        0  \n",
       "\n",
       "[106107 rows x 24 columns]"
      ]
     },
     "execution_count": 31,
     "metadata": {},
     "output_type": "execute_result"
    }
   ],
   "source": [
    "movies_exploded"
   ]
  },
  {
   "cell_type": "markdown",
   "metadata": {
    "id": "iUfdj8Kzm1ot"
   },
   "source": [
    "> Drama and Comedy are the most common genres of movies followed by Thriller, Romance and others."
   ]
  },
  {
   "cell_type": "markdown",
   "metadata": {
    "id": "wGhSOln56aeG"
   },
   "source": [
    "## Ratings by Genre"
   ]
  },
  {
   "cell_type": "code",
   "execution_count": 32,
   "metadata": {
    "execution": {
     "iopub.execute_input": "2022-12-20T15:55:46.440333Z",
     "iopub.status.busy": "2022-12-20T15:55:46.439901Z",
     "iopub.status.idle": "2022-12-20T15:56:05.051445Z",
     "shell.execute_reply": "2022-12-20T15:56:05.050016Z",
     "shell.execute_reply.started": "2022-12-20T15:55:46.440297Z"
    },
    "id": "9a1_P6NwBvlo",
    "outputId": "ed3b2bac-3c53-4467-a806-8d86e4353a43"
   },
   "outputs": [
    {
     "data": {
      "text/plain": [
       "<Figure size 1152x720 with 0 Axes>"
      ]
     },
     "metadata": {},
     "output_type": "display_data"
    },
    {
     "data": {
      "image/png": "[encoded data removed]",
      "text/plain": [
       "<Figure size 432x288 with 1 Axes>"
      ]
     },
     "metadata": {
      "needs_background": "light"
     },
     "output_type": "display_data"
    }
   ],
   "source": [
    "rating_by_genre = ratings_df[['movieId','rating']].merge(movies_exploded[['movieId','genre']], on='movieId').\\\n",
    "                  groupby('genre').agg({'rating':['mean']}).sort_values(('rating','mean'))\n",
    "\n",
    "plt.figure(figsize=(16,10))\n",
    "rating_by_genre.plot(kind='bar',legend=False, color='g')                  \n",
    "plt.ylabel(\"Average Rating\")\n",
    "plt.title(\"Mean Rating by Genre\")\n",
    "plt.show()"
   ]
  },
  {
   "cell_type": "markdown",
   "metadata": {
    "id": "P1Q30h0GmV0T"
   },
   "source": [
    "> Average rating for each genre is above 3.0 i.e above neutral rating of 2.5."
   ]
  },
  {
   "cell_type": "code",
   "execution_count": null,
   "metadata": {
    "id": "xIUgXMc3mU4-"
   },
   "outputs": [],
   "source": []
  },
  {
   "cell_type": "code",
   "execution_count": 33,
   "metadata": {
    "execution": {
     "iopub.execute_input": "2022-12-20T15:56:05.053539Z",
     "iopub.status.busy": "2022-12-20T15:56:05.053097Z",
     "iopub.status.idle": "2022-12-20T15:56:05.059037Z",
     "shell.execute_reply": "2022-12-20T15:56:05.057998Z",
     "shell.execute_reply.started": "2022-12-20T15:56:05.053505Z"
    },
    "id": "qZqDYO69I_sR"
   },
   "outputs": [],
   "source": [
    "#remove the unwanted column\n",
    "#movies_df.drop(columns=[\"(no genres listed)\",\"genres\",\"genres_list\"],inplace=True)"
   ]
  },
  {
   "cell_type": "markdown",
   "metadata": {
    "id": "XvKP7inylgVi"
   },
   "source": [
    "## How many movies got released in each year ?"
   ]
  },
  {
   "cell_type": "code",
   "execution_count": 34,
   "metadata": {
    "execution": {
     "iopub.execute_input": "2022-12-20T15:56:05.060783Z",
     "iopub.status.busy": "2022-12-20T15:56:05.060440Z",
     "iopub.status.idle": "2022-12-20T15:56:05.523891Z",
     "shell.execute_reply": "2022-12-20T15:56:05.522859Z",
     "shell.execute_reply.started": "2022-12-20T15:56:05.060754Z"
    },
    "id": "uVD62TVsjRtr"
   },
   "outputs": [],
   "source": [
    "#extracting the year from title\n",
    "movies_df[\"year\"] = movies_df['title'].str.extract(r'\\((\\d{4})\\)$')\n",
    "movies_df[\"year\"].fillna(0,inplace=True)"
   ]
  },
  {
   "cell_type": "code",
   "execution_count": 35,
   "metadata": {
    "execution": {
     "iopub.execute_input": "2022-12-20T15:56:05.525842Z",
     "iopub.status.busy": "2022-12-20T15:56:05.525055Z",
     "iopub.status.idle": "2022-12-20T15:56:07.084746Z",
     "shell.execute_reply": "2022-12-20T15:56:07.083424Z",
     "shell.execute_reply.started": "2022-12-20T15:56:05.525806Z"
    },
    "id": "bwkz0cbRV1eD",
    "outputId": "d93a75da-96ed-4591-cba2-aa669d3ee032"
   },
   "outputs": [
    {
     "data": {
      "image/png": "[encoded data removed]",
      "text/plain": [
       "<Figure size 1728x576 with 1 Axes>"
      ]
     },
     "metadata": {
      "needs_background": "light"
     },
     "output_type": "display_data"
    }
   ],
   "source": [
    "plt.figure(figsize=(24,8))\n",
    "movies_df.groupby('year').agg('count')['movieId'].plot(kind='bar')\n",
    "plt.ylabel('Number of movies released')\n",
    "plt.title('Movies released in each year')\n",
    "plt.show()"
   ]
  },
  {
   "cell_type": "markdown",
   "metadata": {
    "id": "O5RbKlJilpUN"
   },
   "source": [
    "> The number of movies released is more or less constantly increasing from 1874 to 2015. However after 2015 there is a decrease in total movies constantly till 2018. The data may be insufficient or there may be actually a decline in total movies released after 2015.\n",
    "\n",
    "\n"
   ]
  },
  {
   "cell_type": "code",
   "execution_count": 36,
   "metadata": {
    "execution": {
     "iopub.execute_input": "2022-12-20T15:56:07.087565Z",
     "iopub.status.busy": "2022-12-20T15:56:07.086946Z",
     "iopub.status.idle": "2022-12-20T15:56:07.606766Z",
     "shell.execute_reply": "2022-12-20T15:56:07.605531Z",
     "shell.execute_reply.started": "2022-12-20T15:56:07.087517Z"
    },
    "id": "58rWap13mG-M",
    "outputId": "6294e5e6-e105-4fe9-b596-98ec281483e8"
   },
   "outputs": [
    {
     "data": {
      "text/plain": [
       "tagId  relevance\n",
       "1128   1128         13176\n",
       "dtype: int64"
      ]
     },
     "execution_count": 36,
     "metadata": {},
     "output_type": "execute_result"
    }
   ],
   "source": [
    "genome_scores_df.groupby('movieId').agg('count').value_counts()"
   ]
  },
  {
   "cell_type": "code",
   "execution_count": 37,
   "metadata": {
    "execution": {
     "iopub.execute_input": "2022-12-20T15:56:07.608290Z",
     "iopub.status.busy": "2022-12-20T15:56:07.607966Z",
     "iopub.status.idle": "2022-12-20T15:56:07.646807Z",
     "shell.execute_reply": "2022-12-20T15:56:07.645407Z",
     "shell.execute_reply.started": "2022-12-20T15:56:07.608263Z"
    },
    "id": "tELif2GQmG_T",
    "outputId": "7d44e7fa-f8a2-4923-8d67-041a13cb9753"
   },
   "outputs": [
    {
     "data": {
      "text/html": [
       "<div>\n",
       "<style scoped>\n",
       "    .dataframe tbody tr th:only-of-type {\n",
       "        vertical-align: middle;\n",
       "    }\n",
       "\n",
       "    .dataframe tbody tr th {\n",
       "        vertical-align: top;\n",
       "    }\n",
       "\n",
       "    .dataframe thead th {\n",
       "        text-align: right;\n",
       "    }\n",
       "</style>\n",
       "<table border=\"1\" class=\"dataframe\">\n",
       "  <thead>\n",
       "    <tr style=\"text-align: right;\">\n",
       "      <th></th>\n",
       "      <th>movieId</th>\n",
       "    </tr>\n",
       "    <tr>\n",
       "      <th>userId</th>\n",
       "      <th></th>\n",
       "    </tr>\n",
       "  </thead>\n",
       "  <tbody>\n",
       "    <tr>\n",
       "      <th>14</th>\n",
       "      <td>13</td>\n",
       "    </tr>\n",
       "    <tr>\n",
       "      <th>27</th>\n",
       "      <td>4</td>\n",
       "    </tr>\n",
       "    <tr>\n",
       "      <th>42</th>\n",
       "      <td>3</td>\n",
       "    </tr>\n",
       "    <tr>\n",
       "      <th>56</th>\n",
       "      <td>39</td>\n",
       "    </tr>\n",
       "    <tr>\n",
       "      <th>75</th>\n",
       "      <td>161</td>\n",
       "    </tr>\n",
       "    <tr>\n",
       "      <th>...</th>\n",
       "      <td>...</td>\n",
       "    </tr>\n",
       "    <tr>\n",
       "      <th>283184</th>\n",
       "      <td>81</td>\n",
       "    </tr>\n",
       "    <tr>\n",
       "      <th>283191</th>\n",
       "      <td>2</td>\n",
       "    </tr>\n",
       "    <tr>\n",
       "      <th>283195</th>\n",
       "      <td>9</td>\n",
       "    </tr>\n",
       "    <tr>\n",
       "      <th>283206</th>\n",
       "      <td>127</td>\n",
       "    </tr>\n",
       "    <tr>\n",
       "      <th>283221</th>\n",
       "      <td>1</td>\n",
       "    </tr>\n",
       "  </tbody>\n",
       "</table>\n",
       "<p>19325 rows × 1 columns</p>\n",
       "</div>"
      ],
      "text/plain": [
       "        movieId\n",
       "userId         \n",
       "14           13\n",
       "27            4\n",
       "42            3\n",
       "56           39\n",
       "75          161\n",
       "...         ...\n",
       "283184       81\n",
       "283191        2\n",
       "283195        9\n",
       "283206      127\n",
       "283221        1\n",
       "\n",
       "[19325 rows x 1 columns]"
      ]
     },
     "execution_count": 37,
     "metadata": {},
     "output_type": "execute_result"
    }
   ],
   "source": [
    "tags_df.groupby('userId').agg({'movieId':'count'})"
   ]
  },
  {
   "cell_type": "code",
   "execution_count": null,
   "metadata": {
    "id": "IW2U8f--LFfA"
   },
   "outputs": [],
   "source": []
  },
  {
   "cell_type": "code",
   "execution_count": null,
   "metadata": {
    "id": "N8xxMsVvhX7w"
   },
   "outputs": [],
   "source": []
  },
  {
   "cell_type": "markdown",
   "metadata": {
    "id": "PCkszVdPmsOw"
   },
   "source": [
    "# Collaborative Filtering Recommendation System"
   ]
  },
  {
   "cell_type": "markdown",
   "metadata": {},
   "source": [
    " The goal of a collaborative filtering recommender system is to generate two vectors: For each user, a 'parameter vector' that embodies the movie tastes of a user. For each movie, a feature vector of the same size which embodies some description of the movie. The dot product of the two vectors plus the bias term should produce an estimate of the rating the user might give to that movie."
   ]
  },
  {
   "attachments": {
    "6aa85b4f-7873-49f5-adf5-6f3768cc6a10.PNG": {
     "image/png": "[encoded data removed]"
    }
   },
   "cell_type": "markdown",
   "metadata": {},
   "source": [
    "![ColabFilterUse.PNG](attachment:6aa85b4f-7873-49f5-adf5-6f3768cc6a10.PNG)"
   ]
  },
  {
   "cell_type": "markdown",
   "metadata": {
    "id": "zL4c2LBz0psM"
   },
   "source": [
    "## Data Preprocessing"
   ]
  },
  {
   "cell_type": "code",
   "execution_count": 14,
   "metadata": {
    "execution": {
     "iopub.execute_input": "2022-12-20T16:33:51.646224Z",
     "iopub.status.busy": "2022-12-20T16:33:51.645765Z",
     "iopub.status.idle": "2022-12-20T16:33:51.864419Z",
     "shell.execute_reply": "2022-12-20T16:33:51.862541Z",
     "shell.execute_reply.started": "2022-12-20T16:33:51.646185Z"
    },
    "id": "9BR8GkIw0yBe",
    "outputId": "a1059bfe-cdf0-45d8-b1a0-8b2380cb579b"
   },
   "outputs": [
    {
     "name": "stdout",
     "output_type": "stream",
     "text": [
      "Number of users:  283228\n",
      "Number of movies:  58098\n"
     ]
    }
   ],
   "source": [
    "num_users = ratings_df['userId'].nunique()\n",
    "num_movies = movies_df['movieId'].nunique()\n",
    "print(\"Number of users: \",num_users)\n",
    "print(\"Number of movies: \",num_movies)"
   ]
  },
  {
   "cell_type": "markdown",
   "metadata": {},
   "source": [
    "### Preprocessing to encode the user id and movie id as integer indices."
   ]
  },
  {
   "cell_type": "code",
   "execution_count": 15,
   "metadata": {
    "execution": {
     "iopub.execute_input": "2022-12-20T16:33:51.869176Z",
     "iopub.status.busy": "2022-12-20T16:33:51.868723Z",
     "iopub.status.idle": "2022-12-20T16:33:52.432126Z",
     "shell.execute_reply": "2022-12-20T16:33:52.430858Z",
     "shell.execute_reply.started": "2022-12-20T16:33:51.869141Z"
    },
    "id": "apnGcgi40yC4"
   },
   "outputs": [],
   "source": [
    "# mapper to get movieId given movie index\n",
    "getMovieId = dict(movies_df['movieId'])\n",
    "# mapper to get movie index in matrix given movie id\n",
    "getMovieIdx = {value:key for key,value in getMovieId.items()}\n",
    "\n",
    "# mapper for userId\n",
    "user_ids = ratings_df[\"userId\"].unique().tolist()\n",
    "getUserId = {i:x for i,x in enumerate(user_ids)}\n",
    "getUserIdx = {x:i for i,x in enumerate(user_ids)}"
   ]
  },
  {
   "cell_type": "code",
   "execution_count": 16,
   "metadata": {
    "execution": {
     "iopub.execute_input": "2022-12-20T16:33:52.433974Z",
     "iopub.status.busy": "2022-12-20T16:33:52.433626Z",
     "iopub.status.idle": "2022-12-20T16:33:53.869748Z",
     "shell.execute_reply": "2022-12-20T16:33:53.868393Z",
     "shell.execute_reply.started": "2022-12-20T16:33:52.433943Z"
    }
   },
   "outputs": [
    {
     "name": "stdout",
     "output_type": "stream",
     "text": [
      "Min rating:  0.5\n",
      "Max rating:  5.0\n"
     ]
    }
   ],
   "source": [
    "# encode movieid and userid \n",
    "ratings_df[\"user\"] = ratings_df[\"userId\"].map(getUserIdx)\n",
    "ratings_df[\"movie\"] = ratings_df[\"movieId\"].map(getMovieIdx)\n",
    "\n",
    "ratings_df[\"rating\"] = ratings_df[\"rating\"].values\n",
    "min_rating = ratings_df[\"rating\"].min()\n",
    "max_rating = ratings_df[\"rating\"].max()\n",
    "\n",
    "print(\"Min rating: \",min_rating)\n",
    "print(\"Max rating: \",max_rating)"
   ]
  },
  {
   "cell_type": "markdown",
   "metadata": {},
   "source": [
    "### Extracting rare User Ids and Movie Ids"
   ]
  },
  {
   "cell_type": "code",
   "execution_count": 17,
   "metadata": {
    "execution": {
     "iopub.execute_input": "2022-12-20T16:33:53.874229Z",
     "iopub.status.busy": "2022-12-20T16:33:53.873797Z",
     "iopub.status.idle": "2022-12-20T16:34:07.962483Z",
     "shell.execute_reply": "2022-12-20T16:34:07.960721Z",
     "shell.execute_reply.started": "2022-12-20T16:33:53.874192Z"
    }
   },
   "outputs": [],
   "source": [
    "# user ids who rated only one movie\n",
    "rareuserId_loc = ratings_df[[\"userId\",\"movieId\"]].groupby(\"userId\").filter(lambda group:len(group)==1).index\n",
    "# movie ids having only one rating\n",
    "raremovieId_loc = ratings_df[[\"userId\",\"movieId\"]].groupby(\"movieId\").filter(lambda group:len(group)==1).index\n",
    "rareusermovie = np.union1d(rareuserId_loc, raremovieId_loc)"
   ]
  },
  {
   "cell_type": "code",
   "execution_count": 18,
   "metadata": {
    "execution": {
     "iopub.execute_input": "2022-12-20T16:34:07.965338Z",
     "iopub.status.busy": "2022-12-20T16:34:07.964529Z",
     "iopub.status.idle": "2022-12-20T16:34:09.681514Z",
     "shell.execute_reply": "2022-12-20T16:34:09.680283Z",
     "shell.execute_reply.started": "2022-12-20T16:34:07.965276Z"
    }
   },
   "outputs": [],
   "source": [
    "rare_df = ratings_df.iloc[rareusermovie]\n",
    "df = ratings_df.drop(index=rareusermovie)"
   ]
  },
  {
   "cell_type": "code",
   "execution_count": 19,
   "metadata": {
    "execution": {
     "iopub.execute_input": "2022-12-20T16:34:09.683437Z",
     "iopub.status.busy": "2022-12-20T16:34:09.683039Z",
     "iopub.status.idle": "2022-12-20T16:34:09.837315Z",
     "shell.execute_reply": "2022-12-20T16:34:09.835878Z",
     "shell.execute_reply.started": "2022-12-20T16:34:09.683401Z"
    }
   },
   "outputs": [],
   "source": [
    "x = df[[\"user\",\"movie\"]].values\n",
    "y = df[\"rating\"].values"
   ]
  },
  {
   "cell_type": "code",
   "execution_count": 20,
   "metadata": {
    "execution": {
     "iopub.execute_input": "2022-12-20T16:34:09.842672Z",
     "iopub.status.busy": "2022-12-20T16:34:09.841854Z",
     "iopub.status.idle": "2022-12-20T16:34:09.852133Z",
     "shell.execute_reply": "2022-12-20T16:34:09.850403Z",
     "shell.execute_reply.started": "2022-12-20T16:34:09.842625Z"
    }
   },
   "outputs": [],
   "source": [
    "x_rare = rare_df[[\"user\",\"movie\"]].values\n",
    "y_rare = rare_df[\"rating\"].values"
   ]
  },
  {
   "cell_type": "markdown",
   "metadata": {},
   "source": [
    "## Traning and Validation data"
   ]
  },
  {
   "cell_type": "markdown",
   "metadata": {},
   "source": [
    "Since dataset size is 27M, we take 0.02% as test split. This gives around 555000 test samples."
   ]
  },
  {
   "cell_type": "code",
   "execution_count": 21,
   "metadata": {
    "execution": {
     "iopub.execute_input": "2022-12-20T16:34:09.854080Z",
     "iopub.status.busy": "2022-12-20T16:34:09.853578Z",
     "iopub.status.idle": "2022-12-20T16:34:27.072960Z",
     "shell.execute_reply": "2022-12-20T16:34:27.071700Z",
     "shell.execute_reply.started": "2022-12-20T16:34:09.854020Z"
    }
   },
   "outputs": [],
   "source": [
    "x_train, x_test, y_train, y_test = train_test_split(x,y,test_size=0.02,shuffle=True, stratify=y)"
   ]
  },
  {
   "cell_type": "code",
   "execution_count": 22,
   "metadata": {
    "execution": {
     "iopub.execute_input": "2022-12-20T16:34:27.075249Z",
     "iopub.status.busy": "2022-12-20T16:34:27.074760Z",
     "iopub.status.idle": "2022-12-20T16:34:27.333687Z",
     "shell.execute_reply": "2022-12-20T16:34:27.331906Z",
     "shell.execute_reply.started": "2022-12-20T16:34:27.075199Z"
    }
   },
   "outputs": [],
   "source": [
    "x_train = np.concatenate((x_train,x_rare),axis=0)\n",
    "y_train = np.concatenate((y_train,y_rare),axis=0).reshape(-1,1)\n",
    "\n",
    "y_test = y_test.reshape(-1,1)"
   ]
  },
  {
   "cell_type": "code",
   "execution_count": 23,
   "metadata": {
    "execution": {
     "iopub.execute_input": "2022-12-20T16:34:27.336762Z",
     "iopub.status.busy": "2022-12-20T16:34:27.335542Z",
     "iopub.status.idle": "2022-12-20T16:34:27.343783Z",
     "shell.execute_reply": "2022-12-20T16:34:27.342399Z",
     "shell.execute_reply.started": "2022-12-20T16:34:27.336689Z"
    }
   },
   "outputs": [
    {
     "name": "stdout",
     "output_type": "stream",
     "text": [
      "Training size:  (27198690, 2)\n",
      "Test size:  (554754, 2)\n"
     ]
    }
   ],
   "source": [
    "print(\"Training size: \",x_train.shape)\n",
    "print(\"Test size: \",x_test.shape)"
   ]
  },
  {
   "cell_type": "markdown",
   "metadata": {},
   "source": [
    "## Normalizing Ratings between -1 and 1"
   ]
  },
  {
   "cell_type": "markdown",
   "metadata": {},
   "source": [
    "Normalizing helps to \n",
    "1. Run the optimization algorithm faster.\n",
    "2. Train a better model that gives reasonable predictions for new users or movies."
   ]
  },
  {
   "cell_type": "code",
   "execution_count": 24,
   "metadata": {
    "execution": {
     "iopub.execute_input": "2022-12-20T16:34:27.346586Z",
     "iopub.status.busy": "2022-12-20T16:34:27.345996Z",
     "iopub.status.idle": "2022-12-20T16:34:27.604843Z",
     "shell.execute_reply": "2022-12-20T16:34:27.603575Z",
     "shell.execute_reply.started": "2022-12-20T16:34:27.346536Z"
    }
   },
   "outputs": [],
   "source": [
    "scalerTarget = MinMaxScaler((-1,1))\n",
    "y_train = scalerTarget.fit_transform(y_train)\n",
    "y_test = scalerTarget.transform(y_test)"
   ]
  },
  {
   "cell_type": "code",
   "execution_count": 25,
   "metadata": {
    "execution": {
     "iopub.execute_input": "2022-12-20T16:34:27.607124Z",
     "iopub.status.busy": "2022-12-20T16:34:27.606644Z",
     "iopub.status.idle": "2022-12-20T16:34:27.614126Z",
     "shell.execute_reply": "2022-12-20T16:34:27.612753Z",
     "shell.execute_reply.started": "2022-12-20T16:34:27.607066Z"
    }
   },
   "outputs": [],
   "source": [
    "with open(\"scalerTarget.pickle\",\"wb\") as f:\n",
    "    pickle.dump(scalerTarget, f) "
   ]
  },
  {
   "cell_type": "markdown",
   "metadata": {},
   "source": [
    "## Model Building"
   ]
  },
  {
   "cell_type": "code",
   "execution_count": 26,
   "metadata": {
    "execution": {
     "iopub.execute_input": "2022-12-20T16:34:27.616933Z",
     "iopub.status.busy": "2022-12-20T16:34:27.616364Z",
     "iopub.status.idle": "2022-12-20T16:34:27.629295Z",
     "shell.execute_reply": "2022-12-20T16:34:27.628393Z",
     "shell.execute_reply.started": "2022-12-20T16:34:27.616883Z"
    }
   },
   "outputs": [],
   "source": [
    "embedding_dim = 32\n",
    "\n",
    "class CollaborativeFilteringModel(tf.keras.Model):\n",
    "    def __init__(self, num_users, num_movies, embedding_dim):\n",
    "        super(CollaborativeFilteringModel, self).__init__()\n",
    "        self.num_users = num_users\n",
    "        self.num_movies = num_movies\n",
    "        self.embedding_dim = embedding_dim\n",
    "        self.user_embedding = tf.keras.layers.Embedding(\n",
    "            num_users,\n",
    "            embedding_dim,\n",
    "            embeddings_initializer=\"uniform\",\n",
    "            embeddings_regularizer=tf.keras.regularizers.l2(),\n",
    "        )\n",
    "        self.user_bias = tf.keras.layers.Embedding(num_users, 1)\n",
    "        self.movie_embedding = tf.keras.layers.Embedding(\n",
    "            num_movies,\n",
    "            embedding_dim,\n",
    "            embeddings_initializer=\"uniform\",\n",
    "            embeddings_regularizer=tf.keras.regularizers.l2(),\n",
    "        )\n",
    "        self.movie_bias = tf.keras.layers.Embedding(num_movies, 1)\n",
    "\n",
    "    def call(self, inputs):\n",
    "        user_vector = self.user_embedding(inputs[:, 0])\n",
    "        user_bias = self.user_bias(inputs[:, 0])\n",
    "        movie_vector = self.movie_embedding(inputs[:, 1])\n",
    "        movie_bias = self.movie_bias(inputs[:, 1])\n",
    "        dot_user_movie = tf.tensordot(user_vector, movie_vector, 2)\n",
    "        # Add all the components (including bias)\n",
    "        x = dot_user_movie + user_bias + movie_bias\n",
    "        # The sigmoid activation forces the rating to between 0 and 1\n",
    "        return tf.nn.tanh(x)\n",
    "\n"
   ]
  },
  {
   "cell_type": "code",
   "execution_count": 27,
   "metadata": {
    "execution": {
     "iopub.execute_input": "2022-12-20T16:34:27.633081Z",
     "iopub.status.busy": "2022-12-20T16:34:27.632049Z",
     "iopub.status.idle": "2022-12-20T16:34:27.650385Z",
     "shell.execute_reply": "2022-12-20T16:34:27.649144Z",
     "shell.execute_reply.started": "2022-12-20T16:34:27.633035Z"
    }
   },
   "outputs": [],
   "source": [
    "# configure gpu\n",
    "\n",
    "gpus = tf.config.list_physical_devices('GPU'); \n",
    "if len(gpus) == 1:\n",
    "    strategy = tf.distribute.OneDeviceStrategy(device='/gpu:0')\n",
    "elif len(gpus) > 1:\n",
    "    strategy = tf.distribute.MirroredStrategy()\n",
    "else:\n",
    "    strategy = tf.distribute.OneDeviceStrategy(device='/cpu:0')\n"
   ]
  },
  {
   "cell_type": "code",
   "execution_count": 28,
   "metadata": {
    "execution": {
     "iopub.execute_input": "2022-12-20T16:34:27.652697Z",
     "iopub.status.busy": "2022-12-20T16:34:27.652304Z",
     "iopub.status.idle": "2022-12-20T16:34:27.686124Z",
     "shell.execute_reply": "2022-12-20T16:34:27.685041Z",
     "shell.execute_reply.started": "2022-12-20T16:34:27.652663Z"
    }
   },
   "outputs": [],
   "source": [
    "# exponential decay schedule for learning rate\n",
    "lr_schedule = tf.keras.optimizers.schedules.ExponentialDecay(initial_learning_rate=0.01,\n",
    "                                                            decay_steps=5000,\n",
    "                                                            decay_rate=0.96)\n",
    "# adam optimizer\n",
    "adam = tf.keras.optimizers.Adam(learning_rate=lr_schedule)\n",
    "\n",
    "#with strategy.scope():\n",
    "# create model\n",
    "model_cfr = CollaborativeFilteringModel(num_users, num_movies, embedding_dim)\n",
    "\n",
    "# compile the model with optimizer, loss and metrics\n",
    "model_cfr.compile(\n",
    "    loss=tf.keras.losses.MeanAbsoluteError(),\n",
    "    optimizer=adam,\n",
    "    metrics=['mse']\n",
    ")"
   ]
  },
  {
   "cell_type": "code",
   "execution_count": 46,
   "metadata": {
    "execution": {
     "iopub.execute_input": "2022-12-20T13:31:14.021113Z",
     "iopub.status.busy": "2022-12-20T13:31:14.020750Z",
     "iopub.status.idle": "2022-12-20T14:03:46.110073Z",
     "shell.execute_reply": "2022-12-20T14:03:46.109142Z",
     "shell.execute_reply.started": "2022-12-20T13:31:14.021083Z"
    }
   },
   "outputs": [
    {
     "name": "stderr",
     "output_type": "stream",
     "text": [
      "2022-12-20 13:31:14.024543: W tensorflow/core/framework/cpu_allocator_impl.cc:80] Allocation of 426475456 exceeds 10% of free system memory.\n",
      "2022-12-20 13:31:14.749420: W tensorflow/core/framework/cpu_allocator_impl.cc:80] Allocation of 426475456 exceeds 10% of free system memory.\n"
     ]
    },
    {
     "name": "stdout",
     "output_type": "stream",
     "text": [
      "Epoch 1/10\n",
      "26030/26030 [==============================] - 200s 8ms/step - loss: 0.3539 - mse: 0.1755 - val_loss: 0.3245 - val_mse: 0.1763\n",
      "Epoch 2/10\n",
      "26030/26030 [==============================] - 196s 8ms/step - loss: 0.3166 - mse: 0.1703 - val_loss: 0.3145 - val_mse: 0.1747\n",
      "Epoch 3/10\n",
      "26030/26030 [==============================] - 195s 8ms/step - loss: 0.3089 - mse: 0.1662 - val_loss: 0.3135 - val_mse: 0.1729\n",
      "Epoch 4/10\n",
      "26030/26030 [==============================] - 195s 7ms/step - loss: 0.3033 - mse: 0.1630 - val_loss: 0.3084 - val_mse: 0.1715\n",
      "Epoch 5/10\n",
      "26030/26030 [==============================] - 195s 7ms/step - loss: 0.2992 - mse: 0.1604 - val_loss: 0.3067 - val_mse: 0.1702\n",
      "Epoch 6/10\n",
      "26030/26030 [==============================] - 194s 7ms/step - loss: 0.2960 - mse: 0.1584 - val_loss: 0.3048 - val_mse: 0.1692\n",
      "Epoch 7/10\n",
      "26030/26030 [==============================] - 194s 7ms/step - loss: 0.2936 - mse: 0.1568 - val_loss: 0.3032 - val_mse: 0.1684\n",
      "Epoch 8/10\n",
      "26030/26030 [==============================] - 194s 7ms/step - loss: 0.2918 - mse: 0.1555 - val_loss: 0.3021 - val_mse: 0.1678\n",
      "Epoch 9/10\n",
      "26030/26030 [==============================] - 194s 7ms/step - loss: 0.2903 - mse: 0.1545 - val_loss: 0.3012 - val_mse: 0.1671\n",
      "Epoch 10/10\n",
      "26030/26030 [==============================] - 193s 7ms/step - loss: 0.2892 - mse: 0.1536 - val_loss: 0.3006 - val_mse: 0.1668\n"
     ]
    }
   ],
   "source": [
    "#with strategy.scope():\n",
    "hist = model_cfr.fit(x_train,y_train, batch_size=1024, epochs=10,\n",
    "                 validation_split=0.02,\n",
    "                 shuffle=True)"
   ]
  },
  {
   "cell_type": "code",
   "execution_count": 47,
   "metadata": {
    "execution": {
     "iopub.execute_input": "2022-12-20T14:03:46.112866Z",
     "iopub.status.busy": "2022-12-20T14:03:46.112215Z",
     "iopub.status.idle": "2022-12-20T14:03:46.314564Z",
     "shell.execute_reply": "2022-12-20T14:03:46.313649Z",
     "shell.execute_reply.started": "2022-12-20T14:03:46.112827Z"
    }
   },
   "outputs": [
    {
     "data": {
      "image/png": "[encoded data removed]",
      "text/plain": [
       "<Figure size 432x288 with 1 Axes>"
      ]
     },
     "metadata": {
      "needs_background": "light"
     },
     "output_type": "display_data"
    }
   ],
   "source": [
    "plt.plot(range(1,len( hist.history['loss'] )+1),hist.history['loss'],label=\"train_loss\")\n",
    "plt.plot(range(1,len( hist.history['loss'] )+1),hist.history['val_loss'],label=\"val_loss\")\n",
    "plt.title(\"Mean Absolute Error\")\n",
    "plt.legend()\n",
    "plt.show()"
   ]
  },
  {
   "cell_type": "code",
   "execution_count": 48,
   "metadata": {
    "execution": {
     "iopub.execute_input": "2022-12-20T14:03:46.316568Z",
     "iopub.status.busy": "2022-12-20T14:03:46.316020Z",
     "iopub.status.idle": "2022-12-20T14:03:52.302663Z",
     "shell.execute_reply": "2022-12-20T14:03:52.301613Z",
     "shell.execute_reply.started": "2022-12-20T14:03:46.316533Z"
    }
   },
   "outputs": [
    {
     "name": "stdout",
     "output_type": "stream",
     "text": [
      "2168/2168 [==============================] - 6s 3ms/step - loss: 0.2918 - mse: 0.1560\n"
     ]
    },
    {
     "data": {
      "text/plain": [
       "[0.29179394245147705, 0.15600314736366272]"
      ]
     },
     "execution_count": 48,
     "metadata": {},
     "output_type": "execute_result"
    }
   ],
   "source": [
    "model_cfr.evaluate(x_test,y_test, batch_size=256)"
   ]
  },
  {
   "cell_type": "code",
   "execution_count": null,
   "metadata": {},
   "outputs": [],
   "source": [
    "y_train_pred = model_cfr.predict(x_train)\n",
    "y_train_pred_ori = scalerTarget.inverse_transform(y_train_pred)\n",
    "y_train_true = scalerTarget.inverse_transform(y_train)\n",
    "\n",
    "r2score = r2_score( y_train_true, y_train_pred_ori)\n",
    "\n",
    "mape = mean_absolute_percentage_error( y_train_true,y_train_pred_ori)\n",
    "\n",
    "rmse = mean_squared_error(y_train_true,y_train_pred_ori ,squared=False)\n",
    "\n",
    "print(\"Training Data: \\n ============================================\")\n",
    "print(\"R2 Squared: \",r2score)\n",
    "print(\"Mean Absolute Percentage Error: \",mape)\n",
    "print(\"Root Mean Squared Error: \",rmse)"
   ]
  },
  {
   "cell_type": "markdown",
   "metadata": {},
   "source": [
    "* The mae value is nearly same for all training, validation and test dataset ==> Model has not overfitted the data."
   ]
  },
  {
   "cell_type": "code",
   "execution_count": 49,
   "metadata": {
    "execution": {
     "iopub.execute_input": "2022-12-20T14:03:52.305980Z",
     "iopub.status.busy": "2022-12-20T14:03:52.305587Z",
     "iopub.status.idle": "2022-12-20T14:04:33.389105Z",
     "shell.execute_reply": "2022-12-20T14:04:33.388021Z",
     "shell.execute_reply.started": "2022-12-20T14:03:52.305951Z"
    }
   },
   "outputs": [
    {
     "name": "stdout",
     "output_type": "stream",
     "text": [
      "Test Data: \n",
      " =====================\n",
      "R2 Squared :  0.3053127829076744\n",
      "Mean Absolute Percentage Error :  0.30260918141738036\n",
      "Root Mean Squared Error:  0.8886878891357899\n"
     ]
    }
   ],
   "source": [
    "y_pred_test = model_cfr.predict(x_test)\n",
    "\n",
    "r2score = r2_score(scalerTarget.inverse_transform(y_test), scalerTarget.inverse_transform(y_pred_test))\n",
    "\n",
    "mape = mean_absolute_percentage_error(scalerTarget.inverse_transform(y_test), scalerTarget.inverse_transform(y_pred_test))\n",
    "rmse = mean_squared_error(scalerTarget.inverse_transform(y_test), scalerTarget.inverse_transform(y_pred_test),squared=False)\n",
    "print(\"Test Data: \\n =====================\")\n",
    "print(\"R2 Squared : \",r2score)\n",
    "print(\"Mean Absolute Percentage Error : \",mape)\n",
    "print(\"Root Mean Squared Error: \",rmse)\n"
   ]
  },
  {
   "cell_type": "code",
   "execution_count": 50,
   "metadata": {
    "execution": {
     "iopub.execute_input": "2022-12-20T14:04:33.391191Z",
     "iopub.status.busy": "2022-12-20T14:04:33.390507Z",
     "iopub.status.idle": "2022-12-20T14:04:33.448673Z",
     "shell.execute_reply": "2022-12-20T14:04:33.447716Z",
     "shell.execute_reply.started": "2022-12-20T14:04:33.391154Z"
    }
   },
   "outputs": [
    {
     "data": {
      "text/html": [
       "<div>\n",
       "<style scoped>\n",
       "    .dataframe tbody tr th:only-of-type {\n",
       "        vertical-align: middle;\n",
       "    }\n",
       "\n",
       "    .dataframe tbody tr th {\n",
       "        vertical-align: top;\n",
       "    }\n",
       "\n",
       "    .dataframe thead th {\n",
       "        text-align: right;\n",
       "    }\n",
       "</style>\n",
       "<table border=\"1\" class=\"dataframe\">\n",
       "  <thead>\n",
       "    <tr style=\"text-align: right;\">\n",
       "      <th></th>\n",
       "      <th>y_pred</th>\n",
       "      <th>y_true</th>\n",
       "    </tr>\n",
       "  </thead>\n",
       "  <tbody>\n",
       "    <tr>\n",
       "      <th>0</th>\n",
       "      <td>[4.0851731300354]</td>\n",
       "      <td>[4.0]</td>\n",
       "    </tr>\n",
       "    <tr>\n",
       "      <th>1</th>\n",
       "      <td>[3.8002779483795166]</td>\n",
       "      <td>[4.0]</td>\n",
       "    </tr>\n",
       "    <tr>\n",
       "      <th>2</th>\n",
       "      <td>[3.9603869915008545]</td>\n",
       "      <td>[3.4999999999999996]</td>\n",
       "    </tr>\n",
       "    <tr>\n",
       "      <th>3</th>\n",
       "      <td>[3.552946090698242]</td>\n",
       "      <td>[5.000000000000001]</td>\n",
       "    </tr>\n",
       "    <tr>\n",
       "      <th>4</th>\n",
       "      <td>[2.827181577682495]</td>\n",
       "      <td>[3.0]</td>\n",
       "    </tr>\n",
       "    <tr>\n",
       "      <th>5</th>\n",
       "      <td>[3.942416191101074]</td>\n",
       "      <td>[3.0]</td>\n",
       "    </tr>\n",
       "    <tr>\n",
       "      <th>6</th>\n",
       "      <td>[2.8563528060913086]</td>\n",
       "      <td>[2.0]</td>\n",
       "    </tr>\n",
       "    <tr>\n",
       "      <th>7</th>\n",
       "      <td>[4.146396636962891]</td>\n",
       "      <td>[4.0]</td>\n",
       "    </tr>\n",
       "    <tr>\n",
       "      <th>8</th>\n",
       "      <td>[3.2351672649383545]</td>\n",
       "      <td>[2.5000000000000004]</td>\n",
       "    </tr>\n",
       "    <tr>\n",
       "      <th>9</th>\n",
       "      <td>[2.3193764686584473]</td>\n",
       "      <td>[1.0]</td>\n",
       "    </tr>\n",
       "  </tbody>\n",
       "</table>\n",
       "</div>"
      ],
      "text/plain": [
       "                 y_pred                y_true\n",
       "0     [4.0851731300354]                 [4.0]\n",
       "1  [3.8002779483795166]                 [4.0]\n",
       "2  [3.9603869915008545]  [3.4999999999999996]\n",
       "3   [3.552946090698242]   [5.000000000000001]\n",
       "4   [2.827181577682495]                 [3.0]\n",
       "5   [3.942416191101074]                 [3.0]\n",
       "6  [2.8563528060913086]                 [2.0]\n",
       "7   [4.146396636962891]                 [4.0]\n",
       "8  [3.2351672649383545]  [2.5000000000000004]\n",
       "9  [2.3193764686584473]                 [1.0]"
      ]
     },
     "execution_count": 50,
     "metadata": {},
     "output_type": "execute_result"
    }
   ],
   "source": [
    "y_pred = model_cfr.predict(x_test[0:10])\n",
    "y_pred = scalerTarget.inverse_transform(y_pred)\n",
    "pd.DataFrame({\"y_pred\":y_pred.tolist(),\n",
    "             \"y_true\":scalerTarget.inverse_transform(y_test[0:10]).tolist()})\n"
   ]
  },
  {
   "cell_type": "markdown",
   "metadata": {},
   "source": [
    "* The predicted and actual value of the ratings are nearly same with error of 0.9."
   ]
  },
  {
   "cell_type": "code",
   "execution_count": 51,
   "metadata": {
    "execution": {
     "iopub.execute_input": "2022-12-20T14:04:33.450499Z",
     "iopub.status.busy": "2022-12-20T14:04:33.450131Z",
     "iopub.status.idle": "2022-12-20T14:04:33.557279Z",
     "shell.execute_reply": "2022-12-20T14:04:33.556282Z",
     "shell.execute_reply.started": "2022-12-20T14:04:33.450465Z"
    }
   },
   "outputs": [],
   "source": [
    "# save the model weights\n",
    "model_cfr.save_weights(\"model_cfr_weights.h5\")\n"
   ]
  },
  {
   "cell_type": "markdown",
   "metadata": {},
   "source": [
    "## Top N movie recommendations to a User"
   ]
  },
  {
   "cell_type": "code",
   "execution_count": null,
   "metadata": {},
   "outputs": [],
   "source": [
    "#with strategy.scope():\n",
    "#hist = model_cfr.fit(x_train,y_train, batch_size=1024, epochs=10,\n",
    "#                 validation_split=0.02,\n",
    "#                 shuffle=True)"
   ]
  },
  {
   "cell_type": "code",
   "execution_count": 30,
   "metadata": {
    "execution": {
     "iopub.execute_input": "2022-12-20T16:45:52.474457Z",
     "iopub.status.busy": "2022-12-20T16:45:52.473931Z",
     "iopub.status.idle": "2022-12-20T16:45:53.901629Z",
     "shell.execute_reply": "2022-12-20T16:45:53.900189Z",
     "shell.execute_reply.started": "2022-12-20T16:45:52.474417Z"
    }
   },
   "outputs": [],
   "source": [
    "# load the model weights\n",
    "model_cfr.load_weights(\"/kaggle/input/collaborative-filtering-movie-recommendation-model/model_cfr_weights.h5\")"
   ]
  },
  {
   "cell_type": "code",
   "execution_count": 41,
   "metadata": {
    "execution": {
     "iopub.execute_input": "2022-12-20T16:52:58.529722Z",
     "iopub.status.busy": "2022-12-20T16:52:58.529200Z",
     "iopub.status.idle": "2022-12-20T16:52:58.540458Z",
     "shell.execute_reply": "2022-12-20T16:52:58.538990Z",
     "shell.execute_reply.started": "2022-12-20T16:52:58.529681Z"
    }
   },
   "outputs": [],
   "source": [
    "def get_recommendations(user_id, top_N=10, movies_df=movies_df):\n",
    "    movies_watched = ratings_df[ratings_df[\"userId\"]==user_id].movieId.unique().tolist()\n",
    "    movies_not_watched = movies_df[~movies_df.movieId.isin(movies_watched)].movieId.values.tolist()\n",
    "    movies_not_watched_idx = [[getMovieIdx.get(x)] for x in movies_not_watched]\n",
    "    user_idx = getUserIdx.get(user_id)\n",
    "    movie_user_array = np.hstack(([[user_idx]]*len(movies_not_watched_idx), movies_not_watched_idx))\n",
    "    user_ratings = model_cfr.predict(movie_user_array)\n",
    "    user_ratings = scalerTarget.inverse_transform(user_ratings).flatten()\n",
    "\n",
    "    sorted_idx = np.argsort(-user_ratings).tolist()\n",
    "    topNRecommendations = movies_df.iloc[sorted_idx[:top_N],:].reset_index()\n",
    "    topNRecommendations[\"rating_pred\"] = user_ratings[sorted_idx][:top_N]\n",
    "\n",
    "    return topNRecommendations\n"
   ]
  },
  {
   "cell_type": "code",
   "execution_count": 42,
   "metadata": {
    "execution": {
     "iopub.execute_input": "2022-12-20T16:52:59.352629Z",
     "iopub.status.busy": "2022-12-20T16:52:59.352188Z",
     "iopub.status.idle": "2022-12-20T16:53:01.040182Z",
     "shell.execute_reply": "2022-12-20T16:53:01.038855Z",
     "shell.execute_reply.started": "2022-12-20T16:52:59.352586Z"
    }
   },
   "outputs": [
    {
     "name": "stdout",
     "output_type": "stream",
     "text": [
      "Top10 movie recommendations for user 1007:\n",
      "\n"
     ]
    },
    {
     "data": {
      "text/html": [
       "<div>\n",
       "<style scoped>\n",
       "    .dataframe tbody tr th:only-of-type {\n",
       "        vertical-align: middle;\n",
       "    }\n",
       "\n",
       "    .dataframe tbody tr th {\n",
       "        vertical-align: top;\n",
       "    }\n",
       "\n",
       "    .dataframe thead th {\n",
       "        text-align: right;\n",
       "    }\n",
       "</style>\n",
       "<table border=\"1\" class=\"dataframe\">\n",
       "  <thead>\n",
       "    <tr style=\"text-align: right;\">\n",
       "      <th></th>\n",
       "      <th>index</th>\n",
       "      <th>movieId</th>\n",
       "      <th>title</th>\n",
       "      <th>genres</th>\n",
       "      <th>rating_pred</th>\n",
       "    </tr>\n",
       "  </thead>\n",
       "  <tbody>\n",
       "    <tr>\n",
       "      <th>0</th>\n",
       "      <td>35617</td>\n",
       "      <td>142667</td>\n",
       "      <td>Black River (2001)</td>\n",
       "      <td>Sci-Fi|Thriller</td>\n",
       "      <td>4.998482</td>\n",
       "    </tr>\n",
       "    <tr>\n",
       "      <th>1</th>\n",
       "      <td>36938</td>\n",
       "      <td>145763</td>\n",
       "      <td>Il ricco, il povero e il maggiordomo (2014)</td>\n",
       "      <td>Comedy</td>\n",
       "      <td>4.995584</td>\n",
       "    </tr>\n",
       "    <tr>\n",
       "      <th>2</th>\n",
       "      <td>35505</td>\n",
       "      <td>142428</td>\n",
       "      <td>Winter Meeting (1948)</td>\n",
       "      <td>Drama|Romance</td>\n",
       "      <td>4.994129</td>\n",
       "    </tr>\n",
       "    <tr>\n",
       "      <th>3</th>\n",
       "      <td>18089</td>\n",
       "      <td>90112</td>\n",
       "      <td>First Love (1939)</td>\n",
       "      <td>Comedy|Musical</td>\n",
       "      <td>4.992551</td>\n",
       "    </tr>\n",
       "    <tr>\n",
       "      <th>4</th>\n",
       "      <td>19260</td>\n",
       "      <td>95064</td>\n",
       "      <td>House of the Rising Sun (2011)</td>\n",
       "      <td>Action|Crime|Drama|Thriller</td>\n",
       "      <td>4.932662</td>\n",
       "    </tr>\n",
       "    <tr>\n",
       "      <th>5</th>\n",
       "      <td>33071</td>\n",
       "      <td>136706</td>\n",
       "      <td>Cinema of Vengeance (1994)</td>\n",
       "      <td>(no genres listed)</td>\n",
       "      <td>4.932565</td>\n",
       "    </tr>\n",
       "    <tr>\n",
       "      <th>6</th>\n",
       "      <td>3060</td>\n",
       "      <td>3146</td>\n",
       "      <td>Deuce Bigalow: Male Gigolo (1999)</td>\n",
       "      <td>Comedy</td>\n",
       "      <td>4.928058</td>\n",
       "    </tr>\n",
       "    <tr>\n",
       "      <th>7</th>\n",
       "      <td>31523</td>\n",
       "      <td>133097</td>\n",
       "      <td>Orgasmo (1969)</td>\n",
       "      <td>(no genres listed)</td>\n",
       "      <td>4.917220</td>\n",
       "    </tr>\n",
       "    <tr>\n",
       "      <th>8</th>\n",
       "      <td>36171</td>\n",
       "      <td>143974</td>\n",
       "      <td>Home (2011)</td>\n",
       "      <td>Drama</td>\n",
       "      <td>4.913219</td>\n",
       "    </tr>\n",
       "    <tr>\n",
       "      <th>9</th>\n",
       "      <td>22181</td>\n",
       "      <td>105844</td>\n",
       "      <td>12 Years a Slave (2013)</td>\n",
       "      <td>Drama</td>\n",
       "      <td>4.911044</td>\n",
       "    </tr>\n",
       "  </tbody>\n",
       "</table>\n",
       "</div>"
      ],
      "text/plain": [
       "   index  movieId                                        title  \\\n",
       "0  35617   142667                           Black River (2001)   \n",
       "1  36938   145763  Il ricco, il povero e il maggiordomo (2014)   \n",
       "2  35505   142428                        Winter Meeting (1948)   \n",
       "3  18089    90112                            First Love (1939)   \n",
       "4  19260    95064               House of the Rising Sun (2011)   \n",
       "5  33071   136706                   Cinema of Vengeance (1994)   \n",
       "6   3060     3146            Deuce Bigalow: Male Gigolo (1999)   \n",
       "7  31523   133097                               Orgasmo (1969)   \n",
       "8  36171   143974                                  Home (2011)   \n",
       "9  22181   105844                      12 Years a Slave (2013)   \n",
       "\n",
       "                        genres  rating_pred  \n",
       "0              Sci-Fi|Thriller     4.998482  \n",
       "1                       Comedy     4.995584  \n",
       "2                Drama|Romance     4.994129  \n",
       "3               Comedy|Musical     4.992551  \n",
       "4  Action|Crime|Drama|Thriller     4.932662  \n",
       "5           (no genres listed)     4.932565  \n",
       "6                       Comedy     4.928058  \n",
       "7           (no genres listed)     4.917220  \n",
       "8                        Drama     4.913219  \n",
       "9                        Drama     4.911044  "
      ]
     },
     "execution_count": 42,
     "metadata": {},
     "output_type": "execute_result"
    }
   ],
   "source": [
    "top_N = 10\n",
    "uid = 1007\n",
    "\n",
    "MoviesRecommended = get_recommendations(uid, top_N)\n",
    "print(f\"Top{top_N} movie recommendations for user {uid}:\\n\")\n",
    "MoviesRecommended.head(top_N)"
   ]
  },
  {
   "cell_type": "markdown",
   "metadata": {},
   "source": [
    "**Top 5 Movies rated by the user**"
   ]
  },
  {
   "cell_type": "code",
   "execution_count": 45,
   "metadata": {
    "execution": {
     "iopub.execute_input": "2022-12-20T16:56:40.273546Z",
     "iopub.status.busy": "2022-12-20T16:56:40.273092Z",
     "iopub.status.idle": "2022-12-20T16:56:40.328529Z",
     "shell.execute_reply": "2022-12-20T16:56:40.327127Z",
     "shell.execute_reply.started": "2022-12-20T16:56:40.273497Z"
    }
   },
   "outputs": [
    {
     "data": {
      "text/html": [
       "<div>\n",
       "<style scoped>\n",
       "    .dataframe tbody tr th:only-of-type {\n",
       "        vertical-align: middle;\n",
       "    }\n",
       "\n",
       "    .dataframe tbody tr th {\n",
       "        vertical-align: top;\n",
       "    }\n",
       "\n",
       "    .dataframe thead th {\n",
       "        text-align: right;\n",
       "    }\n",
       "</style>\n",
       "<table border=\"1\" class=\"dataframe\">\n",
       "  <thead>\n",
       "    <tr style=\"text-align: right;\">\n",
       "      <th></th>\n",
       "      <th>userId</th>\n",
       "      <th>movieId</th>\n",
       "      <th>rating</th>\n",
       "      <th>title</th>\n",
       "      <th>genres</th>\n",
       "    </tr>\n",
       "  </thead>\n",
       "  <tbody>\n",
       "    <tr>\n",
       "      <th>0</th>\n",
       "      <td>1007</td>\n",
       "      <td>3844</td>\n",
       "      <td>5.0</td>\n",
       "      <td>Steel Magnolias (1989)</td>\n",
       "      <td>Drama</td>\n",
       "    </tr>\n",
       "    <tr>\n",
       "      <th>1</th>\n",
       "      <td>1007</td>\n",
       "      <td>3405</td>\n",
       "      <td>5.0</td>\n",
       "      <td>Night to Remember, A (1958)</td>\n",
       "      <td>Action|Drama</td>\n",
       "    </tr>\n",
       "    <tr>\n",
       "      <th>2</th>\n",
       "      <td>1007</td>\n",
       "      <td>2599</td>\n",
       "      <td>5.0</td>\n",
       "      <td>Election (1999)</td>\n",
       "      <td>Comedy</td>\n",
       "    </tr>\n",
       "    <tr>\n",
       "      <th>3</th>\n",
       "      <td>1007</td>\n",
       "      <td>539</td>\n",
       "      <td>5.0</td>\n",
       "      <td>Sleepless in Seattle (1993)</td>\n",
       "      <td>Comedy|Drama|Romance</td>\n",
       "    </tr>\n",
       "    <tr>\n",
       "      <th>4</th>\n",
       "      <td>1007</td>\n",
       "      <td>356</td>\n",
       "      <td>5.0</td>\n",
       "      <td>Forrest Gump (1994)</td>\n",
       "      <td>Comedy|Drama|Romance|War</td>\n",
       "    </tr>\n",
       "  </tbody>\n",
       "</table>\n",
       "</div>"
      ],
      "text/plain": [
       "   userId  movieId  rating                        title  \\\n",
       "0    1007     3844     5.0       Steel Magnolias (1989)   \n",
       "1    1007     3405     5.0  Night to Remember, A (1958)   \n",
       "2    1007     2599     5.0              Election (1999)   \n",
       "3    1007      539     5.0  Sleepless in Seattle (1993)   \n",
       "4    1007      356     5.0          Forrest Gump (1994)   \n",
       "\n",
       "                     genres  \n",
       "0                     Drama  \n",
       "1              Action|Drama  \n",
       "2                    Comedy  \n",
       "3      Comedy|Drama|Romance  \n",
       "4  Comedy|Drama|Romance|War  "
      ]
     },
     "execution_count": 45,
     "metadata": {},
     "output_type": "execute_result"
    }
   ],
   "source": [
    "ratings_df[ratings_df[\"userId\"]==uid][[\"userId\",\"movieId\",\"rating\"]].sort_values(by=\"rating\",ascending=False).head(5).merge(movies_df,on=\"movieId\",how=\"left\")"
   ]
  },
  {
   "cell_type": "markdown",
   "metadata": {},
   "source": [
    "* We can see the genre of the recommended movies matched with the genre of the top 5 movies rated by the user's"
   ]
  },
  {
   "cell_type": "code",
   "execution_count": null,
   "metadata": {},
   "outputs": [],
   "source": [
    "   "
   ]
  },
  {
   "cell_type": "code",
   "execution_count": null,
   "metadata": {},
   "outputs": [],
   "source": []
  },
  {
   "cell_type": "markdown",
   "metadata": {},
   "source": [
    "<a id=\"Content-based filtering Movie Recommendation System\"></a>\n",
    "# Content-based filtering Movie Recommendation System"
   ]
  },
  {
   "cell_type": "markdown",
   "metadata": {},
   "source": [
    "Content-based filtering also generates a user and movie feature vector but recognizes there may be other information available about the user and/or movie that may improve the prediction. The additional information is provided to a neural network which then generates the user and movie vector as shown below."
   ]
  },
  {
   "attachments": {
    "8cd6df6f-01c1-4b3f-a574-67316c3511d3.png": {
     "image/png": "[encoded data removed]"
    }
   },
   "cell_type": "markdown",
   "metadata": {},
   "source": [
    "![RecSysNN.png](attachment:8cd6df6f-01c1-4b3f-a574-67316c3511d3.png)"
   ]
  },
  {
   "cell_type": "markdown",
   "metadata": {},
   "source": [
    "<a id=\"Preprocessing Data\"></a>\n",
    "## Preprocessing Data"
   ]
  },
  {
   "cell_type": "markdown",
   "metadata": {},
   "source": [
    "### Feature Engineering for Movies"
   ]
  },
  {
   "cell_type": "code",
   "execution_count": 38,
   "metadata": {
    "execution": {
     "iopub.execute_input": "2022-12-20T15:56:07.650318Z",
     "iopub.status.busy": "2022-12-20T15:56:07.649233Z",
     "iopub.status.idle": "2022-12-20T15:56:07.680721Z",
     "shell.execute_reply": "2022-12-20T15:56:07.679323Z",
     "shell.execute_reply.started": "2022-12-20T15:56:07.650280Z"
    }
   },
   "outputs": [
    {
     "data": {
      "text/html": [
       "<div>\n",
       "<style scoped>\n",
       "    .dataframe tbody tr th:only-of-type {\n",
       "        vertical-align: middle;\n",
       "    }\n",
       "\n",
       "    .dataframe tbody tr th {\n",
       "        vertical-align: top;\n",
       "    }\n",
       "\n",
       "    .dataframe thead th {\n",
       "        text-align: right;\n",
       "    }\n",
       "</style>\n",
       "<table border=\"1\" class=\"dataframe\">\n",
       "  <thead>\n",
       "    <tr style=\"text-align: right;\">\n",
       "      <th></th>\n",
       "      <th>movieId</th>\n",
       "      <th>(no genres listed)</th>\n",
       "      <th>Action</th>\n",
       "      <th>Adventure</th>\n",
       "      <th>Animation</th>\n",
       "      <th>Children</th>\n",
       "      <th>Comedy</th>\n",
       "      <th>Crime</th>\n",
       "      <th>Documentary</th>\n",
       "      <th>Drama</th>\n",
       "      <th>...</th>\n",
       "      <th>Horror</th>\n",
       "      <th>IMAX</th>\n",
       "      <th>Musical</th>\n",
       "      <th>Mystery</th>\n",
       "      <th>Romance</th>\n",
       "      <th>Sci-Fi</th>\n",
       "      <th>Thriller</th>\n",
       "      <th>War</th>\n",
       "      <th>Western</th>\n",
       "      <th>year</th>\n",
       "    </tr>\n",
       "  </thead>\n",
       "  <tbody>\n",
       "    <tr>\n",
       "      <th>0</th>\n",
       "      <td>1</td>\n",
       "      <td>0</td>\n",
       "      <td>0</td>\n",
       "      <td>1</td>\n",
       "      <td>1</td>\n",
       "      <td>1</td>\n",
       "      <td>1</td>\n",
       "      <td>0</td>\n",
       "      <td>0</td>\n",
       "      <td>0</td>\n",
       "      <td>...</td>\n",
       "      <td>0</td>\n",
       "      <td>0</td>\n",
       "      <td>0</td>\n",
       "      <td>0</td>\n",
       "      <td>0</td>\n",
       "      <td>0</td>\n",
       "      <td>0</td>\n",
       "      <td>0</td>\n",
       "      <td>0</td>\n",
       "      <td>1995</td>\n",
       "    </tr>\n",
       "    <tr>\n",
       "      <th>1</th>\n",
       "      <td>2</td>\n",
       "      <td>0</td>\n",
       "      <td>0</td>\n",
       "      <td>1</td>\n",
       "      <td>0</td>\n",
       "      <td>1</td>\n",
       "      <td>0</td>\n",
       "      <td>0</td>\n",
       "      <td>0</td>\n",
       "      <td>0</td>\n",
       "      <td>...</td>\n",
       "      <td>0</td>\n",
       "      <td>0</td>\n",
       "      <td>0</td>\n",
       "      <td>0</td>\n",
       "      <td>0</td>\n",
       "      <td>0</td>\n",
       "      <td>0</td>\n",
       "      <td>0</td>\n",
       "      <td>0</td>\n",
       "      <td>1995</td>\n",
       "    </tr>\n",
       "    <tr>\n",
       "      <th>2</th>\n",
       "      <td>3</td>\n",
       "      <td>0</td>\n",
       "      <td>0</td>\n",
       "      <td>0</td>\n",
       "      <td>0</td>\n",
       "      <td>0</td>\n",
       "      <td>1</td>\n",
       "      <td>0</td>\n",
       "      <td>0</td>\n",
       "      <td>0</td>\n",
       "      <td>...</td>\n",
       "      <td>0</td>\n",
       "      <td>0</td>\n",
       "      <td>0</td>\n",
       "      <td>0</td>\n",
       "      <td>1</td>\n",
       "      <td>0</td>\n",
       "      <td>0</td>\n",
       "      <td>0</td>\n",
       "      <td>0</td>\n",
       "      <td>1995</td>\n",
       "    </tr>\n",
       "    <tr>\n",
       "      <th>3</th>\n",
       "      <td>4</td>\n",
       "      <td>0</td>\n",
       "      <td>0</td>\n",
       "      <td>0</td>\n",
       "      <td>0</td>\n",
       "      <td>0</td>\n",
       "      <td>1</td>\n",
       "      <td>0</td>\n",
       "      <td>0</td>\n",
       "      <td>1</td>\n",
       "      <td>...</td>\n",
       "      <td>0</td>\n",
       "      <td>0</td>\n",
       "      <td>0</td>\n",
       "      <td>0</td>\n",
       "      <td>1</td>\n",
       "      <td>0</td>\n",
       "      <td>0</td>\n",
       "      <td>0</td>\n",
       "      <td>0</td>\n",
       "      <td>1995</td>\n",
       "    </tr>\n",
       "    <tr>\n",
       "      <th>4</th>\n",
       "      <td>5</td>\n",
       "      <td>0</td>\n",
       "      <td>0</td>\n",
       "      <td>0</td>\n",
       "      <td>0</td>\n",
       "      <td>0</td>\n",
       "      <td>1</td>\n",
       "      <td>0</td>\n",
       "      <td>0</td>\n",
       "      <td>0</td>\n",
       "      <td>...</td>\n",
       "      <td>0</td>\n",
       "      <td>0</td>\n",
       "      <td>0</td>\n",
       "      <td>0</td>\n",
       "      <td>0</td>\n",
       "      <td>0</td>\n",
       "      <td>0</td>\n",
       "      <td>0</td>\n",
       "      <td>0</td>\n",
       "      <td>1995</td>\n",
       "    </tr>\n",
       "  </tbody>\n",
       "</table>\n",
       "<p>5 rows × 22 columns</p>\n",
       "</div>"
      ],
      "text/plain": [
       "   movieId  (no genres listed)  Action  Adventure  Animation  Children  \\\n",
       "0        1                   0       0          1          1         1   \n",
       "1        2                   0       0          1          0         1   \n",
       "2        3                   0       0          0          0         0   \n",
       "3        4                   0       0          0          0         0   \n",
       "4        5                   0       0          0          0         0   \n",
       "\n",
       "   Comedy  Crime  Documentary  Drama  ...  Horror  IMAX  Musical  Mystery  \\\n",
       "0       1      0            0      0  ...       0     0        0        0   \n",
       "1       0      0            0      0  ...       0     0        0        0   \n",
       "2       1      0            0      0  ...       0     0        0        0   \n",
       "3       1      0            0      1  ...       0     0        0        0   \n",
       "4       1      0            0      0  ...       0     0        0        0   \n",
       "\n",
       "   Romance  Sci-Fi  Thriller  War  Western  year  \n",
       "0        0       0         0    0        0  1995  \n",
       "1        0       0         0    0        0  1995  \n",
       "2        1       0         0    0        0  1995  \n",
       "3        1       0         0    0        0  1995  \n",
       "4        0       0         0    0        0  1995  \n",
       "\n",
       "[5 rows x 22 columns]"
      ]
     },
     "execution_count": 38,
     "metadata": {},
     "output_type": "execute_result"
    }
   ],
   "source": [
    "movie_features = movies_df.copy()\n",
    "#removing unwanted columns\n",
    "movie_features.drop(columns=['title','genres','genre'],inplace=True)\n",
    "movie_features.head()"
   ]
  },
  {
   "cell_type": "code",
   "execution_count": 39,
   "metadata": {
    "execution": {
     "iopub.execute_input": "2022-12-20T15:56:07.682480Z",
     "iopub.status.busy": "2022-12-20T15:56:07.682118Z",
     "iopub.status.idle": "2022-12-20T15:56:09.063575Z",
     "shell.execute_reply": "2022-12-20T15:56:09.062297Z",
     "shell.execute_reply.started": "2022-12-20T15:56:07.682448Z"
    }
   },
   "outputs": [
    {
     "data": {
      "text/html": [
       "<div>\n",
       "<style scoped>\n",
       "    .dataframe tbody tr th:only-of-type {\n",
       "        vertical-align: middle;\n",
       "    }\n",
       "\n",
       "    .dataframe tbody tr th {\n",
       "        vertical-align: top;\n",
       "    }\n",
       "\n",
       "    .dataframe thead th {\n",
       "        text-align: right;\n",
       "    }\n",
       "</style>\n",
       "<table border=\"1\" class=\"dataframe\">\n",
       "  <thead>\n",
       "    <tr style=\"text-align: right;\">\n",
       "      <th></th>\n",
       "      <th>movieId</th>\n",
       "      <th>year</th>\n",
       "      <th>avg_rating</th>\n",
       "      <th>(no genres listed)</th>\n",
       "      <th>Action</th>\n",
       "      <th>Adventure</th>\n",
       "      <th>Animation</th>\n",
       "      <th>Children</th>\n",
       "      <th>Comedy</th>\n",
       "      <th>Crime</th>\n",
       "      <th>...</th>\n",
       "      <th>Film-Noir</th>\n",
       "      <th>Horror</th>\n",
       "      <th>IMAX</th>\n",
       "      <th>Musical</th>\n",
       "      <th>Mystery</th>\n",
       "      <th>Romance</th>\n",
       "      <th>Sci-Fi</th>\n",
       "      <th>Thriller</th>\n",
       "      <th>War</th>\n",
       "      <th>Western</th>\n",
       "    </tr>\n",
       "  </thead>\n",
       "  <tbody>\n",
       "    <tr>\n",
       "      <th>0</th>\n",
       "      <td>1</td>\n",
       "      <td>1995</td>\n",
       "      <td>3.886649</td>\n",
       "      <td>0</td>\n",
       "      <td>0</td>\n",
       "      <td>1</td>\n",
       "      <td>1</td>\n",
       "      <td>1</td>\n",
       "      <td>1</td>\n",
       "      <td>0</td>\n",
       "      <td>...</td>\n",
       "      <td>0</td>\n",
       "      <td>0</td>\n",
       "      <td>0</td>\n",
       "      <td>0</td>\n",
       "      <td>0</td>\n",
       "      <td>0</td>\n",
       "      <td>0</td>\n",
       "      <td>0</td>\n",
       "      <td>0</td>\n",
       "      <td>0</td>\n",
       "    </tr>\n",
       "    <tr>\n",
       "      <th>1</th>\n",
       "      <td>2</td>\n",
       "      <td>1995</td>\n",
       "      <td>3.246583</td>\n",
       "      <td>0</td>\n",
       "      <td>0</td>\n",
       "      <td>1</td>\n",
       "      <td>0</td>\n",
       "      <td>1</td>\n",
       "      <td>0</td>\n",
       "      <td>0</td>\n",
       "      <td>...</td>\n",
       "      <td>0</td>\n",
       "      <td>0</td>\n",
       "      <td>0</td>\n",
       "      <td>0</td>\n",
       "      <td>0</td>\n",
       "      <td>0</td>\n",
       "      <td>0</td>\n",
       "      <td>0</td>\n",
       "      <td>0</td>\n",
       "      <td>0</td>\n",
       "    </tr>\n",
       "    <tr>\n",
       "      <th>2</th>\n",
       "      <td>3</td>\n",
       "      <td>1995</td>\n",
       "      <td>3.173981</td>\n",
       "      <td>0</td>\n",
       "      <td>0</td>\n",
       "      <td>0</td>\n",
       "      <td>0</td>\n",
       "      <td>0</td>\n",
       "      <td>1</td>\n",
       "      <td>0</td>\n",
       "      <td>...</td>\n",
       "      <td>0</td>\n",
       "      <td>0</td>\n",
       "      <td>0</td>\n",
       "      <td>0</td>\n",
       "      <td>0</td>\n",
       "      <td>1</td>\n",
       "      <td>0</td>\n",
       "      <td>0</td>\n",
       "      <td>0</td>\n",
       "      <td>0</td>\n",
       "    </tr>\n",
       "    <tr>\n",
       "      <th>3</th>\n",
       "      <td>4</td>\n",
       "      <td>1995</td>\n",
       "      <td>2.874540</td>\n",
       "      <td>0</td>\n",
       "      <td>0</td>\n",
       "      <td>0</td>\n",
       "      <td>0</td>\n",
       "      <td>0</td>\n",
       "      <td>1</td>\n",
       "      <td>0</td>\n",
       "      <td>...</td>\n",
       "      <td>0</td>\n",
       "      <td>0</td>\n",
       "      <td>0</td>\n",
       "      <td>0</td>\n",
       "      <td>0</td>\n",
       "      <td>1</td>\n",
       "      <td>0</td>\n",
       "      <td>0</td>\n",
       "      <td>0</td>\n",
       "      <td>0</td>\n",
       "    </tr>\n",
       "    <tr>\n",
       "      <th>4</th>\n",
       "      <td>5</td>\n",
       "      <td>1995</td>\n",
       "      <td>3.077291</td>\n",
       "      <td>0</td>\n",
       "      <td>0</td>\n",
       "      <td>0</td>\n",
       "      <td>0</td>\n",
       "      <td>0</td>\n",
       "      <td>1</td>\n",
       "      <td>0</td>\n",
       "      <td>...</td>\n",
       "      <td>0</td>\n",
       "      <td>0</td>\n",
       "      <td>0</td>\n",
       "      <td>0</td>\n",
       "      <td>0</td>\n",
       "      <td>0</td>\n",
       "      <td>0</td>\n",
       "      <td>0</td>\n",
       "      <td>0</td>\n",
       "      <td>0</td>\n",
       "    </tr>\n",
       "  </tbody>\n",
       "</table>\n",
       "<p>5 rows × 23 columns</p>\n",
       "</div>"
      ],
      "text/plain": [
       "   movieId  year  avg_rating  (no genres listed)  Action  Adventure  \\\n",
       "0        1  1995    3.886649                   0       0          1   \n",
       "1        2  1995    3.246583                   0       0          1   \n",
       "2        3  1995    3.173981                   0       0          0   \n",
       "3        4  1995    2.874540                   0       0          0   \n",
       "4        5  1995    3.077291                   0       0          0   \n",
       "\n",
       "   Animation  Children  Comedy  Crime  ...  Film-Noir  Horror  IMAX  Musical  \\\n",
       "0          1         1       1      0  ...          0       0     0        0   \n",
       "1          0         1       0      0  ...          0       0     0        0   \n",
       "2          0         0       1      0  ...          0       0     0        0   \n",
       "3          0         0       1      0  ...          0       0     0        0   \n",
       "4          0         0       1      0  ...          0       0     0        0   \n",
       "\n",
       "   Mystery  Romance  Sci-Fi  Thriller  War  Western  \n",
       "0        0        0       0         0    0        0  \n",
       "1        0        0       0         0    0        0  \n",
       "2        0        1       0         0    0        0  \n",
       "3        0        1       0         0    0        0  \n",
       "4        0        0       0         0    0        0  \n",
       "\n",
       "[5 rows x 23 columns]"
      ]
     },
     "execution_count": 39,
     "metadata": {},
     "output_type": "execute_result"
    }
   ],
   "source": [
    "#add average rating for each movie\n",
    "movie_features = movie_features.merge(ratings_df[['movieId','rating']].groupby('movieId').agg('mean').reset_index().rename(columns={'rating':'avg_rating'}),on='movieId',how='left')\n",
    "#change the order of year column\n",
    "movie_features = movie_features.iloc[:,[0,-2,-1]+list(range(1,len(movie_features.columns)-2))]\n",
    "movie_features.head()"
   ]
  },
  {
   "cell_type": "code",
   "execution_count": 40,
   "metadata": {
    "execution": {
     "iopub.execute_input": "2022-12-20T15:56:09.065870Z",
     "iopub.status.busy": "2022-12-20T15:56:09.065488Z",
     "iopub.status.idle": "2022-12-20T15:56:09.073141Z",
     "shell.execute_reply": "2022-12-20T15:56:09.071737Z",
     "shell.execute_reply.started": "2022-12-20T15:56:09.065838Z"
    }
   },
   "outputs": [
    {
     "name": "stdout",
     "output_type": "stream",
     "text": [
      "There are total  22  features for a movie.\n",
      "\n",
      "Features for Movie are:\n",
      "\n",
      " ['year' 'avg_rating' '(no genres listed)' 'Action' 'Adventure' 'Animation'\n",
      " 'Children' 'Comedy' 'Crime' 'Documentary' 'Drama' 'Fantasy' 'Film-Noir'\n",
      " 'Horror' 'IMAX' 'Musical' 'Mystery' 'Romance' 'Sci-Fi' 'Thriller' 'War'\n",
      " 'Western']\n"
     ]
    }
   ],
   "source": [
    "print(\"There are total \",len(movie_features.columns[1:]),\" features for a movie.\\n\")\n",
    "print(\"Features for Movie are:\\n\\n\",movie_features.columns[1:].values)"
   ]
  },
  {
   "cell_type": "code",
   "execution_count": null,
   "metadata": {},
   "outputs": [],
   "source": [
    "# saving movie features as csv file\n",
    "movie_features.to_csv(\"movie_features.csv\", index=False)\n"
   ]
  },
  {
   "cell_type": "markdown",
   "metadata": {},
   "source": [
    "### Feature Engineering for Users"
   ]
  },
  {
   "cell_type": "markdown",
   "metadata": {},
   "source": [
    "#### Get Per Genre rating average for user"
   ]
  },
  {
   "cell_type": "code",
   "execution_count": 41,
   "metadata": {
    "execution": {
     "iopub.execute_input": "2022-12-20T15:56:09.075931Z",
     "iopub.status.busy": "2022-12-20T15:56:09.075275Z",
     "iopub.status.idle": "2022-12-20T15:57:20.539094Z",
     "shell.execute_reply": "2022-12-20T15:57:20.537766Z",
     "shell.execute_reply.started": "2022-12-20T15:56:09.075875Z"
    }
   },
   "outputs": [
    {
     "data": {
      "text/html": [
       "<div>\n",
       "<style scoped>\n",
       "    .dataframe tbody tr th:only-of-type {\n",
       "        vertical-align: middle;\n",
       "    }\n",
       "\n",
       "    .dataframe tbody tr th {\n",
       "        vertical-align: top;\n",
       "    }\n",
       "\n",
       "    .dataframe thead th {\n",
       "        text-align: right;\n",
       "    }\n",
       "</style>\n",
       "<table border=\"1\" class=\"dataframe\">\n",
       "  <thead>\n",
       "    <tr style=\"text-align: right;\">\n",
       "      <th></th>\n",
       "      <th>userId</th>\n",
       "      <th>movieId</th>\n",
       "      <th>rating</th>\n",
       "      <th>genres</th>\n",
       "    </tr>\n",
       "  </thead>\n",
       "  <tbody>\n",
       "    <tr>\n",
       "      <th>0</th>\n",
       "      <td>1</td>\n",
       "      <td>307</td>\n",
       "      <td>3.5</td>\n",
       "      <td>Drama</td>\n",
       "    </tr>\n",
       "    <tr>\n",
       "      <th>1</th>\n",
       "      <td>1</td>\n",
       "      <td>481</td>\n",
       "      <td>3.5</td>\n",
       "      <td>Drama</td>\n",
       "    </tr>\n",
       "    <tr>\n",
       "      <th>1</th>\n",
       "      <td>1</td>\n",
       "      <td>481</td>\n",
       "      <td>3.5</td>\n",
       "      <td>Thriller</td>\n",
       "    </tr>\n",
       "    <tr>\n",
       "      <th>2</th>\n",
       "      <td>1</td>\n",
       "      <td>1091</td>\n",
       "      <td>1.5</td>\n",
       "      <td>Comedy</td>\n",
       "    </tr>\n",
       "    <tr>\n",
       "      <th>3</th>\n",
       "      <td>1</td>\n",
       "      <td>1257</td>\n",
       "      <td>4.5</td>\n",
       "      <td>Comedy</td>\n",
       "    </tr>\n",
       "  </tbody>\n",
       "</table>\n",
       "</div>"
      ],
      "text/plain": [
       "   userId  movieId  rating    genres\n",
       "0       1      307     3.5     Drama\n",
       "1       1      481     3.5     Drama\n",
       "1       1      481     3.5  Thriller\n",
       "2       1     1091     1.5    Comedy\n",
       "3       1     1257     4.5    Comedy"
      ]
     },
     "execution_count": 41,
     "metadata": {},
     "output_type": "execute_result"
    }
   ],
   "source": [
    "user_features = ratings_df[[\"userId\",\"movieId\",\"rating\"]].merge(movies_df[[\"movieId\",\"genres\"]], on=\"movieId\", how=\"left\")\n",
    "user_features[\"genres\"] = user_features[\"genres\"].apply(lambda x:x.split(\"|\"))\n",
    "user_features = user_features.explode(column=\"genres\")\n",
    "user_features.head()"
   ]
  },
  {
   "cell_type": "code",
   "execution_count": 43,
   "metadata": {
    "execution": {
     "iopub.execute_input": "2022-12-20T15:58:17.588649Z",
     "iopub.status.busy": "2022-12-20T15:58:17.587496Z",
     "iopub.status.idle": "2022-12-20T15:58:19.858059Z",
     "shell.execute_reply": "2022-12-20T15:58:19.856823Z",
     "shell.execute_reply.started": "2022-12-20T15:58:17.588609Z"
    }
   },
   "outputs": [],
   "source": [
    "user_features = user_features.groupby([\"userId\",\"genres\"]).agg({\"rating\":\"mean\"}).reset_index()"
   ]
  },
  {
   "cell_type": "code",
   "execution_count": 44,
   "metadata": {
    "execution": {
     "iopub.execute_input": "2022-12-20T15:58:20.417418Z",
     "iopub.status.busy": "2022-12-20T15:58:20.416951Z",
     "iopub.status.idle": "2022-12-20T15:58:22.216340Z",
     "shell.execute_reply": "2022-12-20T15:58:22.214749Z",
     "shell.execute_reply.started": "2022-12-20T15:58:20.417377Z"
    }
   },
   "outputs": [
    {
     "data": {
      "text/html": [
       "<div>\n",
       "<style scoped>\n",
       "    .dataframe tbody tr th:only-of-type {\n",
       "        vertical-align: middle;\n",
       "    }\n",
       "\n",
       "    .dataframe tbody tr th {\n",
       "        vertical-align: top;\n",
       "    }\n",
       "\n",
       "    .dataframe thead th {\n",
       "        text-align: right;\n",
       "    }\n",
       "</style>\n",
       "<table border=\"1\" class=\"dataframe\">\n",
       "  <thead>\n",
       "    <tr style=\"text-align: right;\">\n",
       "      <th></th>\n",
       "      <th>userId</th>\n",
       "      <th>(no genres listed)</th>\n",
       "      <th>Action</th>\n",
       "      <th>Adventure</th>\n",
       "      <th>Animation</th>\n",
       "      <th>Children</th>\n",
       "      <th>Comedy</th>\n",
       "      <th>Crime</th>\n",
       "      <th>Documentary</th>\n",
       "      <th>Drama</th>\n",
       "      <th>...</th>\n",
       "      <th>Film-Noir</th>\n",
       "      <th>Horror</th>\n",
       "      <th>IMAX</th>\n",
       "      <th>Musical</th>\n",
       "      <th>Mystery</th>\n",
       "      <th>Romance</th>\n",
       "      <th>Sci-Fi</th>\n",
       "      <th>Thriller</th>\n",
       "      <th>War</th>\n",
       "      <th>Western</th>\n",
       "    </tr>\n",
       "  </thead>\n",
       "  <tbody>\n",
       "    <tr>\n",
       "      <th>0</th>\n",
       "      <td>1</td>\n",
       "      <td>0.0</td>\n",
       "      <td>2.875000</td>\n",
       "      <td>1.500000</td>\n",
       "      <td>0.000000</td>\n",
       "      <td>0.00000</td>\n",
       "      <td>3.750000</td>\n",
       "      <td>3.000000</td>\n",
       "      <td>0.000000</td>\n",
       "      <td>3.666667</td>\n",
       "      <td>...</td>\n",
       "      <td>0.0</td>\n",
       "      <td>2.25000</td>\n",
       "      <td>0.000000</td>\n",
       "      <td>0.000000</td>\n",
       "      <td>0.000000</td>\n",
       "      <td>4.000000</td>\n",
       "      <td>2.750000</td>\n",
       "      <td>2.642857</td>\n",
       "      <td>0.000000</td>\n",
       "      <td>4.00</td>\n",
       "    </tr>\n",
       "    <tr>\n",
       "      <th>1</th>\n",
       "      <td>2</td>\n",
       "      <td>0.0</td>\n",
       "      <td>3.500000</td>\n",
       "      <td>3.500000</td>\n",
       "      <td>0.000000</td>\n",
       "      <td>0.00000</td>\n",
       "      <td>3.611111</td>\n",
       "      <td>3.500000</td>\n",
       "      <td>0.000000</td>\n",
       "      <td>3.812500</td>\n",
       "      <td>...</td>\n",
       "      <td>0.0</td>\n",
       "      <td>4.00000</td>\n",
       "      <td>0.000000</td>\n",
       "      <td>4.000000</td>\n",
       "      <td>0.000000</td>\n",
       "      <td>3.700000</td>\n",
       "      <td>3.500000</td>\n",
       "      <td>3.500000</td>\n",
       "      <td>3.000000</td>\n",
       "      <td>0.00</td>\n",
       "    </tr>\n",
       "    <tr>\n",
       "      <th>2</th>\n",
       "      <td>3</td>\n",
       "      <td>0.0</td>\n",
       "      <td>5.000000</td>\n",
       "      <td>4.000000</td>\n",
       "      <td>0.000000</td>\n",
       "      <td>4.00000</td>\n",
       "      <td>3.500000</td>\n",
       "      <td>3.500000</td>\n",
       "      <td>0.000000</td>\n",
       "      <td>3.625000</td>\n",
       "      <td>...</td>\n",
       "      <td>0.0</td>\n",
       "      <td>3.00000</td>\n",
       "      <td>0.000000</td>\n",
       "      <td>0.000000</td>\n",
       "      <td>3.500000</td>\n",
       "      <td>0.000000</td>\n",
       "      <td>0.000000</td>\n",
       "      <td>3.666667</td>\n",
       "      <td>5.000000</td>\n",
       "      <td>0.00</td>\n",
       "    </tr>\n",
       "    <tr>\n",
       "      <th>3</th>\n",
       "      <td>4</td>\n",
       "      <td>0.0</td>\n",
       "      <td>3.619403</td>\n",
       "      <td>3.477612</td>\n",
       "      <td>3.546875</td>\n",
       "      <td>2.46875</td>\n",
       "      <td>2.904930</td>\n",
       "      <td>3.786765</td>\n",
       "      <td>3.416667</td>\n",
       "      <td>3.603734</td>\n",
       "      <td>...</td>\n",
       "      <td>5.0</td>\n",
       "      <td>3.44898</td>\n",
       "      <td>3.833333</td>\n",
       "      <td>2.545455</td>\n",
       "      <td>3.819149</td>\n",
       "      <td>3.213483</td>\n",
       "      <td>3.474138</td>\n",
       "      <td>3.727273</td>\n",
       "      <td>3.955882</td>\n",
       "      <td>2.85</td>\n",
       "    </tr>\n",
       "    <tr>\n",
       "      <th>4</th>\n",
       "      <td>5</td>\n",
       "      <td>0.0</td>\n",
       "      <td>4.269231</td>\n",
       "      <td>4.285714</td>\n",
       "      <td>0.000000</td>\n",
       "      <td>0.00000</td>\n",
       "      <td>4.263158</td>\n",
       "      <td>4.338710</td>\n",
       "      <td>4.500000</td>\n",
       "      <td>4.310000</td>\n",
       "      <td>...</td>\n",
       "      <td>4.5</td>\n",
       "      <td>0.00000</td>\n",
       "      <td>4.000000</td>\n",
       "      <td>0.000000</td>\n",
       "      <td>4.318182</td>\n",
       "      <td>4.500000</td>\n",
       "      <td>4.500000</td>\n",
       "      <td>4.250000</td>\n",
       "      <td>4.375000</td>\n",
       "      <td>4.50</td>\n",
       "    </tr>\n",
       "  </tbody>\n",
       "</table>\n",
       "<p>5 rows × 21 columns</p>\n",
       "</div>"
      ],
      "text/plain": [
       "   userId  (no genres listed)    Action  Adventure  Animation  Children  \\\n",
       "0       1                 0.0  2.875000   1.500000   0.000000   0.00000   \n",
       "1       2                 0.0  3.500000   3.500000   0.000000   0.00000   \n",
       "2       3                 0.0  5.000000   4.000000   0.000000   4.00000   \n",
       "3       4                 0.0  3.619403   3.477612   3.546875   2.46875   \n",
       "4       5                 0.0  4.269231   4.285714   0.000000   0.00000   \n",
       "\n",
       "     Comedy     Crime  Documentary     Drama  ...  Film-Noir   Horror  \\\n",
       "0  3.750000  3.000000     0.000000  3.666667  ...        0.0  2.25000   \n",
       "1  3.611111  3.500000     0.000000  3.812500  ...        0.0  4.00000   \n",
       "2  3.500000  3.500000     0.000000  3.625000  ...        0.0  3.00000   \n",
       "3  2.904930  3.786765     3.416667  3.603734  ...        5.0  3.44898   \n",
       "4  4.263158  4.338710     4.500000  4.310000  ...        4.5  0.00000   \n",
       "\n",
       "       IMAX   Musical   Mystery   Romance    Sci-Fi  Thriller       War  \\\n",
       "0  0.000000  0.000000  0.000000  4.000000  2.750000  2.642857  0.000000   \n",
       "1  0.000000  4.000000  0.000000  3.700000  3.500000  3.500000  3.000000   \n",
       "2  0.000000  0.000000  3.500000  0.000000  0.000000  3.666667  5.000000   \n",
       "3  3.833333  2.545455  3.819149  3.213483  3.474138  3.727273  3.955882   \n",
       "4  4.000000  0.000000  4.318182  4.500000  4.500000  4.250000  4.375000   \n",
       "\n",
       "   Western  \n",
       "0     4.00  \n",
       "1     0.00  \n",
       "2     0.00  \n",
       "3     2.85  \n",
       "4     4.50  \n",
       "\n",
       "[5 rows x 21 columns]"
      ]
     },
     "execution_count": 44,
     "metadata": {},
     "output_type": "execute_result"
    }
   ],
   "source": [
    "# create a pivot table for users having average rating for each genre\n",
    "user_features = user_features.pivot(index=\"userId\", columns=\"genres\",values=\"rating\")\n",
    "user_features.columns.name = None\n",
    "user_features.reset_index(inplace=True)\n",
    "user_features.fillna(0,inplace=True)\n",
    "user_features.head()"
   ]
  },
  {
   "cell_type": "code",
   "execution_count": null,
   "metadata": {
    "execution": {
     "iopub.execute_input": "2022-12-12T08:40:24.467358Z",
     "iopub.status.busy": "2022-12-12T08:40:24.467033Z",
     "iopub.status.idle": "2022-12-12T08:40:24.472846Z",
     "shell.execute_reply": "2022-12-12T08:40:24.471623Z",
     "shell.execute_reply.started": "2022-12-12T08:40:24.467328Z"
    }
   },
   "outputs": [],
   "source": [
    "# get the average rating user gives over all movies\n",
    "\n",
    "#avg_user_rating = ratings_df[[\"userId\",\"rating\"]].groupby(\"userId\").agg(\"mean\").reset_index().rename(columns={\"rating\":\"avg_rating\"})\n",
    "#user_features = user_features.merge(avg_user_rating, on=\"userId\", how=\"left\")\n",
    "#user_features = user_features.iloc[:,[0,-1]+list(range(1,len(user_features.columns)-1))]\n",
    "#user_features.head()"
   ]
  },
  {
   "cell_type": "markdown",
   "metadata": {},
   "source": [
    "The content for uers consist of per genre rating average of the users. We have total 20 features to represent the user."
   ]
  },
  {
   "cell_type": "code",
   "execution_count": null,
   "metadata": {
    "execution": {
     "iopub.execute_input": "2022-12-12T08:40:24.479427Z",
     "iopub.status.busy": "2022-12-12T08:40:24.479055Z",
     "iopub.status.idle": "2022-12-12T08:40:29.625446Z",
     "shell.execute_reply": "2022-12-12T08:40:29.624271Z",
     "shell.execute_reply.started": "2022-12-12T08:40:24.479395Z"
    }
   },
   "outputs": [],
   "source": [
    "#save the parameters for users\n",
    "\n",
    "user_features.to_csv(\"user_features.csv\", index=False)"
   ]
  },
  {
   "cell_type": "markdown",
   "metadata": {},
   "source": [
    "#### Getting User's data( which movie user has rated)"
   ]
  },
  {
   "cell_type": "code",
   "execution_count": null,
   "metadata": {},
   "outputs": [],
   "source": [
    "ratings_df = pd.read_csv(os.path.join(data_path,\"ratings.csv\"), encoding='utf-8', escapechar='\"')"
   ]
  },
  {
   "cell_type": "code",
   "execution_count": null,
   "metadata": {
    "execution": {
     "iopub.execute_input": "2022-12-15T04:27:19.642888Z",
     "iopub.status.busy": "2022-12-15T04:27:19.642320Z",
     "iopub.status.idle": "2022-12-15T04:27:21.038654Z",
     "shell.execute_reply": "2022-12-15T04:27:21.037235Z",
     "shell.execute_reply.started": "2022-12-15T04:27:19.642841Z"
    }
   },
   "outputs": [],
   "source": [
    "user_to_movies = ratings_df[[\"userId\",\"movieId\"]].groupby(\"userId\")[\"movieId\"].apply(list).reset_index(name=\"MoviesRated\").reset_index()\n",
    "userToMoviesRated = pd.Series(user_to_movies.MoviesRated, index=user_to_movies.userId).to_dict()\n",
    "with open(\"userToMoviesRated.pickle\",\"wb\") as f:\n",
    "    pickle.dump(userToMoviesRated,f)"
   ]
  },
  {
   "cell_type": "markdown",
   "metadata": {},
   "source": [
    "### Preparing Training Data"
   ]
  },
  {
   "cell_type": "code",
   "execution_count": 6,
   "metadata": {
    "execution": {
     "iopub.execute_input": "2022-12-22T08:56:38.137929Z",
     "iopub.status.busy": "2022-12-22T08:56:38.137482Z",
     "iopub.status.idle": "2022-12-22T08:56:39.367797Z",
     "shell.execute_reply": "2022-12-22T08:56:39.366415Z",
     "shell.execute_reply.started": "2022-12-22T08:56:38.137893Z"
    }
   },
   "outputs": [],
   "source": [
    "#load feature vectors for movie\n",
    "movie_features = pd.read_csv(\"/kaggle/input/movielensml-latest27m/movie_features.csv\")\n",
    "#load parameter vector for users\n",
    "user_features = pd.read_csv(\"/kaggle/input/movielensml-latest27m/user_features.csv\")"
   ]
  },
  {
   "cell_type": "code",
   "execution_count": 7,
   "metadata": {
    "execution": {
     "iopub.execute_input": "2022-12-22T08:56:39.369751Z",
     "iopub.status.busy": "2022-12-22T08:56:39.369423Z",
     "iopub.status.idle": "2022-12-22T08:56:39.374312Z",
     "shell.execute_reply": "2022-12-22T08:56:39.373402Z",
     "shell.execute_reply.started": "2022-12-22T08:56:39.369725Z"
    }
   },
   "outputs": [],
   "source": [
    "num_movies = movie_features.shape[0]\n",
    "num_users = user_features.shape[0]"
   ]
  },
  {
   "cell_type": "code",
   "execution_count": 8,
   "metadata": {
    "execution": {
     "iopub.execute_input": "2022-12-22T08:56:39.376097Z",
     "iopub.status.busy": "2022-12-22T08:56:39.375737Z",
     "iopub.status.idle": "2022-12-22T08:56:57.705837Z",
     "shell.execute_reply": "2022-12-22T08:56:57.704300Z",
     "shell.execute_reply.started": "2022-12-22T08:56:39.376064Z"
    }
   },
   "outputs": [],
   "source": [
    "X_users_data = ratings_df[[\"userId\"]].merge(user_features, on=\"userId\", how=\"left\").drop(columns=\"userId\")\n",
    "X_movies_data = ratings_df[[\"movieId\"]].merge(movie_features, on=\"movieId\", how=\"left\").drop(columns=\"movieId\")\n",
    "Y_ratings = ratings_df[[\"rating\"]]"
   ]
  },
  {
   "cell_type": "code",
   "execution_count": 9,
   "metadata": {
    "execution": {
     "iopub.execute_input": "2022-12-22T08:57:10.663974Z",
     "iopub.status.busy": "2022-12-22T08:57:10.663559Z",
     "iopub.status.idle": "2022-12-22T08:57:10.892490Z",
     "shell.execute_reply": "2022-12-22T08:57:10.888656Z",
     "shell.execute_reply.started": "2022-12-22T08:57:10.663941Z"
    }
   },
   "outputs": [
    {
     "data": {
      "text/plain": [
       "280"
      ]
     },
     "execution_count": 9,
     "metadata": {},
     "output_type": "execute_result"
    }
   ],
   "source": [
    "del movie_features, user_features, ratings_df\n",
    "gc.collect()"
   ]
  },
  {
   "cell_type": "markdown",
   "metadata": {},
   "source": [
    "### Feature Scaling"
   ]
  },
  {
   "cell_type": "code",
   "execution_count": 13,
   "metadata": {
    "execution": {
     "iopub.execute_input": "2022-12-22T09:00:34.692633Z",
     "iopub.status.busy": "2022-12-22T09:00:34.692179Z",
     "iopub.status.idle": "2022-12-22T09:00:38.422425Z",
     "shell.execute_reply": "2022-12-22T09:00:38.421180Z",
     "shell.execute_reply.started": "2022-12-22T09:00:34.692597Z"
    }
   },
   "outputs": [],
   "source": [
    "X_movies_scaled = X_movies_data.values\n",
    "\n",
    "scalerMovie = StandardScaler()\n",
    "X_movies_scaled[:,0:2] = scalerMovie.fit_transform(X_movies_data.iloc[:,0:2])\n",
    "\n",
    "scalerUser = MaxAbsScaler()\n",
    "X_users_scaled = scalerUser.fit_transform(X_users_data)\n",
    "\n",
    "scalerTarget = MinMaxScaler((-1,1))\n",
    "Y_ratings_scaled = scalerTarget.fit_transform(Y_ratings)"
   ]
  },
  {
   "cell_type": "code",
   "execution_count": 14,
   "metadata": {
    "execution": {
     "iopub.execute_input": "2022-12-22T09:00:42.428718Z",
     "iopub.status.busy": "2022-12-22T09:00:42.428338Z",
     "iopub.status.idle": "2022-12-22T09:00:42.439266Z",
     "shell.execute_reply": "2022-12-22T09:00:42.437180Z",
     "shell.execute_reply.started": "2022-12-22T09:00:42.428691Z"
    }
   },
   "outputs": [],
   "source": [
    "with open(\"scalerUser.pickle\",\"wb\") as f:\n",
    "    pickle.dump(scalerUser, f)\n",
    "with open(\"scalerMovie.pickle\",\"wb\") as f:\n",
    "    pickle.dump(scalerMovie, f)    \n",
    "with open(\"scalerTarget.pickle\",\"wb\") as f:\n",
    "    pickle.dump(scalerTarget, f)     "
   ]
  },
  {
   "cell_type": "code",
   "execution_count": 15,
   "metadata": {
    "execution": {
     "iopub.execute_input": "2022-12-22T09:00:44.524151Z",
     "iopub.status.busy": "2022-12-22T09:00:44.522356Z",
     "iopub.status.idle": "2022-12-22T09:03:00.858245Z",
     "shell.execute_reply": "2022-12-22T09:03:00.856932Z",
     "shell.execute_reply.started": "2022-12-22T09:00:44.524074Z"
    }
   },
   "outputs": [],
   "source": [
    "np.savez_compressed(\"data\",X_movies_scaled,X_users_scaled, Y_ratings_scaled)"
   ]
  },
  {
   "cell_type": "code",
   "execution_count": null,
   "metadata": {},
   "outputs": [],
   "source": [
    "del ratings_df,X_users_data, X_movies_data, Y_ratings\n",
    "gc.collect()"
   ]
  },
  {
   "cell_type": "code",
   "execution_count": null,
   "metadata": {},
   "outputs": [],
   "source": []
  },
  {
   "cell_type": "markdown",
   "metadata": {},
   "source": [
    "### Train-Test-Split"
   ]
  },
  {
   "cell_type": "code",
   "execution_count": 3,
   "metadata": {
    "execution": {
     "iopub.execute_input": "2022-12-27T07:21:12.417671Z",
     "iopub.status.busy": "2022-12-27T07:21:12.416853Z",
     "iopub.status.idle": "2022-12-27T07:21:12.461764Z",
     "shell.execute_reply": "2022-12-27T07:21:12.460348Z",
     "shell.execute_reply.started": "2022-12-27T07:21:12.417631Z"
    }
   },
   "outputs": [],
   "source": [
    "data = np.load(\"/kaggle/input/movielensml-latest27m/data.npz\")"
   ]
  },
  {
   "cell_type": "code",
   "execution_count": 4,
   "metadata": {
    "execution": {
     "iopub.execute_input": "2022-12-27T07:21:12.690674Z",
     "iopub.status.busy": "2022-12-27T07:21:12.690194Z",
     "iopub.status.idle": "2022-12-27T07:21:40.746852Z",
     "shell.execute_reply": "2022-12-27T07:21:40.745154Z",
     "shell.execute_reply.started": "2022-12-27T07:21:12.690604Z"
    }
   },
   "outputs": [],
   "source": [
    "X_movies_scaled = data[\"arr_0\"]\n",
    "X_users_scaled = data[\"arr_1\"]\n",
    "Y_ratings_scaled = data[\"arr_2\"]"
   ]
  },
  {
   "cell_type": "code",
   "execution_count": 5,
   "metadata": {
    "execution": {
     "iopub.execute_input": "2022-12-27T07:21:40.749361Z",
     "iopub.status.busy": "2022-12-27T07:21:40.748932Z",
     "iopub.status.idle": "2022-12-27T07:22:05.972792Z",
     "shell.execute_reply": "2022-12-27T07:22:05.971282Z",
     "shell.execute_reply.started": "2022-12-27T07:21:40.749324Z"
    }
   },
   "outputs": [
    {
     "name": "stdout",
     "output_type": "stream",
     "text": [
      "movie/item training data shape: (27198375, 22)\n",
      "movie/item test data shape: (555069, 22)\n"
     ]
    }
   ],
   "source": [
    "x_movies_train, x_movies_test = train_test_split(X_movies_scaled, train_size=0.98, shuffle=True, random_state=1)\n",
    "x_users_train, x_users_test = train_test_split(X_users_scaled, train_size=0.98, shuffle=True, random_state=1)\n",
    "y_train, y_test = train_test_split(Y_ratings_scaled,    train_size=0.98, shuffle=True, random_state=1)\n",
    "print(f\"movie/item training data shape: {x_movies_train.shape}\")\n",
    "print(f\"movie/item test data shape: {x_movies_test.shape}\")"
   ]
  },
  {
   "cell_type": "code",
   "execution_count": 6,
   "metadata": {
    "execution": {
     "iopub.execute_input": "2022-12-27T07:22:05.975457Z",
     "iopub.status.busy": "2022-12-27T07:22:05.974229Z",
     "iopub.status.idle": "2022-12-27T07:22:06.221864Z",
     "shell.execute_reply": "2022-12-27T07:22:06.220681Z",
     "shell.execute_reply.started": "2022-12-27T07:22:05.975420Z"
    }
   },
   "outputs": [
    {
     "data": {
      "text/plain": [
       "139"
      ]
     },
     "execution_count": 6,
     "metadata": {},
     "output_type": "execute_result"
    }
   ],
   "source": [
    "del X_movies_scaled, X_users_scaled, Y_ratings_scaled\n",
    "gc.collect()"
   ]
  },
  {
   "cell_type": "markdown",
   "metadata": {},
   "source": [
    "## Model Building"
   ]
  },
  {
   "cell_type": "code",
   "execution_count": 3,
   "metadata": {
    "execution": {
     "iopub.execute_input": "2022-12-27T11:14:05.448766Z",
     "iopub.status.busy": "2022-12-27T11:14:05.447838Z",
     "iopub.status.idle": "2022-12-27T11:14:05.455633Z",
     "shell.execute_reply": "2022-12-27T11:14:05.454666Z",
     "shell.execute_reply.started": "2022-12-27T11:14:05.448714Z"
    }
   },
   "outputs": [
    {
     "name": "stdout",
     "output_type": "stream",
     "text": [
      "Number of user contents:  20\n",
      "Number of movie contents:  22\n"
     ]
    }
   ],
   "source": [
    "num_user_features = 20 #x_users_train.shape[1]\n",
    "num_item_features = 22 #x_movies_train.shape[1]\n",
    "print(\"Number of user contents: \",num_user_features)\n",
    "print(\"Number of movie contents: \",num_item_features)"
   ]
  },
  {
   "cell_type": "code",
   "execution_count": 4,
   "metadata": {
    "execution": {
     "iopub.execute_input": "2022-12-27T11:14:05.882286Z",
     "iopub.status.busy": "2022-12-27T11:14:05.881775Z",
     "iopub.status.idle": "2022-12-27T11:14:05.897244Z",
     "shell.execute_reply": "2022-12-27T11:14:05.895624Z",
     "shell.execute_reply.started": "2022-12-27T11:14:05.882242Z"
    }
   },
   "outputs": [],
   "source": [
    "# configure gpu\n",
    "\n",
    "gpus = tf.config.list_physical_devices('GPU'); \n",
    "if len(gpus) == 1:\n",
    "    strategy = tf.distribute.OneDeviceStrategy(device='/gpu:0')\n",
    "elif len(gpus) > 1:\n",
    "    strategy = tf.distribute.MirroredStrategy()\n",
    "else:\n",
    "    #strategy = tf.distribute.OneDeviceStrategy(device='/cpu:0')\n",
    "    strategy = None\n",
    "  "
   ]
  },
  {
   "cell_type": "code",
   "execution_count": 5,
   "metadata": {
    "execution": {
     "iopub.execute_input": "2022-12-27T11:14:06.434895Z",
     "iopub.status.busy": "2022-12-27T11:14:06.433595Z",
     "iopub.status.idle": "2022-12-27T11:14:06.449239Z",
     "shell.execute_reply": "2022-12-27T11:14:06.447902Z",
     "shell.execute_reply.started": "2022-12-27T11:14:06.434841Z"
    }
   },
   "outputs": [],
   "source": [
    "num_outputs = 32\n",
    "\n",
    "def get_model():\n",
    "    input_user  = tf.keras.layers.Input(shape=(num_user_features))\n",
    "    input_item = tf.keras.layers.Input(shape=(num_item_features))\n",
    "\n",
    "    user_NN = tf.keras.Sequential([\n",
    "        tf.keras.layers.Dense(128, activation = 'relu'),\n",
    "        tf.keras.layers.Dense(256, activation = 'relu'),\n",
    "        #tf.keras.layers.Dropout(rate=0.1),\n",
    "        tf.keras.layers.Dense(128, activation = 'relu'),\n",
    "        #tf.keras.layers.Dropout(0.1),\n",
    "        tf.keras.layers.Dense(num_outputs)\n",
    "    ])\n",
    "\n",
    "    item_NN = tf.keras.Sequential([\n",
    "        tf.keras.layers.Dense(128, activation = 'relu'),\n",
    "        tf.keras.layers.Dense(256, activation = 'relu'),\n",
    "        #tf.keras.layers.Dropout(rate=0.1),\n",
    "        tf.keras.layers.Dense(128, activation = 'relu'),\n",
    "        #tf.keras.layers.Dropout(0.1),\n",
    "        tf.keras.layers.Dense(num_outputs)\n",
    "    ])\n",
    "\n",
    "    dotProduct = tf.keras.layers.Dot(axes=1)\n",
    "\n",
    "\n",
    "\n",
    "    output_user = user_NN(input_user)\n",
    "    vu = tf.linalg.l2_normalize(output_user,axis=1)\n",
    "    output_item = item_NN(input_item)\n",
    "    vi = tf.linalg.l2_normalize(output_item,axis=1)\n",
    "    #output = dotProduct([vu, vi])\n",
    "    \n",
    "    multiplied = tf.keras.layers.Multiply()([vu, vi])\n",
    "    dense1 = tf.keras.layers.Dense(64, activation='relu')(multiplied)\n",
    "    dense1 = tf.keras.layers.Dropout(0.1)(dense1)\n",
    "    output = tf.keras.layers.Dense(1,activation='tanh')(dense1)\n",
    "    \n",
    "    \n",
    "    \n",
    "    model = tf.keras.Model([input_user, input_item],output)\n",
    "    \n",
    "    return model, user_NN, item_NN\n"
   ]
  },
  {
   "cell_type": "code",
   "execution_count": 6,
   "metadata": {
    "execution": {
     "iopub.execute_input": "2022-12-27T11:14:09.273242Z",
     "iopub.status.busy": "2022-12-27T11:14:09.272761Z",
     "iopub.status.idle": "2022-12-27T11:14:09.969678Z",
     "shell.execute_reply": "2022-12-27T11:14:09.968305Z",
     "shell.execute_reply.started": "2022-12-27T11:14:09.273199Z"
    }
   },
   "outputs": [
    {
     "name": "stderr",
     "output_type": "stream",
     "text": [
      "2022-12-27 11:14:09.743594: I tensorflow/core/common_runtime/process_util.cc:146] Creating new thread pool with default inter op setting: 2. Tune using inter_op_parallelism_threads for best performance.\n"
     ]
    },
    {
     "name": "stdout",
     "output_type": "stream",
     "text": [
      "Model: \"model\"\n",
      "__________________________________________________________________________________________________\n",
      "Layer (type)                    Output Shape         Param #     Connected to                     \n",
      "==================================================================================================\n",
      "input_1 (InputLayer)            [(None, 20)]         0                                            \n",
      "__________________________________________________________________________________________________\n",
      "input_2 (InputLayer)            [(None, 22)]         0                                            \n",
      "__________________________________________________________________________________________________\n",
      "sequential (Sequential)         (None, 32)           72736       input_1[0][0]                    \n",
      "__________________________________________________________________________________________________\n",
      "sequential_1 (Sequential)       (None, 32)           72992       input_2[0][0]                    \n",
      "__________________________________________________________________________________________________\n",
      "tf.math.l2_normalize (TFOpLambd (None, 32)           0           sequential[0][0]                 \n",
      "__________________________________________________________________________________________________\n",
      "tf.math.l2_normalize_1 (TFOpLam (None, 32)           0           sequential_1[0][0]               \n",
      "__________________________________________________________________________________________________\n",
      "multiply (Multiply)             (None, 32)           0           tf.math.l2_normalize[0][0]       \n",
      "                                                                 tf.math.l2_normalize_1[0][0]     \n",
      "__________________________________________________________________________________________________\n",
      "dense_8 (Dense)                 (None, 64)           2112        multiply[0][0]                   \n",
      "__________________________________________________________________________________________________\n",
      "dropout (Dropout)               (None, 64)           0           dense_8[0][0]                    \n",
      "__________________________________________________________________________________________________\n",
      "dense_9 (Dense)                 (None, 1)            65          dropout[0][0]                    \n",
      "==================================================================================================\n",
      "Total params: 147,905\n",
      "Trainable params: 147,905\n",
      "Non-trainable params: 0\n",
      "__________________________________________________________________________________________________\n"
     ]
    }
   ],
   "source": [
    "# exponential decay fn for the learning rate schedule\n",
    "lr_schedule = tf.keras.optimizers.schedules.ExponentialDecay(initial_learning_rate=0.005,\n",
    "                                                            decay_steps=100000,\n",
    "                                                            decay_rate=0.96)\n",
    "\n",
    "adam = tf.keras.optimizers.Adam(learning_rate=lr_schedule)\n",
    "mae = tf.keras.losses.MeanAbsoluteError()\n",
    "\n",
    "def rmse(y_true,y_pred):\n",
    "    return tf.sqrt(tf.reduce_mean(tf.square(tf.subtract(y_true,y_pred))))\n",
    "\n",
    "if strategy:\n",
    "    with strategy.scope():\n",
    "        model, user_NN, movie_NN = get_model()\n",
    "        model.compile(optimizer=adam, loss=mae)\n",
    "else:\n",
    "    model, user_NN, movie_NN = get_model()\n",
    "    model.compile(optimizer=adam, loss='huber_loss', metrics=['mse'])\n",
    "    \n",
    "model.summary()    "
   ]
  },
  {
   "cell_type": "code",
   "execution_count": 7,
   "metadata": {
    "execution": {
     "iopub.execute_input": "2022-12-27T11:14:11.705363Z",
     "iopub.status.busy": "2022-12-27T11:14:11.704657Z",
     "iopub.status.idle": "2022-12-27T11:14:11.771101Z",
     "shell.execute_reply": "2022-12-27T11:14:11.769359Z",
     "shell.execute_reply.started": "2022-12-27T11:14:11.705323Z"
    }
   },
   "outputs": [],
   "source": [
    "# making a separate model for outputing user feature vector\n",
    "user_inp = tf.keras.layers.Input(shape=(num_user_features))\n",
    "user_out = user_NN(user_inp)\n",
    "user_out = tf.linalg.l2_normalize(user_out,axis=1)\n",
    "\n",
    "model_user = tf.keras.Model(user_inp, user_out)\n",
    "\n",
    "# separate model to output movie feature vectors\n",
    "item_inp = tf.keras.layers.Input(shape=(num_item_features))\n",
    "item_out = movie_NN(item_inp)\n",
    "item_out = tf.linalg.l2_normalize(item_out,axis=1)\n",
    "\n",
    "model_movie = tf.keras.Model(item_inp, item_out)"
   ]
  },
  {
   "cell_type": "code",
   "execution_count": 8,
   "metadata": {
    "execution": {
     "iopub.execute_input": "2022-12-26T10:18:38.590539Z",
     "iopub.status.busy": "2022-12-26T10:18:38.589065Z",
     "iopub.status.idle": "2022-12-26T10:18:39.059109Z",
     "shell.execute_reply": "2022-12-26T10:18:39.058031Z",
     "shell.execute_reply.started": "2022-12-26T10:18:38.590480Z"
    }
   },
   "outputs": [
    {
     "data": {
      "image/png": "[encoded data removed]",
      "text/plain": [
       "<IPython.core.display.Image object>"
      ]
     },
     "execution_count": 8,
     "metadata": {},
     "output_type": "execute_result"
    }
   ],
   "source": [
    "tf.keras.utils.plot_model(model,\"model.png\",show_shapes=True, expand_nested=True)"
   ]
  },
  {
   "cell_type": "markdown",
   "metadata": {},
   "source": [
    "## Model Training"
   ]
  },
  {
   "cell_type": "code",
   "execution_count": 17,
   "metadata": {
    "execution": {
     "iopub.execute_input": "2022-12-26T07:27:13.264157Z",
     "iopub.status.busy": "2022-12-26T07:27:13.262466Z",
     "iopub.status.idle": "2022-12-26T08:54:13.847187Z",
     "shell.execute_reply": "2022-12-26T08:54:13.844481Z",
     "shell.execute_reply.started": "2022-12-26T07:27:13.264089Z"
    }
   },
   "outputs": [
    {
     "name": "stderr",
     "output_type": "stream",
     "text": [
      "2022-12-26 07:27:25.984379: I tensorflow/compiler/mlir/mlir_graph_optimization_pass.cc:185] None of the MLIR Optimization Passes are enabled (registered 2)\n"
     ]
    },
    {
     "name": "stdout",
     "output_type": "stream",
     "text": [
      "Epoch 1/10\n",
      "52591/52591 [==============================] - 507s 10ms/step - loss: 0.0682 - mse: 0.1374 - val_loss: 0.0654 - val_mse: 0.1317\n",
      "Epoch 2/10\n",
      "52591/52591 [==============================] - 505s 10ms/step - loss: 0.0652 - mse: 0.1313 - val_loss: 0.0643 - val_mse: 0.1294\n",
      "Epoch 3/10\n",
      "52591/52591 [==============================] - 507s 10ms/step - loss: 0.0641 - mse: 0.1290 - val_loss: 0.0630 - val_mse: 0.1268\n",
      "Epoch 4/10\n",
      "52591/52591 [==============================] - 506s 10ms/step - loss: 0.0631 - mse: 0.1270 - val_loss: 0.0624 - val_mse: 0.1255\n",
      "Epoch 5/10\n",
      "52591/52591 [==============================] - 521s 10ms/step - loss: 0.0625 - mse: 0.1258 - val_loss: 0.0617 - val_mse: 0.1242\n",
      "Epoch 6/10\n",
      "52591/52591 [==============================] - 519s 10ms/step - loss: 0.0620 - mse: 0.1248 - val_loss: 0.0611 - val_mse: 0.1228\n",
      "Epoch 7/10\n",
      "52591/52591 [==============================] - 515s 10ms/step - loss: 0.0614 - mse: 0.1236 - val_loss: 0.0608 - val_mse: 0.1223\n",
      "Epoch 8/10\n",
      "52591/52591 [==============================] - 538s 10ms/step - loss: 0.0610 - mse: 0.1228 - val_loss: 0.0606 - val_mse: 0.1219\n",
      "Epoch 9/10\n",
      "52591/52591 [==============================] - 540s 10ms/step - loss: 0.0608 - mse: 0.1222 - val_loss: 0.0607 - val_mse: 0.1221\n",
      "Epoch 10/10\n",
      "52591/52591 [==============================] - 548s 10ms/step - loss: 0.0605 - mse: 0.1218 - val_loss: 0.0600 - val_mse: 0.1207\n"
     ]
    }
   ],
   "source": [
    "#with strategy.scope():\n",
    "hist = model.fit( [x_users_train, x_movies_train],y_train, batch_size=512, epochs=10,\n",
    "                validation_split=0.01,\n",
    "                shuffle=True)"
   ]
  },
  {
   "cell_type": "code",
   "execution_count": 18,
   "metadata": {
    "execution": {
     "iopub.execute_input": "2022-12-26T08:54:13.851893Z",
     "iopub.status.busy": "2022-12-26T08:54:13.851432Z",
     "iopub.status.idle": "2022-12-26T08:54:14.160283Z",
     "shell.execute_reply": "2022-12-26T08:54:14.159056Z",
     "shell.execute_reply.started": "2022-12-26T08:54:13.851855Z"
    }
   },
   "outputs": [
    {
     "data": {
      "image/png": "[encoded data removed]",
      "text/plain": [
       "<Figure size 432x288 with 1 Axes>"
      ]
     },
     "metadata": {
      "needs_background": "light"
     },
     "output_type": "display_data"
    }
   ],
   "source": [
    "plt.plot(range(1,len(hist.history['loss'])+1),hist.history['loss'],label=\"train_loss\")\n",
    "plt.plot(range(1,len(hist.history['val_loss'])+1),hist.history['val_loss'],label=\"val_loss\")\n",
    "plt.legend()\n",
    "plt.show()\n"
   ]
  },
  {
   "cell_type": "code",
   "execution_count": 14,
   "metadata": {
    "execution": {
     "iopub.execute_input": "2022-12-27T07:23:00.505774Z",
     "iopub.status.busy": "2022-12-27T07:23:00.505269Z",
     "iopub.status.idle": "2022-12-27T10:07:12.432674Z",
     "shell.execute_reply": "2022-12-27T10:07:12.431413Z",
     "shell.execute_reply.started": "2022-12-27T07:23:00.505733Z"
    }
   },
   "outputs": [
    {
     "name": "stderr",
     "output_type": "stream",
     "text": [
      "2022-12-27 07:23:03.779108: I tensorflow/compiler/mlir/mlir_graph_optimization_pass.cc:185] None of the MLIR Optimization Passes are enabled (registered 2)\n"
     ]
    },
    {
     "name": "stdout",
     "output_type": "stream",
     "text": [
      "Epoch 1/20\n",
      "26296/26296 [==============================] - 499s 19ms/step - loss: 0.0602 - mse: 0.1211 - val_loss: 0.0598 - val_mse: 0.1204\n",
      "Epoch 2/20\n",
      "26296/26296 [==============================] - 494s 19ms/step - loss: 0.0601 - mse: 0.1209 - val_loss: 0.0602 - val_mse: 0.1210\n",
      "Epoch 3/20\n",
      "26296/26296 [==============================] - 491s 19ms/step - loss: 0.0600 - mse: 0.1207 - val_loss: 0.0596 - val_mse: 0.1201\n",
      "Epoch 4/20\n",
      "26296/26296 [==============================] - 493s 19ms/step - loss: 0.0599 - mse: 0.1205 - val_loss: 0.0596 - val_mse: 0.1199\n",
      "Epoch 5/20\n",
      "26296/26296 [==============================] - 494s 19ms/step - loss: 0.0597 - mse: 0.1201 - val_loss: 0.0595 - val_mse: 0.1197\n",
      "Epoch 6/20\n",
      "26296/26296 [==============================] - 489s 19ms/step - loss: 0.0595 - mse: 0.1197 - val_loss: 0.0592 - val_mse: 0.1192\n",
      "Epoch 7/20\n",
      "26296/26296 [==============================] - 486s 18ms/step - loss: 0.0593 - mse: 0.1194 - val_loss: 0.0590 - val_mse: 0.1186\n",
      "Epoch 8/20\n",
      "26296/26296 [==============================] - 489s 19ms/step - loss: 0.0592 - mse: 0.1191 - val_loss: 0.0590 - val_mse: 0.1186\n",
      "Epoch 9/20\n",
      "26296/26296 [==============================] - 494s 19ms/step - loss: 0.0592 - mse: 0.1190 - val_loss: 0.0592 - val_mse: 0.1193\n",
      "Epoch 10/20\n",
      "26296/26296 [==============================] - 491s 19ms/step - loss: 0.0591 - mse: 0.1189 - val_loss: 0.0591 - val_mse: 0.1188\n",
      "Epoch 11/20\n",
      "26296/26296 [==============================] - 491s 19ms/step - loss: 0.0590 - mse: 0.1187 - val_loss: 0.0588 - val_mse: 0.1183\n",
      "Epoch 12/20\n",
      "26296/26296 [==============================] - 491s 19ms/step - loss: 0.0590 - mse: 0.1187 - val_loss: 0.0589 - val_mse: 0.1186\n",
      "Epoch 13/20\n",
      "26296/26296 [==============================] - 491s 19ms/step - loss: 0.0589 - mse: 0.1186 - val_loss: 0.0589 - val_mse: 0.1184\n",
      "Epoch 14/20\n",
      "26296/26296 [==============================] - 492s 19ms/step - loss: 0.0589 - mse: 0.1185 - val_loss: 0.0587 - val_mse: 0.1181\n",
      "Epoch 15/20\n",
      "26296/26296 [==============================] - 491s 19ms/step - loss: 0.0589 - mse: 0.1184 - val_loss: 0.0585 - val_mse: 0.1178\n",
      "Epoch 16/20\n",
      "26296/26296 [==============================] - 493s 19ms/step - loss: 0.0588 - mse: 0.1183 - val_loss: 0.0586 - val_mse: 0.1178\n",
      "Epoch 17/20\n",
      "26296/26296 [==============================] - 494s 19ms/step - loss: 0.0588 - mse: 0.1183 - val_loss: 0.0585 - val_mse: 0.1176\n",
      "Epoch 18/20\n",
      "26296/26296 [==============================] - 495s 19ms/step - loss: 0.0588 - mse: 0.1182 - val_loss: 0.0586 - val_mse: 0.1178\n",
      "Epoch 19/20\n",
      "26296/26296 [==============================] - 497s 19ms/step - loss: 0.0587 - mse: 0.1181 - val_loss: 0.0585 - val_mse: 0.1177\n",
      "Epoch 20/20\n",
      "26296/26296 [==============================] - 494s 19ms/step - loss: 0.0587 - mse: 0.1181 - val_loss: 0.0585 - val_mse: 0.1176\n"
     ]
    },
    {
     "data": {
      "image/png": "[encoded data removed]",
      "text/plain": [
       "<Figure size 432x288 with 1 Axes>"
      ]
     },
     "metadata": {
      "needs_background": "light"
     },
     "output_type": "display_data"
    }
   ],
   "source": [
    "#with strategy.scope():\n",
    "\n",
    "hist = model.fit([x_users_train, x_movies_train],y_train, batch_size=1024, epochs=20,\n",
    "                validation_split=0.01,\n",
    "                shuffle=True)\n",
    "          \n",
    "    \n",
    "plt.plot(range(11,10+len(hist.history['loss'])+1),hist.history['loss'],label=\"train_loss\")\n",
    "plt.plot(range(11,10+len(hist.history['val_loss'])+1),hist.history['val_loss'],label=\"val_loss\")\n",
    "plt.legend()\n",
    "plt.show()\n"
   ]
  },
  {
   "cell_type": "code",
   "execution_count": 15,
   "metadata": {
    "execution": {
     "iopub.execute_input": "2022-12-27T10:07:12.435551Z",
     "iopub.status.busy": "2022-12-27T10:07:12.435019Z",
     "iopub.status.idle": "2022-12-27T10:07:12.452017Z",
     "shell.execute_reply": "2022-12-27T10:07:12.450589Z",
     "shell.execute_reply.started": "2022-12-27T10:07:12.435502Z"
    }
   },
   "outputs": [],
   "source": [
    "with open(\"/kaggle/input/contentbased-filtering-movie-recommendation-model/scalerTarget.pickle\",\"rb\") as f:\n",
    "    scalerTarget = pickle.load(f)"
   ]
  },
  {
   "cell_type": "code",
   "execution_count": 18,
   "metadata": {
    "execution": {
     "iopub.execute_input": "2022-12-27T10:08:00.312446Z",
     "iopub.status.busy": "2022-12-27T10:08:00.311186Z",
     "iopub.status.idle": "2022-12-27T10:39:57.589913Z",
     "shell.execute_reply": "2022-12-27T10:39:57.588405Z",
     "shell.execute_reply.started": "2022-12-27T10:08:00.312393Z"
    }
   },
   "outputs": [
    {
     "name": "stdout",
     "output_type": "stream",
     "text": [
      "Training Data: \n",
      " ============================================\n",
      "R2 Squared:  0.4772324695690683\n",
      "Mean Absolute Percentage Error:  0.2487313330785977\n",
      "Root Mean Squared Error:  0.7710157914237927\n"
     ]
    }
   ],
   "source": [
    "y_train_pred = model.predict([x_users_train, x_movies_train])\n",
    "y_train_pred_ori = scalerTarget.inverse_transform(y_train_pred)\n",
    "y_train_true = scalerTarget.inverse_transform(y_train)\n",
    "\n",
    "r2score = r2_score( y_train_true, y_train_pred_ori)\n",
    "\n",
    "mape = mean_absolute_percentage_error( y_train_true,y_train_pred_ori)\n",
    "\n",
    "rmse = mean_squared_error(y_train_true,y_train_pred_ori ,squared=False)\n",
    "\n",
    "print(\"Training Data: \\n ============================================\")\n",
    "print(\"R2 Squared: \",r2score)\n",
    "print(\"Mean Absolute Percentage Error: \",mape)\n",
    "print(\"Root Mean Squared Error: \",rmse)"
   ]
  },
  {
   "cell_type": "markdown",
   "metadata": {},
   "source": [
    "## Evaluation"
   ]
  },
  {
   "cell_type": "code",
   "execution_count": 16,
   "metadata": {
    "execution": {
     "iopub.execute_input": "2022-12-27T10:07:12.453768Z",
     "iopub.status.busy": "2022-12-27T10:07:12.453404Z",
     "iopub.status.idle": "2022-12-27T10:07:21.242494Z",
     "shell.execute_reply": "2022-12-27T10:07:21.241321Z",
     "shell.execute_reply.started": "2022-12-27T10:07:12.453736Z"
    }
   },
   "outputs": [
    {
     "name": "stdout",
     "output_type": "stream",
     "text": [
      "10000/10000 [==============================] - 8s 811us/step - loss: 0.0585 - mse: 0.1177\n"
     ]
    },
    {
     "data": {
      "text/plain": [
       "[0.05854157730937004, 0.1177283525466919]"
      ]
     },
     "execution_count": 16,
     "metadata": {},
     "output_type": "execute_result"
    }
   ],
   "source": [
    "model.evaluate([x_users_test, x_movies_test],y_test, batch_size=256, steps=10000)"
   ]
  },
  {
   "cell_type": "code",
   "execution_count": 17,
   "metadata": {
    "execution": {
     "iopub.execute_input": "2022-12-27T10:07:21.247346Z",
     "iopub.status.busy": "2022-12-27T10:07:21.246780Z",
     "iopub.status.idle": "2022-12-27T10:08:00.309318Z",
     "shell.execute_reply": "2022-12-27T10:08:00.307950Z",
     "shell.execute_reply.started": "2022-12-27T10:07:21.247302Z"
    }
   },
   "outputs": [
    {
     "name": "stdout",
     "output_type": "stream",
     "text": [
      "Test Data: \n",
      " ============================================\n",
      "R2 Squared:  0.47490611060820553\n",
      "Mean Absolute Percentage Error:  0.24858016897731877\n",
      "Root Mean Squared Error:  0.7720097726763933\n"
     ]
    }
   ],
   "source": [
    "y_pred_test = model.predict([x_users_test, x_movies_test])\n",
    "\n",
    "r2score = r2_score(\n",
    "    scalerTarget.inverse_transform(y_test), scalerTarget.inverse_transform(y_pred_test))\n",
    "\n",
    "mape = mean_absolute_percentage_error(\n",
    "    scalerTarget.inverse_transform(y_test), scalerTarget.inverse_transform(y_pred_test))\n",
    "\n",
    "rmse = mean_squared_error(\n",
    "    scalerTarget.inverse_transform(y_test), scalerTarget.inverse_transform(y_pred_test),squared=False)\n",
    "\n",
    "print(\"Test Data: \\n ============================================\")\n",
    "print(\"R2 Squared: \",r2score)\n",
    "print(\"Mean Absolute Percentage Error: \",mape)\n",
    "print(\"Root Mean Squared Error: \",rmse)"
   ]
  },
  {
   "cell_type": "code",
   "execution_count": 22,
   "metadata": {
    "execution": {
     "iopub.execute_input": "2022-12-27T11:06:59.160032Z",
     "iopub.status.busy": "2022-12-27T11:06:59.159447Z",
     "iopub.status.idle": "2022-12-27T11:06:59.375314Z",
     "shell.execute_reply": "2022-12-27T11:06:59.373977Z",
     "shell.execute_reply.started": "2022-12-27T11:06:59.159985Z"
    }
   },
   "outputs": [
    {
     "data": {
      "text/html": [
       "<div>\n",
       "<style scoped>\n",
       "    .dataframe tbody tr th:only-of-type {\n",
       "        vertical-align: middle;\n",
       "    }\n",
       "\n",
       "    .dataframe tbody tr th {\n",
       "        vertical-align: top;\n",
       "    }\n",
       "\n",
       "    .dataframe thead th {\n",
       "        text-align: right;\n",
       "    }\n",
       "</style>\n",
       "<table border=\"1\" class=\"dataframe\">\n",
       "  <thead>\n",
       "    <tr style=\"text-align: right;\">\n",
       "      <th></th>\n",
       "      <th>y_pred</th>\n",
       "      <th>y_true</th>\n",
       "    </tr>\n",
       "  </thead>\n",
       "  <tbody>\n",
       "    <tr>\n",
       "      <th>0</th>\n",
       "      <td>[3.8003270626068115]</td>\n",
       "      <td>[4.0]</td>\n",
       "    </tr>\n",
       "    <tr>\n",
       "      <th>1</th>\n",
       "      <td>[4.4423675537109375]</td>\n",
       "      <td>[4.5]</td>\n",
       "    </tr>\n",
       "    <tr>\n",
       "      <th>2</th>\n",
       "      <td>[3.51298189163208]</td>\n",
       "      <td>[5.000000000000001]</td>\n",
       "    </tr>\n",
       "    <tr>\n",
       "      <th>3</th>\n",
       "      <td>[3.9294402599334717]</td>\n",
       "      <td>[4.0]</td>\n",
       "    </tr>\n",
       "    <tr>\n",
       "      <th>4</th>\n",
       "      <td>[4.438326835632324]</td>\n",
       "      <td>[5.000000000000001]</td>\n",
       "    </tr>\n",
       "    <tr>\n",
       "      <th>5</th>\n",
       "      <td>[2.391979217529297]</td>\n",
       "      <td>[3.0]</td>\n",
       "    </tr>\n",
       "    <tr>\n",
       "      <th>6</th>\n",
       "      <td>[3.519301414489746]</td>\n",
       "      <td>[3.0]</td>\n",
       "    </tr>\n",
       "    <tr>\n",
       "      <th>7</th>\n",
       "      <td>[2.419738531112671]</td>\n",
       "      <td>[2.5000000000000004]</td>\n",
       "    </tr>\n",
       "    <tr>\n",
       "      <th>8</th>\n",
       "      <td>[3.844350814819336]</td>\n",
       "      <td>[3.4999999999999996]</td>\n",
       "    </tr>\n",
       "    <tr>\n",
       "      <th>9</th>\n",
       "      <td>[3.0204858779907227]</td>\n",
       "      <td>[3.0]</td>\n",
       "    </tr>\n",
       "  </tbody>\n",
       "</table>\n",
       "</div>"
      ],
      "text/plain": [
       "                 y_pred                y_true\n",
       "0  [3.8003270626068115]                 [4.0]\n",
       "1  [4.4423675537109375]                 [4.5]\n",
       "2    [3.51298189163208]   [5.000000000000001]\n",
       "3  [3.9294402599334717]                 [4.0]\n",
       "4   [4.438326835632324]   [5.000000000000001]\n",
       "5   [2.391979217529297]                 [3.0]\n",
       "6   [3.519301414489746]                 [3.0]\n",
       "7   [2.419738531112671]  [2.5000000000000004]\n",
       "8   [3.844350814819336]  [3.4999999999999996]\n",
       "9  [3.0204858779907227]                 [3.0]"
      ]
     },
     "execution_count": 22,
     "metadata": {},
     "output_type": "execute_result"
    }
   ],
   "source": [
    "y_pred = model.predict([x_users_test[0:10], x_movies_test[0:10]])\n",
    "y_pred = scalerTarget.inverse_transform(y_pred)\n",
    "pd.DataFrame({\"y_pred\":y_pred.tolist(),\n",
    "             \"y_true\":scalerTarget.inverse_transform(y_test[0:10]).tolist()})"
   ]
  },
  {
   "cell_type": "code",
   "execution_count": 21,
   "metadata": {
    "execution": {
     "iopub.execute_input": "2022-12-27T11:03:34.044707Z",
     "iopub.status.busy": "2022-12-27T11:03:34.044208Z",
     "iopub.status.idle": "2022-12-27T11:03:34.115534Z",
     "shell.execute_reply": "2022-12-27T11:03:34.113855Z",
     "shell.execute_reply.started": "2022-12-27T11:03:34.044667Z"
    }
   },
   "outputs": [],
   "source": [
    "# save the model weights\n",
    "model.save_weights(\"model_weights.h5\")\n",
    "model_user.save_weights(\"model_user_weights.h5\")\n",
    "model_movie.save_weights(\"model_item_weights.h5\")"
   ]
  },
  {
   "cell_type": "code",
   "execution_count": null,
   "metadata": {},
   "outputs": [],
   "source": [
    "del x_users_train,x_movies_train\n",
    "gc.collect()"
   ]
  },
  {
   "cell_type": "markdown",
   "metadata": {},
   "source": [
    "## Prediction"
   ]
  },
  {
   "cell_type": "code",
   "execution_count": 8,
   "metadata": {
    "execution": {
     "iopub.execute_input": "2022-12-27T11:14:37.105995Z",
     "iopub.status.busy": "2022-12-27T11:14:37.105545Z",
     "iopub.status.idle": "2022-12-27T11:14:37.302316Z",
     "shell.execute_reply": "2022-12-27T11:14:37.300914Z",
     "shell.execute_reply.started": "2022-12-27T11:14:37.105961Z"
    }
   },
   "outputs": [],
   "source": [
    "model, user_NN, movie_NN = get_model()\n",
    "\n",
    "# making a separate model for outputing user feature vector\n",
    "user_inp = tf.keras.layers.Input(shape=(num_user_features))\n",
    "user_out = user_NN(user_inp)\n",
    "user_out = tf.linalg.l2_normalize(user_out,axis=1)\n",
    "\n",
    "model_user = tf.keras.Model(user_inp, user_out)\n",
    "\n",
    "# separate model to output movie feature vectors\n",
    "item_inp = tf.keras.layers.Input(shape=(num_item_features))\n",
    "item_out = movie_NN(item_inp)\n",
    "item_out = tf.linalg.l2_normalize(item_out,axis=1)\n",
    "\n",
    "model_movie = tf.keras.Model(item_inp, item_out)"
   ]
  },
  {
   "cell_type": "code",
   "execution_count": null,
   "metadata": {},
   "outputs": [],
   "source": [
    "# load the trained weights\n",
    "model.load_weights(\"/kaggle/input/contentbased-filtering-movie-recommendation-model/v1/v1/model_weights.h5\")\n",
    "model_user.load_weights(\"/kaggle/input/contentbased-filtering-movie-recommendation-model/v1/v1/model_user_weights.h5\")\n",
    "model_movie.load_weights(\"/kaggle/input/contentbased-filtering-movie-recommendation-model/v1/v1/model_item_weights.h5\")"
   ]
  },
  {
   "cell_type": "code",
   "execution_count": 9,
   "metadata": {
    "execution": {
     "iopub.execute_input": "2022-12-27T11:14:44.943117Z",
     "iopub.status.busy": "2022-12-27T11:14:44.942687Z",
     "iopub.status.idle": "2022-12-27T11:14:44.997269Z",
     "shell.execute_reply": "2022-12-27T11:14:44.995886Z",
     "shell.execute_reply.started": "2022-12-27T11:14:44.943083Z"
    }
   },
   "outputs": [],
   "source": [
    "#model.load_weights(\"/kaggle/working/model_weights.h5\")\n",
    "#model_user.load_weights(\"/kaggle/working/model_user_weights.h5\")\n",
    "#model_movie.load_weights(\"/kaggle/working/model_item_weights.h5\")"
   ]
  },
  {
   "cell_type": "code",
   "execution_count": 10,
   "metadata": {
    "execution": {
     "iopub.execute_input": "2022-12-27T11:14:49.577174Z",
     "iopub.status.busy": "2022-12-27T11:14:49.576698Z",
     "iopub.status.idle": "2022-12-27T11:15:10.969618Z",
     "shell.execute_reply": "2022-12-27T11:15:10.968110Z",
     "shell.execute_reply.started": "2022-12-27T11:14:49.577132Z"
    }
   },
   "outputs": [],
   "source": [
    "# load the movies data\n",
    "movies_df = pd.read_csv(os.path.join(data_path,\"movies.csv\"), encoding='utf-8')\n",
    "#load the ratings data\n",
    "ratings_df = pd.read_csv(os.path.join(data_path,\"ratings.csv\"), encoding='utf-8', escapechar='\"')\n",
    "##movies_df.set_index(\"movieId\",inplace=True)\n",
    "\n",
    "#load feature vectors for movie\n",
    "movie_features = pd.read_csv(\"/kaggle/input/movielensml-latest27m/movie_features.csv\")\n",
    "#load parameter vector for users\n",
    "user_features = pd.read_csv(\"/kaggle/input/movielensml-latest27m/user_features.csv\")\n",
    "user_features.set_index(\"userId\",inplace=True)\n"
   ]
  },
  {
   "cell_type": "code",
   "execution_count": 11,
   "metadata": {
    "execution": {
     "iopub.execute_input": "2022-12-27T11:15:10.972253Z",
     "iopub.status.busy": "2022-12-27T11:15:10.971839Z",
     "iopub.status.idle": "2022-12-27T11:15:10.979313Z",
     "shell.execute_reply": "2022-12-27T11:15:10.977916Z",
     "shell.execute_reply.started": "2022-12-27T11:15:10.972214Z"
    }
   },
   "outputs": [
    {
     "name": "stdout",
     "output_type": "stream",
     "text": [
      "Total Number of movies:  58098\n",
      "Total Number of uses:  283228\n"
     ]
    }
   ],
   "source": [
    "num_movies = movie_features.shape[0]\n",
    "num_users = user_features.shape[0]\n",
    "print(\"Total Number of movies: \",num_movies)\n",
    "print(\"Total Number of uses: \",num_users)"
   ]
  },
  {
   "cell_type": "code",
   "execution_count": 12,
   "metadata": {
    "execution": {
     "iopub.execute_input": "2022-12-27T11:15:10.981392Z",
     "iopub.status.busy": "2022-12-27T11:15:10.980994Z",
     "iopub.status.idle": "2022-12-27T11:15:14.950942Z",
     "shell.execute_reply": "2022-12-27T11:15:14.949701Z",
     "shell.execute_reply.started": "2022-12-27T11:15:10.981358Z"
    }
   },
   "outputs": [],
   "source": [
    "#load the scaler\n",
    "\n",
    "with open(\"/kaggle/input/contentbased-filtering-movie-recommendation-model/scalerUser.pickle\",\"rb\") as f:\n",
    "    scalerUser = pickle.load(f)\n",
    "with open(\"/kaggle/input/contentbased-filtering-movie-recommendation-model/scalerMovie.pickle\",\"rb\") as f:\n",
    "    scalerMovie = pickle.load(f)    \n",
    "with open(\"/kaggle/input/contentbased-filtering-movie-recommendation-model/scalerTarget.pickle\",\"rb\") as f:\n",
    "    scalerTarget = pickle.load(f)\n",
    "    \n",
    "with open(\"/kaggle/input/movielensml-latest27m/userToMoviesRated.pickle\",\"rb\") as f:\n",
    "    userToMoviesRated = pickle.load(f)"
   ]
  },
  {
   "cell_type": "code",
   "execution_count": 14,
   "metadata": {
    "execution": {
     "iopub.execute_input": "2022-12-27T11:15:14.961240Z",
     "iopub.status.busy": "2022-12-27T11:15:14.960722Z",
     "iopub.status.idle": "2022-12-27T11:15:14.997684Z",
     "shell.execute_reply": "2022-12-27T11:15:14.996498Z",
     "shell.execute_reply.started": "2022-12-27T11:15:14.961193Z"
    }
   },
   "outputs": [],
   "source": [
    "#scale the feature vectors for movie\n",
    "movie_vecs_scaled = movie_features.drop(columns=\"movieId\").values\n",
    "movie_vecs_scaled[:,0:2] = scalerMovie.transform(movie_features.drop(columns=\"movieId\").iloc[:,0:2])"
   ]
  },
  {
   "cell_type": "markdown",
   "metadata": {},
   "source": [
    "### Recommendation for a new USER"
   ]
  },
  {
   "cell_type": "code",
   "execution_count": 29,
   "metadata": {
    "execution": {
     "iopub.execute_input": "2022-12-27T11:08:57.840210Z",
     "iopub.status.busy": "2022-12-27T11:08:57.839800Z",
     "iopub.status.idle": "2022-12-27T11:08:57.849665Z",
     "shell.execute_reply": "2022-12-27T11:08:57.848314Z",
     "shell.execute_reply.started": "2022-12-27T11:08:57.840176Z"
    }
   },
   "outputs": [],
   "source": [
    "new_no_genres_listed = 0\n",
    "new_Action = 5\n",
    "new_Adventure = 4.5\n",
    "new_Animation = 0\n",
    "new_Children = 0\n",
    "new_Comedy = 0\n",
    "new_Crime = 0\n",
    "new_Documentary = 0\n",
    "new_Drama = 0\n",
    "new_Fantasy = 0 \n",
    "new_Film_Noir = 0\n",
    "new_Horror = 0\n",
    "new_IMAX = 0\n",
    "new_Musical = 0\n",
    "new_Mystery = 0\n",
    "new_Romance = 0\n",
    "new_Sci_Fi = 0\n",
    "new_Thriller = 0\n",
    "new_War = 0\n",
    "new_Western = 0\n",
    "\n",
    "user_vec = np.array([new_no_genres_listed, new_Action, new_Adventure,\n",
    "                     new_Animation,new_Children,new_Comedy,new_Crime, new_Documentary ,new_Drama ,\n",
    "                     new_Fantasy,new_Film_Noir,new_Horror,new_IMAX, new_Musical,new_Mystery,\n",
    "                     new_Romance, new_Sci_Fi,new_Thriller, new_War,new_Western])\n"
   ]
  },
  {
   "cell_type": "code",
   "execution_count": 30,
   "metadata": {
    "execution": {
     "iopub.execute_input": "2022-12-27T11:08:57.851551Z",
     "iopub.status.busy": "2022-12-27T11:08:57.851205Z",
     "iopub.status.idle": "2022-12-27T11:08:57.863650Z",
     "shell.execute_reply": "2022-12-27T11:08:57.861768Z",
     "shell.execute_reply.started": "2022-12-27T11:08:57.851521Z"
    }
   },
   "outputs": [],
   "source": [
    "top_N = 10\n",
    "\n",
    "def get_recommendations_new_user(user_vec, top_N, movie_vecs_scaled=movie_vecs_scaled, scalerUser=scalerUser, scalerTarget=scalerTarget):\n",
    "    # replicate the user_vector to match for the number of movies \n",
    "    user_vecs = np.tile(user_vec, (movie_features.shape[0], 1))\n",
    "\n",
    "    #scale the user vectors\n",
    "    user_vecs_scaled = scalerUser.transform(user_vecs)\n",
    "\n",
    "    y_pred = model.predict([user_vecs_scaled, movie_vecs_scaled])\n",
    "\n",
    "    #unscale the predictions\n",
    "    y_pred = scalerTarget.inverse_transform(y_pred)\n",
    "\n",
    "    # sort the movies, highest prediction first\n",
    "    sorted_idx = np.argsort(-y_pred,axis=0).reshape(-1).tolist()\n",
    "    sorted_pred = y_pred[sorted_idx]\n",
    "    sorted_movies = movies_df.iloc[sorted_idx].iloc[0:top_N]\n",
    "    sorted_movies['rating'] = sorted_pred[0:top_N]\n",
    "    \n",
    "    return sorted_movies\n"
   ]
  },
  {
   "cell_type": "code",
   "execution_count": 31,
   "metadata": {
    "execution": {
     "iopub.execute_input": "2022-12-27T11:08:57.865785Z",
     "iopub.status.busy": "2022-12-27T11:08:57.865383Z",
     "iopub.status.idle": "2022-12-27T11:08:57.881998Z",
     "shell.execute_reply": "2022-12-27T11:08:57.880783Z",
     "shell.execute_reply.started": "2022-12-27T11:08:57.865741Z"
    }
   },
   "outputs": [
    {
     "name": "stdout",
     "output_type": "stream",
     "text": [
      "Vector representation for a new user :\n",
      "[[0.  1.  0.9 0.  0.  0.  0.  0.  0.  0.  0.  0.  0.  0.  0.  0.  0.  0.\n",
      "  0.  0. ]]\n"
     ]
    }
   ],
   "source": [
    "print(\"Vector representation for a new user :\")\n",
    "print(scalerUser.transform(user_vec.reshape(1,-1)))"
   ]
  },
  {
   "cell_type": "code",
   "execution_count": 32,
   "metadata": {
    "execution": {
     "iopub.execute_input": "2022-12-27T11:08:57.886467Z",
     "iopub.status.busy": "2022-12-27T11:08:57.885778Z",
     "iopub.status.idle": "2022-12-27T11:09:01.662242Z",
     "shell.execute_reply": "2022-12-27T11:09:01.660612Z",
     "shell.execute_reply.started": "2022-12-27T11:08:57.886430Z"
    }
   },
   "outputs": [
    {
     "name": "stdout",
     "output_type": "stream",
     "text": [
      "Top 10 movie recommendations for given User:\n",
      "\n"
     ]
    },
    {
     "data": {
      "text/html": [
       "<div>\n",
       "<style scoped>\n",
       "    .dataframe tbody tr th:only-of-type {\n",
       "        vertical-align: middle;\n",
       "    }\n",
       "\n",
       "    .dataframe tbody tr th {\n",
       "        vertical-align: top;\n",
       "    }\n",
       "\n",
       "    .dataframe thead th {\n",
       "        text-align: right;\n",
       "    }\n",
       "</style>\n",
       "<table border=\"1\" class=\"dataframe\">\n",
       "  <thead>\n",
       "    <tr style=\"text-align: right;\">\n",
       "      <th></th>\n",
       "      <th>movieId</th>\n",
       "      <th>title</th>\n",
       "      <th>genres</th>\n",
       "      <th>rating</th>\n",
       "    </tr>\n",
       "  </thead>\n",
       "  <tbody>\n",
       "    <tr>\n",
       "      <th>0</th>\n",
       "      <td>166297</td>\n",
       "      <td>Bagi, the Monster of Mighty Nature (Taishizen ...</td>\n",
       "      <td>Action|Adventure|Animation</td>\n",
       "      <td>4.975091</td>\n",
       "    </tr>\n",
       "    <tr>\n",
       "      <th>1</th>\n",
       "      <td>55995</td>\n",
       "      <td>Beowulf (2007)</td>\n",
       "      <td>Action|Adventure|Animation|Fantasy|IMAX</td>\n",
       "      <td>4.968926</td>\n",
       "    </tr>\n",
       "    <tr>\n",
       "      <th>2</th>\n",
       "      <td>93766</td>\n",
       "      <td>Wrath of the Titans (2012)</td>\n",
       "      <td>Action|Adventure|Fantasy|IMAX</td>\n",
       "      <td>4.965480</td>\n",
       "    </tr>\n",
       "    <tr>\n",
       "      <th>3</th>\n",
       "      <td>106072</td>\n",
       "      <td>Thor: The Dark World (2013)</td>\n",
       "      <td>Action|Adventure|Fantasy|IMAX</td>\n",
       "      <td>4.961287</td>\n",
       "    </tr>\n",
       "    <tr>\n",
       "      <th>4</th>\n",
       "      <td>86332</td>\n",
       "      <td>Thor (2011)</td>\n",
       "      <td>Action|Adventure|Drama|Fantasy|IMAX</td>\n",
       "      <td>4.956300</td>\n",
       "    </tr>\n",
       "    <tr>\n",
       "      <th>5</th>\n",
       "      <td>86880</td>\n",
       "      <td>Pirates of the Caribbean: On Stranger Tides (2...</td>\n",
       "      <td>Action|Adventure|Fantasy|IMAX</td>\n",
       "      <td>4.953849</td>\n",
       "    </tr>\n",
       "    <tr>\n",
       "      <th>6</th>\n",
       "      <td>101112</td>\n",
       "      <td>Oz the Great and Powerful (2013)</td>\n",
       "      <td>Action|Adventure|Fantasy|IMAX</td>\n",
       "      <td>4.939826</td>\n",
       "    </tr>\n",
       "    <tr>\n",
       "      <th>7</th>\n",
       "      <td>115669</td>\n",
       "      <td>Young Detective Dee: Rise of the Sea Dragon (D...</td>\n",
       "      <td>Action|Adventure|Drama|Fantasy|Mystery|IMAX</td>\n",
       "      <td>4.933150</td>\n",
       "    </tr>\n",
       "    <tr>\n",
       "      <th>8</th>\n",
       "      <td>95475</td>\n",
       "      <td>Dragon Ball Z: Cooler's Revenge (Doragon bôru ...</td>\n",
       "      <td>Action|Adventure|Animation</td>\n",
       "      <td>4.931520</td>\n",
       "    </tr>\n",
       "    <tr>\n",
       "      <th>9</th>\n",
       "      <td>100469</td>\n",
       "      <td>Chinese Zodiac (Armour of God III) (CZ12) (2012)</td>\n",
       "      <td>Action|Adventure|IMAX</td>\n",
       "      <td>4.931441</td>\n",
       "    </tr>\n",
       "  </tbody>\n",
       "</table>\n",
       "</div>"
      ],
      "text/plain": [
       "   movieId                                              title  \\\n",
       "0   166297  Bagi, the Monster of Mighty Nature (Taishizen ...   \n",
       "1    55995                                     Beowulf (2007)   \n",
       "2    93766                         Wrath of the Titans (2012)   \n",
       "3   106072                        Thor: The Dark World (2013)   \n",
       "4    86332                                        Thor (2011)   \n",
       "5    86880  Pirates of the Caribbean: On Stranger Tides (2...   \n",
       "6   101112                   Oz the Great and Powerful (2013)   \n",
       "7   115669  Young Detective Dee: Rise of the Sea Dragon (D...   \n",
       "8    95475  Dragon Ball Z: Cooler's Revenge (Doragon bôru ...   \n",
       "9   100469   Chinese Zodiac (Armour of God III) (CZ12) (2012)   \n",
       "\n",
       "                                        genres    rating  \n",
       "0                   Action|Adventure|Animation  4.975091  \n",
       "1      Action|Adventure|Animation|Fantasy|IMAX  4.968926  \n",
       "2                Action|Adventure|Fantasy|IMAX  4.965480  \n",
       "3                Action|Adventure|Fantasy|IMAX  4.961287  \n",
       "4          Action|Adventure|Drama|Fantasy|IMAX  4.956300  \n",
       "5                Action|Adventure|Fantasy|IMAX  4.953849  \n",
       "6                Action|Adventure|Fantasy|IMAX  4.939826  \n",
       "7  Action|Adventure|Drama|Fantasy|Mystery|IMAX  4.933150  \n",
       "8                   Action|Adventure|Animation  4.931520  \n",
       "9                        Action|Adventure|IMAX  4.931441  "
      ]
     },
     "execution_count": 32,
     "metadata": {},
     "output_type": "execute_result"
    }
   ],
   "source": [
    "sorted_movies = get_recommendations_new_user(user_vec, top_N, movie_vecs_scaled, scalerUser, scalerTarget)\n",
    "\n",
    "print(f\"Top {top_N} movie recommendations for given User:\\n\")\n",
    "sorted_movies.reset_index(drop=True).head(top_N)"
   ]
  },
  {
   "cell_type": "markdown",
   "metadata": {},
   "source": [
    "* We can see that the genre of recommended movies matched with the interest of given user."
   ]
  },
  {
   "cell_type": "markdown",
   "metadata": {},
   "source": [
    "### Recommendation for existing User"
   ]
  },
  {
   "cell_type": "code",
   "execution_count": 33,
   "metadata": {
    "execution": {
     "iopub.execute_input": "2022-12-27T11:09:01.667201Z",
     "iopub.status.busy": "2022-12-27T11:09:01.666657Z",
     "iopub.status.idle": "2022-12-27T11:09:01.677237Z",
     "shell.execute_reply": "2022-12-27T11:09:01.676131Z",
     "shell.execute_reply.started": "2022-12-27T11:09:01.667161Z"
    }
   },
   "outputs": [],
   "source": [
    "def get_recommendations_existing_user(uid,top_N=10,user_features=user_features,\n",
    "                                      userToMoviesRated= userToMoviesRated, \n",
    "                                      movie_vecs_scaled=movie_vecs_scaled, \n",
    "                                      scalerUser=scalerUser,\n",
    "                                      scalerTarget=scalerTarget):\n",
    "    \n",
    "    if uid in user_features.index:\n",
    "        user_vec = user_features.iloc[uid]\n",
    "    else:\n",
    "        print(\"User Id is not in database.\")\n",
    "        return\n",
    "    \n",
    "    # get movieId already rated\n",
    "    moviesRated = userToMoviesRated[uid]\n",
    "    # replicate the user_vector to match for the number of movies \n",
    "    user_vecs = np.tile(user_vec, (movie_features.shape[0], 1))\n",
    "\n",
    "    #scale the user vectors\n",
    "    user_vecs_scaled = scalerUser.transform(user_vecs)\n",
    "\n",
    "    y_pred = model.predict([user_vecs_scaled, movie_vecs_scaled])\n",
    "\n",
    "    #unscale the predictions\n",
    "    y_pred = scalerTarget.inverse_transform(y_pred)\n",
    "\n",
    "    # sort the movies, highest prediction first\n",
    "    sorted_idx = np.argsort(-y_pred,axis=0).reshape(-1).tolist()\n",
    "    for i in moviesRated:\n",
    "        sorted_idx.remove(i-1)\n",
    "    \n",
    "    sorted_pred = y_pred[sorted_idx]\n",
    "    sorted_movies = movies_df.iloc[sorted_idx].iloc[0:top_N]\n",
    "    sorted_movies['rating'] = sorted_pred[0:top_N]\n",
    "    \n",
    "    return sorted_movies"
   ]
  },
  {
   "cell_type": "code",
   "execution_count": 34,
   "metadata": {
    "execution": {
     "iopub.execute_input": "2022-12-27T11:09:01.679714Z",
     "iopub.status.busy": "2022-12-27T11:09:01.678958Z",
     "iopub.status.idle": "2022-12-27T11:09:06.231668Z",
     "shell.execute_reply": "2022-12-27T11:09:06.230585Z",
     "shell.execute_reply.started": "2022-12-27T11:09:01.679675Z"
    }
   },
   "outputs": [
    {
     "name": "stdout",
     "output_type": "stream",
     "text": [
      "10 movie recommendations for user 1007: \n",
      "\n"
     ]
    },
    {
     "data": {
      "text/html": [
       "<div>\n",
       "<style scoped>\n",
       "    .dataframe tbody tr th:only-of-type {\n",
       "        vertical-align: middle;\n",
       "    }\n",
       "\n",
       "    .dataframe tbody tr th {\n",
       "        vertical-align: top;\n",
       "    }\n",
       "\n",
       "    .dataframe thead th {\n",
       "        text-align: right;\n",
       "    }\n",
       "</style>\n",
       "<table border=\"1\" class=\"dataframe\">\n",
       "  <thead>\n",
       "    <tr style=\"text-align: right;\">\n",
       "      <th></th>\n",
       "      <th>movieId</th>\n",
       "      <th>title</th>\n",
       "      <th>genres</th>\n",
       "      <th>rating</th>\n",
       "    </tr>\n",
       "  </thead>\n",
       "  <tbody>\n",
       "    <tr>\n",
       "      <th>0</th>\n",
       "      <td>179649</td>\n",
       "      <td>Horse Crazy (2001)</td>\n",
       "      <td>Children|Drama</td>\n",
       "      <td>4.994435</td>\n",
       "    </tr>\n",
       "    <tr>\n",
       "      <th>1</th>\n",
       "      <td>140385</td>\n",
       "      <td>A Horse for Danny (1995)</td>\n",
       "      <td>Children|Drama</td>\n",
       "      <td>4.992630</td>\n",
       "    </tr>\n",
       "    <tr>\n",
       "      <th>2</th>\n",
       "      <td>115017</td>\n",
       "      <td>Christmas Memory, A (Truman Capote's 'A Christ...</td>\n",
       "      <td>Children|Drama</td>\n",
       "      <td>4.991246</td>\n",
       "    </tr>\n",
       "    <tr>\n",
       "      <th>3</th>\n",
       "      <td>140391</td>\n",
       "      <td>Pistol: The Birth of a Legend (1991)</td>\n",
       "      <td>Children|Drama</td>\n",
       "      <td>4.990455</td>\n",
       "    </tr>\n",
       "    <tr>\n",
       "      <th>4</th>\n",
       "      <td>125287</td>\n",
       "      <td>Heidi (2005)</td>\n",
       "      <td>Children|Drama</td>\n",
       "      <td>4.987551</td>\n",
       "    </tr>\n",
       "    <tr>\n",
       "      <th>5</th>\n",
       "      <td>149328</td>\n",
       "      <td>Dreamkeeper (2003)</td>\n",
       "      <td>Children|Drama</td>\n",
       "      <td>4.985034</td>\n",
       "    </tr>\n",
       "    <tr>\n",
       "      <th>6</th>\n",
       "      <td>162378</td>\n",
       "      <td>A Thousand Men and a Baby (1997)</td>\n",
       "      <td>Drama</td>\n",
       "      <td>4.984047</td>\n",
       "    </tr>\n",
       "    <tr>\n",
       "      <th>7</th>\n",
       "      <td>147035</td>\n",
       "      <td>Baile Perfumado (1997)</td>\n",
       "      <td>Drama</td>\n",
       "      <td>4.984047</td>\n",
       "    </tr>\n",
       "    <tr>\n",
       "      <th>8</th>\n",
       "      <td>72235</td>\n",
       "      <td>Between the Devil and the Deep Blue Sea (1995)</td>\n",
       "      <td>Drama</td>\n",
       "      <td>4.981792</td>\n",
       "    </tr>\n",
       "    <tr>\n",
       "      <th>9</th>\n",
       "      <td>57038</td>\n",
       "      <td>To the Left of the Father (Lavoura Arcaica) (2...</td>\n",
       "      <td>Drama</td>\n",
       "      <td>4.981567</td>\n",
       "    </tr>\n",
       "  </tbody>\n",
       "</table>\n",
       "</div>"
      ],
      "text/plain": [
       "   movieId                                              title          genres  \\\n",
       "0   179649                                 Horse Crazy (2001)  Children|Drama   \n",
       "1   140385                           A Horse for Danny (1995)  Children|Drama   \n",
       "2   115017  Christmas Memory, A (Truman Capote's 'A Christ...  Children|Drama   \n",
       "3   140391               Pistol: The Birth of a Legend (1991)  Children|Drama   \n",
       "4   125287                                       Heidi (2005)  Children|Drama   \n",
       "5   149328                                 Dreamkeeper (2003)  Children|Drama   \n",
       "6   162378                   A Thousand Men and a Baby (1997)           Drama   \n",
       "7   147035                             Baile Perfumado (1997)           Drama   \n",
       "8    72235     Between the Devil and the Deep Blue Sea (1995)           Drama   \n",
       "9    57038  To the Left of the Father (Lavoura Arcaica) (2...           Drama   \n",
       "\n",
       "     rating  \n",
       "0  4.994435  \n",
       "1  4.992630  \n",
       "2  4.991246  \n",
       "3  4.990455  \n",
       "4  4.987551  \n",
       "5  4.985034  \n",
       "6  4.984047  \n",
       "7  4.984047  \n",
       "8  4.981792  \n",
       "9  4.981567  "
      ]
     },
     "execution_count": 34,
     "metadata": {},
     "output_type": "execute_result"
    }
   ],
   "source": [
    "top_N = 10\n",
    "uid = 1007\n",
    "\n",
    "#print(user_features.iloc[uid],\"\\n\")\n",
    "print(f\"{top_N} movie recommendations for user {uid}: \\n\")\n",
    "rmovies = get_recommendations_existing_user(uid, top_N)\n",
    "rmovies.reset_index(drop=True).head(top_N)"
   ]
  },
  {
   "cell_type": "code",
   "execution_count": 35,
   "metadata": {
    "execution": {
     "iopub.execute_input": "2022-12-27T11:09:06.235003Z",
     "iopub.status.busy": "2022-12-27T11:09:06.234006Z",
     "iopub.status.idle": "2022-12-27T11:09:06.372569Z",
     "shell.execute_reply": "2022-12-27T11:09:06.371369Z",
     "shell.execute_reply.started": "2022-12-27T11:09:06.234951Z"
    }
   },
   "outputs": [
    {
     "name": "stdout",
     "output_type": "stream",
     "text": [
      "Top 5 movies rated by user 1007\n",
      "\n"
     ]
    },
    {
     "data": {
      "text/html": [
       "<div>\n",
       "<style scoped>\n",
       "    .dataframe tbody tr th:only-of-type {\n",
       "        vertical-align: middle;\n",
       "    }\n",
       "\n",
       "    .dataframe tbody tr th {\n",
       "        vertical-align: top;\n",
       "    }\n",
       "\n",
       "    .dataframe thead th {\n",
       "        text-align: right;\n",
       "    }\n",
       "</style>\n",
       "<table border=\"1\" class=\"dataframe\">\n",
       "  <thead>\n",
       "    <tr style=\"text-align: right;\">\n",
       "      <th></th>\n",
       "      <th>userId</th>\n",
       "      <th>movieId</th>\n",
       "      <th>rating</th>\n",
       "      <th>timestamp</th>\n",
       "      <th>title</th>\n",
       "      <th>genres</th>\n",
       "    </tr>\n",
       "  </thead>\n",
       "  <tbody>\n",
       "    <tr>\n",
       "      <th>0</th>\n",
       "      <td>1007</td>\n",
       "      <td>3844</td>\n",
       "      <td>5.0</td>\n",
       "      <td>974691715</td>\n",
       "      <td>Steel Magnolias (1989)</td>\n",
       "      <td>Drama</td>\n",
       "    </tr>\n",
       "    <tr>\n",
       "      <th>1</th>\n",
       "      <td>1007</td>\n",
       "      <td>3405</td>\n",
       "      <td>5.0</td>\n",
       "      <td>974689464</td>\n",
       "      <td>Night to Remember, A (1958)</td>\n",
       "      <td>Action|Drama</td>\n",
       "    </tr>\n",
       "    <tr>\n",
       "      <th>2</th>\n",
       "      <td>1007</td>\n",
       "      <td>2599</td>\n",
       "      <td>5.0</td>\n",
       "      <td>974693558</td>\n",
       "      <td>Election (1999)</td>\n",
       "      <td>Comedy</td>\n",
       "    </tr>\n",
       "    <tr>\n",
       "      <th>3</th>\n",
       "      <td>1007</td>\n",
       "      <td>539</td>\n",
       "      <td>5.0</td>\n",
       "      <td>974690177</td>\n",
       "      <td>Sleepless in Seattle (1993)</td>\n",
       "      <td>Comedy|Drama|Romance</td>\n",
       "    </tr>\n",
       "    <tr>\n",
       "      <th>4</th>\n",
       "      <td>1007</td>\n",
       "      <td>356</td>\n",
       "      <td>5.0</td>\n",
       "      <td>974693821</td>\n",
       "      <td>Forrest Gump (1994)</td>\n",
       "      <td>Comedy|Drama|Romance|War</td>\n",
       "    </tr>\n",
       "  </tbody>\n",
       "</table>\n",
       "</div>"
      ],
      "text/plain": [
       "   userId  movieId  rating  timestamp                        title  \\\n",
       "0    1007     3844     5.0  974691715       Steel Magnolias (1989)   \n",
       "1    1007     3405     5.0  974689464  Night to Remember, A (1958)   \n",
       "2    1007     2599     5.0  974693558              Election (1999)   \n",
       "3    1007      539     5.0  974690177  Sleepless in Seattle (1993)   \n",
       "4    1007      356     5.0  974693821          Forrest Gump (1994)   \n",
       "\n",
       "                     genres  \n",
       "0                     Drama  \n",
       "1              Action|Drama  \n",
       "2                    Comedy  \n",
       "3      Comedy|Drama|Romance  \n",
       "4  Comedy|Drama|Romance|War  "
      ]
     },
     "execution_count": 35,
     "metadata": {},
     "output_type": "execute_result"
    }
   ],
   "source": [
    "print(f\"Top 5 movies rated by user {uid}\\n\")\n",
    "ratings_df[ratings_df[\"userId\"]==uid].sort_values(by=\"rating\",ascending=False).head(5).merge(movies_df,on=\"movieId\",how=\"left\")"
   ]
  },
  {
   "cell_type": "markdown",
   "metadata": {},
   "source": [
    "### Recommending Similar Movies"
   ]
  },
  {
   "cell_type": "markdown",
   "metadata": {},
   "source": [
    "Similarity Fun --> Cosine Similarity which gives output between 0 and 1.\n",
    "1 being most similar and 0 being least similar"
   ]
  },
  {
   "cell_type": "code",
   "execution_count": 15,
   "metadata": {
    "execution": {
     "iopub.execute_input": "2022-12-27T11:15:15.000389Z",
     "iopub.status.busy": "2022-12-27T11:15:14.999577Z",
     "iopub.status.idle": "2022-12-27T11:15:16.943838Z",
     "shell.execute_reply": "2022-12-27T11:15:16.942690Z",
     "shell.execute_reply.started": "2022-12-27T11:15:15.000330Z"
    }
   },
   "outputs": [],
   "source": [
    "# Movies Id are not available in serial order i.e for some movies we have no data at all.\n",
    "# So we create a dict that gives the movieId from serial no of movie and vice versa\n",
    "getMovieId = dict(movies_df['movieId'])\n",
    "# mapper to get movie index in matrix given movie id\n",
    "getMovieIdx = {value:key for key,value in getMovieId.items()}\n",
    "# mapper from title to movie index\n",
    "titleToMovieIdx = {movies_df.iloc[idx,1]:idx for idx in range(num_movies)}"
   ]
  },
  {
   "cell_type": "code",
   "execution_count": 16,
   "metadata": {
    "execution": {
     "iopub.execute_input": "2022-12-27T11:15:16.945796Z",
     "iopub.status.busy": "2022-12-27T11:15:16.945405Z",
     "iopub.status.idle": "2022-12-27T11:15:59.434893Z",
     "shell.execute_reply": "2022-12-27T11:15:59.433322Z",
     "shell.execute_reply.started": "2022-12-27T11:15:16.945760Z"
    }
   },
   "outputs": [
    {
     "name": "stderr",
     "output_type": "stream",
     "text": [
      "2022-12-27 11:15:17.065818: I tensorflow/compiler/mlir/mlir_graph_optimization_pass.cc:185] None of the MLIR Optimization Passes are enabled (registered 2)\n"
     ]
    },
    {
     "name": "stdout",
     "output_type": "stream",
     "text": [
      "(58098, 58098)\n"
     ]
    }
   ],
   "source": [
    "# getting model generated feature vectors for movies\n",
    "movie_vecs_m = model_movie.predict(movie_vecs_scaled)\n",
    "\n",
    "# store the similarity score of each movie with every other movie\n",
    "similarMovies = cosine_similarity(movie_vecs_m)\n",
    "\n",
    "#mask the diagonal scores as it represents similarity score with itself\n",
    "similarMovies = ma.masked_array(similarMovies, mask=np.identity(num_movies))\n",
    "\n",
    "print(similarMovies.shape)"
   ]
  },
  {
   "cell_type": "code",
   "execution_count": 17,
   "metadata": {
    "execution": {
     "iopub.execute_input": "2022-12-27T11:15:59.436876Z",
     "iopub.status.busy": "2022-12-27T11:15:59.436471Z",
     "iopub.status.idle": "2022-12-27T11:15:59.444410Z",
     "shell.execute_reply": "2022-12-27T11:15:59.443095Z",
     "shell.execute_reply.started": "2022-12-27T11:15:59.436839Z"
    }
   },
   "outputs": [],
   "source": [
    "def get_recommendations_movie(mtitle, top_N=10, similarMovies=similarMovies, titleToMovieIdx=titleToMovieIdx):\n",
    "    movieIdx = titleToMovieIdx[mtitle]\n",
    "    # negate the values to get highest score first\n",
    "    sorted_idx = np.argsort(-similarMovies[movieIdx])\n",
    "    \n",
    "    sorted_movies = movies_df.iloc[sorted_idx].iloc[0:top_N]\n",
    "    sorted_movies[\"similarity\"] = similarMovies[movieIdx][sorted_idx][0:top_N]\n",
    "    \n",
    "    return sorted_movies.reset_index(drop=True)\n",
    "    "
   ]
  },
  {
   "cell_type": "code",
   "execution_count": 18,
   "metadata": {
    "execution": {
     "iopub.execute_input": "2022-12-27T11:15:59.446690Z",
     "iopub.status.busy": "2022-12-27T11:15:59.446150Z",
     "iopub.status.idle": "2022-12-27T11:15:59.493911Z",
     "shell.execute_reply": "2022-12-27T11:15:59.492671Z",
     "shell.execute_reply.started": "2022-12-27T11:15:59.446639Z"
    }
   },
   "outputs": [
    {
     "name": "stdout",
     "output_type": "stream",
     "text": [
      "Similar movies to Toy Story (1995) with genre Adventure|Animation|Children|Comedy|Fantasy are:\n",
      "\n",
      "\n"
     ]
    },
    {
     "data": {
      "text/html": [
       "<div>\n",
       "<style scoped>\n",
       "    .dataframe tbody tr th:only-of-type {\n",
       "        vertical-align: middle;\n",
       "    }\n",
       "\n",
       "    .dataframe tbody tr th {\n",
       "        vertical-align: top;\n",
       "    }\n",
       "\n",
       "    .dataframe thead th {\n",
       "        text-align: right;\n",
       "    }\n",
       "</style>\n",
       "<table border=\"1\" class=\"dataframe\">\n",
       "  <thead>\n",
       "    <tr style=\"text-align: right;\">\n",
       "      <th></th>\n",
       "      <th>movieId</th>\n",
       "      <th>title</th>\n",
       "      <th>genres</th>\n",
       "      <th>similarity</th>\n",
       "    </tr>\n",
       "  </thead>\n",
       "  <tbody>\n",
       "    <tr>\n",
       "      <th>0</th>\n",
       "      <td>4886</td>\n",
       "      <td>Monsters, Inc. (2001)</td>\n",
       "      <td>Adventure|Animation|Children|Comedy|Fantasy</td>\n",
       "      <td>0.998993</td>\n",
       "    </tr>\n",
       "    <tr>\n",
       "      <th>1</th>\n",
       "      <td>3114</td>\n",
       "      <td>Toy Story 2 (1999)</td>\n",
       "      <td>Adventure|Animation|Children|Comedy|Fantasy</td>\n",
       "      <td>0.998060</td>\n",
       "    </tr>\n",
       "    <tr>\n",
       "      <th>2</th>\n",
       "      <td>166461</td>\n",
       "      <td>Moana (2016)</td>\n",
       "      <td>Adventure|Animation|Children|Comedy|Fantasy</td>\n",
       "      <td>0.987920</td>\n",
       "    </tr>\n",
       "    <tr>\n",
       "      <th>3</th>\n",
       "      <td>95311</td>\n",
       "      <td>Presto (2008)</td>\n",
       "      <td>Animation|Children|Comedy|Fantasy</td>\n",
       "      <td>0.987907</td>\n",
       "    </tr>\n",
       "    <tr>\n",
       "      <th>4</th>\n",
       "      <td>4016</td>\n",
       "      <td>Emperor's New Groove, The (2000)</td>\n",
       "      <td>Adventure|Animation|Children|Comedy|Fantasy</td>\n",
       "      <td>0.987678</td>\n",
       "    </tr>\n",
       "    <tr>\n",
       "      <th>5</th>\n",
       "      <td>6377</td>\n",
       "      <td>Finding Nemo (2003)</td>\n",
       "      <td>Adventure|Animation|Children|Comedy</td>\n",
       "      <td>0.987375</td>\n",
       "    </tr>\n",
       "    <tr>\n",
       "      <th>6</th>\n",
       "      <td>189591</td>\n",
       "      <td>Jungle Emperor Leo (1997)</td>\n",
       "      <td>Adventure|Animation|Children|Comedy</td>\n",
       "      <td>0.986690</td>\n",
       "    </tr>\n",
       "    <tr>\n",
       "      <th>7</th>\n",
       "      <td>72356</td>\n",
       "      <td>Partly Cloudy (2009)</td>\n",
       "      <td>Animation|Children|Comedy|Fantasy</td>\n",
       "      <td>0.986599</td>\n",
       "    </tr>\n",
       "    <tr>\n",
       "      <th>8</th>\n",
       "      <td>134853</td>\n",
       "      <td>Inside Out (2015)</td>\n",
       "      <td>Adventure|Animation|Children|Comedy|Drama|Fantasy</td>\n",
       "      <td>0.985408</td>\n",
       "    </tr>\n",
       "    <tr>\n",
       "      <th>9</th>\n",
       "      <td>192225</td>\n",
       "      <td>Redwall The Movie (2000)</td>\n",
       "      <td>Animation|Children|Comedy|Fantasy</td>\n",
       "      <td>0.983926</td>\n",
       "    </tr>\n",
       "  </tbody>\n",
       "</table>\n",
       "</div>"
      ],
      "text/plain": [
       "   movieId                             title  \\\n",
       "0     4886             Monsters, Inc. (2001)   \n",
       "1     3114                Toy Story 2 (1999)   \n",
       "2   166461                      Moana (2016)   \n",
       "3    95311                     Presto (2008)   \n",
       "4     4016  Emperor's New Groove, The (2000)   \n",
       "5     6377               Finding Nemo (2003)   \n",
       "6   189591         Jungle Emperor Leo (1997)   \n",
       "7    72356              Partly Cloudy (2009)   \n",
       "8   134853                 Inside Out (2015)   \n",
       "9   192225          Redwall The Movie (2000)   \n",
       "\n",
       "                                              genres  similarity  \n",
       "0        Adventure|Animation|Children|Comedy|Fantasy    0.998993  \n",
       "1        Adventure|Animation|Children|Comedy|Fantasy    0.998060  \n",
       "2        Adventure|Animation|Children|Comedy|Fantasy    0.987920  \n",
       "3                  Animation|Children|Comedy|Fantasy    0.987907  \n",
       "4        Adventure|Animation|Children|Comedy|Fantasy    0.987678  \n",
       "5                Adventure|Animation|Children|Comedy    0.987375  \n",
       "6                Adventure|Animation|Children|Comedy    0.986690  \n",
       "7                  Animation|Children|Comedy|Fantasy    0.986599  \n",
       "8  Adventure|Animation|Children|Comedy|Drama|Fantasy    0.985408  \n",
       "9                  Animation|Children|Comedy|Fantasy    0.983926  "
      ]
     },
     "execution_count": 18,
     "metadata": {},
     "output_type": "execute_result"
    }
   ],
   "source": [
    "top_N = 10\n",
    "\n",
    "movie_idx = getMovieIdx[1]\n",
    "movie_name  = movies_df.iloc[movie_idx,1]\n",
    "movie_genre = movies_df.iloc[movie_idx,2]\n",
    "print(f\"Similar movies to {movie_name} with genre {movie_genre} are:\\n\\n\")\n",
    "sorted_movies = get_recommendations_movie(movie_name, top_N)\n",
    "sorted_movies.head(top_N)"
   ]
  },
  {
   "cell_type": "code",
   "execution_count": null,
   "metadata": {},
   "outputs": [],
   "source": []
  },
  {
   "cell_type": "code",
   "execution_count": null,
   "metadata": {},
   "outputs": [],
   "source": []
  },
  {
   "cell_type": "code",
   "execution_count": null,
   "metadata": {},
   "outputs": [],
   "source": []
  },
  {
   "cell_type": "code",
   "execution_count": null,
   "metadata": {},
   "outputs": [],
   "source": []
  }
 ],
 "metadata": {
  "kernelspec": {
   "display_name": "Python 3 (ipykernel)",
   "language": "python",
   "name": "python3"
  },
  "language_info": {
   "codemirror_mode": {
    "name": "ipython",
    "version": 3
   },
   "file_extension": ".py",
   "mimetype": "text/x-python",
   "name": "python",
   "nbconvert_exporter": "python",
   "pygments_lexer": "ipython3",
   "version": "3.10.6"
  }
 },
 "nbformat": 4,
 "nbformat_minor": 4
}
